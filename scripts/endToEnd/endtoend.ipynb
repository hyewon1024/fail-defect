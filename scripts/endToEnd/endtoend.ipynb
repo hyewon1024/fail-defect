{
 "cells": [
  {
   "cell_type": "code",
   "execution_count": 17,
   "id": "cc11f4fe",
   "metadata": {},
   "outputs": [
    {
     "name": "stderr",
     "output_type": "stream",
     "text": [
      "Processing episodes:   0%|          | 0/505 [00:00<?, ?it/s]"
     ]
    },
    {
     "name": "stdout",
     "output_type": "stream",
     "text": [
      "[1/505] Processing: success_episode1_steps320\n"
     ]
    },
    {
     "name": "stderr",
     "output_type": "stream",
     "text": [
      "Processing episodes:   0%|          | 1/505 [00:00<06:12,  1.35it/s]"
     ]
    },
    {
     "name": "stdout",
     "output_type": "stream",
     "text": [
      "[2/505] Processing: success_episode2_steps316\n"
     ]
    },
    {
     "name": "stderr",
     "output_type": "stream",
     "text": [
      "Processing episodes:   0%|          | 2/505 [00:01<06:12,  1.35it/s]"
     ]
    },
    {
     "name": "stdout",
     "output_type": "stream",
     "text": [
      "[3/505] Processing: success_episode3_steps306\n"
     ]
    },
    {
     "name": "stderr",
     "output_type": "stream",
     "text": [
      "Processing episodes:   1%|          | 3/505 [00:02<06:06,  1.37it/s]"
     ]
    },
    {
     "name": "stdout",
     "output_type": "stream",
     "text": [
      "[4/505] Processing: success_episode4_steps314\n"
     ]
    },
    {
     "name": "stderr",
     "output_type": "stream",
     "text": [
      "Processing episodes:   1%|          | 4/505 [00:02<06:03,  1.38it/s]"
     ]
    },
    {
     "name": "stdout",
     "output_type": "stream",
     "text": [
      "[5/505] Processing: success_episode5_steps311\n"
     ]
    },
    {
     "name": "stderr",
     "output_type": "stream",
     "text": [
      "Processing episodes:   1%|          | 5/505 [00:03<06:03,  1.37it/s]"
     ]
    },
    {
     "name": "stdout",
     "output_type": "stream",
     "text": [
      "[6/505] Processing: success_episode6_steps308\n"
     ]
    },
    {
     "name": "stderr",
     "output_type": "stream",
     "text": [
      "Processing episodes:   1%|          | 6/505 [00:04<06:01,  1.38it/s]"
     ]
    },
    {
     "name": "stdout",
     "output_type": "stream",
     "text": [
      "[7/505] Processing: success_episode7_steps329\n"
     ]
    },
    {
     "name": "stderr",
     "output_type": "stream",
     "text": [
      "Processing episodes:   1%|▏         | 7/505 [00:05<06:07,  1.36it/s]"
     ]
    },
    {
     "name": "stdout",
     "output_type": "stream",
     "text": [
      "[8/505] Processing: success_episode8_steps308\n"
     ]
    },
    {
     "name": "stderr",
     "output_type": "stream",
     "text": [
      "Processing episodes:   2%|▏         | 8/505 [00:05<06:03,  1.37it/s]"
     ]
    },
    {
     "name": "stdout",
     "output_type": "stream",
     "text": [
      "[9/505] Processing: success_episode9_steps334\n"
     ]
    },
    {
     "name": "stderr",
     "output_type": "stream",
     "text": [
      "Processing episodes:   2%|▏         | 9/505 [00:06<06:09,  1.34it/s]"
     ]
    },
    {
     "name": "stdout",
     "output_type": "stream",
     "text": [
      "[10/505] Processing: success_episode10_steps319\n"
     ]
    },
    {
     "name": "stderr",
     "output_type": "stream",
     "text": [
      "Processing episodes:   2%|▏         | 10/505 [00:07<06:08,  1.34it/s]"
     ]
    },
    {
     "name": "stdout",
     "output_type": "stream",
     "text": [
      "[11/505] Processing: success_episode11_steps353\n"
     ]
    },
    {
     "name": "stderr",
     "output_type": "stream",
     "text": [
      "Processing episodes:   2%|▏         | 11/505 [00:08<06:20,  1.30it/s]"
     ]
    },
    {
     "name": "stdout",
     "output_type": "stream",
     "text": [
      "[12/505] Processing: success_episode12_steps318\n"
     ]
    },
    {
     "name": "stderr",
     "output_type": "stream",
     "text": [
      "Processing episodes:   2%|▏         | 12/505 [00:08<06:14,  1.32it/s]"
     ]
    },
    {
     "name": "stdout",
     "output_type": "stream",
     "text": [
      "[13/505] Processing: success_episode13_steps360\n"
     ]
    },
    {
     "name": "stderr",
     "output_type": "stream",
     "text": [
      "Processing episodes:   3%|▎         | 13/505 [00:09<06:27,  1.27it/s]"
     ]
    },
    {
     "name": "stdout",
     "output_type": "stream",
     "text": [
      "[14/505] Processing: success_episode14_steps324\n"
     ]
    },
    {
     "name": "stderr",
     "output_type": "stream",
     "text": [
      "Processing episodes:   3%|▎         | 14/505 [00:10<06:20,  1.29it/s]"
     ]
    },
    {
     "name": "stdout",
     "output_type": "stream",
     "text": [
      "[15/505] Processing: success_episode15_steps313\n"
     ]
    },
    {
     "name": "stderr",
     "output_type": "stream",
     "text": [
      "Processing episodes:   3%|▎         | 15/505 [00:11<06:13,  1.31it/s]"
     ]
    },
    {
     "name": "stdout",
     "output_type": "stream",
     "text": [
      "[16/505] Processing: success_episode16_steps325\n"
     ]
    },
    {
     "name": "stderr",
     "output_type": "stream",
     "text": [
      "Processing episodes:   3%|▎         | 16/505 [00:12<06:10,  1.32it/s]"
     ]
    },
    {
     "name": "stdout",
     "output_type": "stream",
     "text": [
      "[17/505] Processing: success_episode17_steps301\n"
     ]
    },
    {
     "name": "stderr",
     "output_type": "stream",
     "text": [
      "Processing episodes:   3%|▎         | 17/505 [00:12<06:02,  1.35it/s]"
     ]
    },
    {
     "name": "stdout",
     "output_type": "stream",
     "text": [
      "[18/505] Processing: success_episode18_steps313\n"
     ]
    },
    {
     "name": "stderr",
     "output_type": "stream",
     "text": [
      "Processing episodes:   4%|▎         | 18/505 [00:13<05:59,  1.35it/s]"
     ]
    },
    {
     "name": "stdout",
     "output_type": "stream",
     "text": [
      "[19/505] Processing: success_episode19_steps309\n"
     ]
    },
    {
     "name": "stderr",
     "output_type": "stream",
     "text": [
      "Processing episodes:   4%|▍         | 19/505 [00:14<05:53,  1.37it/s]"
     ]
    },
    {
     "name": "stdout",
     "output_type": "stream",
     "text": [
      "[20/505] Processing: success_episode20_steps316\n"
     ]
    },
    {
     "name": "stderr",
     "output_type": "stream",
     "text": [
      "Processing episodes:   4%|▍         | 20/505 [00:14<05:55,  1.37it/s]"
     ]
    },
    {
     "name": "stdout",
     "output_type": "stream",
     "text": [
      "[21/505] Processing: success_episode21_steps331\n"
     ]
    },
    {
     "name": "stderr",
     "output_type": "stream",
     "text": [
      "Processing episodes:   4%|▍         | 21/505 [00:15<06:00,  1.34it/s]"
     ]
    },
    {
     "name": "stdout",
     "output_type": "stream",
     "text": [
      "[22/505] Processing: success_episode22_steps327\n"
     ]
    },
    {
     "name": "stderr",
     "output_type": "stream",
     "text": [
      "Processing episodes:   4%|▍         | 22/505 [00:16<06:02,  1.33it/s]"
     ]
    },
    {
     "name": "stdout",
     "output_type": "stream",
     "text": [
      "[23/505] Processing: success_episode23_steps314\n"
     ]
    },
    {
     "name": "stderr",
     "output_type": "stream",
     "text": [
      "Processing episodes:   5%|▍         | 23/505 [00:17<05:58,  1.34it/s]"
     ]
    },
    {
     "name": "stdout",
     "output_type": "stream",
     "text": [
      "[24/505] Processing: success_episode24_steps308\n"
     ]
    },
    {
     "name": "stderr",
     "output_type": "stream",
     "text": [
      "Processing episodes:   5%|▍         | 24/505 [00:17<05:54,  1.36it/s]"
     ]
    },
    {
     "name": "stdout",
     "output_type": "stream",
     "text": [
      "[25/505] Processing: success_episode25_steps340\n"
     ]
    },
    {
     "name": "stderr",
     "output_type": "stream",
     "text": [
      "Processing episodes:   5%|▍         | 25/505 [00:18<06:01,  1.33it/s]"
     ]
    },
    {
     "name": "stdout",
     "output_type": "stream",
     "text": [
      "[26/505] Processing: success_episode26_steps313\n"
     ]
    },
    {
     "name": "stderr",
     "output_type": "stream",
     "text": [
      "Processing episodes:   5%|▌         | 26/505 [00:19<05:56,  1.34it/s]"
     ]
    },
    {
     "name": "stdout",
     "output_type": "stream",
     "text": [
      "[27/505] Processing: success_episode27_steps326\n"
     ]
    },
    {
     "name": "stderr",
     "output_type": "stream",
     "text": [
      "Processing episodes:   5%|▌         | 27/505 [00:20<05:58,  1.33it/s]"
     ]
    },
    {
     "name": "stdout",
     "output_type": "stream",
     "text": [
      "[28/505] Processing: success_episode28_steps333\n"
     ]
    },
    {
     "name": "stderr",
     "output_type": "stream",
     "text": [
      "Processing episodes:   6%|▌         | 28/505 [00:20<06:02,  1.32it/s]"
     ]
    },
    {
     "name": "stdout",
     "output_type": "stream",
     "text": [
      "[29/505] Processing: success_episode29_steps301\n"
     ]
    },
    {
     "name": "stderr",
     "output_type": "stream",
     "text": [
      "Processing episodes:   6%|▌         | 29/505 [00:21<05:54,  1.34it/s]"
     ]
    },
    {
     "name": "stdout",
     "output_type": "stream",
     "text": [
      "[30/505] Processing: success_episode30_steps329\n"
     ]
    },
    {
     "name": "stderr",
     "output_type": "stream",
     "text": [
      "Processing episodes:   6%|▌         | 30/505 [00:22<05:54,  1.34it/s]"
     ]
    },
    {
     "name": "stdout",
     "output_type": "stream",
     "text": [
      "[31/505] Processing: success_episode31_steps348\n"
     ]
    },
    {
     "name": "stderr",
     "output_type": "stream",
     "text": [
      "Processing episodes:   6%|▌         | 31/505 [00:23<06:03,  1.31it/s]"
     ]
    },
    {
     "name": "stdout",
     "output_type": "stream",
     "text": [
      "[32/505] Processing: success_episode32_steps314\n"
     ]
    },
    {
     "name": "stderr",
     "output_type": "stream",
     "text": [
      "Processing episodes:   6%|▋         | 32/505 [00:23<05:57,  1.32it/s]"
     ]
    },
    {
     "name": "stdout",
     "output_type": "stream",
     "text": [
      "[33/505] Processing: success_episode33_steps312\n"
     ]
    },
    {
     "name": "stderr",
     "output_type": "stream",
     "text": [
      "Processing episodes:   7%|▋         | 33/505 [00:24<05:52,  1.34it/s]"
     ]
    },
    {
     "name": "stdout",
     "output_type": "stream",
     "text": [
      "[34/505] Processing: success_episode34_steps323\n"
     ]
    },
    {
     "name": "stderr",
     "output_type": "stream",
     "text": [
      "Processing episodes:   7%|▋         | 34/505 [00:25<05:23,  1.46it/s]"
     ]
    },
    {
     "name": "stdout",
     "output_type": "stream",
     "text": [
      "[35/505] Processing: success_episode35_steps339\n"
     ]
    },
    {
     "name": "stderr",
     "output_type": "stream",
     "text": [
      "Processing episodes:   7%|▋         | 35/505 [00:25<04:54,  1.60it/s]"
     ]
    },
    {
     "name": "stdout",
     "output_type": "stream",
     "text": [
      "[36/505] Processing: success_episode36_steps331\n"
     ]
    },
    {
     "name": "stderr",
     "output_type": "stream",
     "text": [
      "Processing episodes:   7%|▋         | 36/505 [00:26<04:31,  1.72it/s]"
     ]
    },
    {
     "name": "stdout",
     "output_type": "stream",
     "text": [
      "[37/505] Processing: success_episode37_steps340\n"
     ]
    },
    {
     "name": "stderr",
     "output_type": "stream",
     "text": [
      "Processing episodes:   7%|▋         | 37/505 [00:26<04:18,  1.81it/s]"
     ]
    },
    {
     "name": "stdout",
     "output_type": "stream",
     "text": [
      "[38/505] Processing: success_episode38_steps359\n"
     ]
    },
    {
     "name": "stderr",
     "output_type": "stream",
     "text": [
      "Processing episodes:   8%|▊         | 38/505 [00:27<04:11,  1.85it/s]"
     ]
    },
    {
     "name": "stdout",
     "output_type": "stream",
     "text": [
      "[39/505] Processing: success_episode39_steps303\n"
     ]
    },
    {
     "name": "stderr",
     "output_type": "stream",
     "text": [
      "Processing episodes:   8%|▊         | 39/505 [00:27<03:55,  1.98it/s]"
     ]
    },
    {
     "name": "stdout",
     "output_type": "stream",
     "text": [
      "[40/505] Processing: success_episode40_steps310\n"
     ]
    },
    {
     "name": "stderr",
     "output_type": "stream",
     "text": [
      "Processing episodes:   8%|▊         | 40/505 [00:28<03:46,  2.06it/s]"
     ]
    },
    {
     "name": "stdout",
     "output_type": "stream",
     "text": [
      "[41/505] Processing: success_episode41_steps354\n"
     ]
    },
    {
     "name": "stderr",
     "output_type": "stream",
     "text": [
      "Processing episodes:   8%|▊         | 41/505 [00:28<03:47,  2.04it/s]"
     ]
    },
    {
     "name": "stdout",
     "output_type": "stream",
     "text": [
      "[42/505] Processing: success_episode42_steps331\n"
     ]
    },
    {
     "name": "stderr",
     "output_type": "stream",
     "text": [
      "Processing episodes:   8%|▊         | 42/505 [00:29<03:45,  2.05it/s]"
     ]
    },
    {
     "name": "stdout",
     "output_type": "stream",
     "text": [
      "[43/505] Processing: success_episode43_steps344\n"
     ]
    },
    {
     "name": "stderr",
     "output_type": "stream",
     "text": [
      "Processing episodes:   9%|▊         | 43/505 [00:29<03:45,  2.05it/s]"
     ]
    },
    {
     "name": "stdout",
     "output_type": "stream",
     "text": [
      "[44/505] Processing: success_episode44_steps309\n"
     ]
    },
    {
     "name": "stderr",
     "output_type": "stream",
     "text": [
      "Processing episodes:   9%|▊         | 44/505 [00:29<03:38,  2.11it/s]"
     ]
    },
    {
     "name": "stdout",
     "output_type": "stream",
     "text": [
      "[45/505] Processing: success_episode45_steps349\n"
     ]
    },
    {
     "name": "stderr",
     "output_type": "stream",
     "text": [
      "Processing episodes:   9%|▉         | 45/505 [00:30<03:40,  2.09it/s]"
     ]
    },
    {
     "name": "stdout",
     "output_type": "stream",
     "text": [
      "[46/505] Processing: success_episode46_steps306\n"
     ]
    },
    {
     "name": "stderr",
     "output_type": "stream",
     "text": [
      "Processing episodes:   9%|▉         | 46/505 [00:30<03:34,  2.14it/s]"
     ]
    },
    {
     "name": "stdout",
     "output_type": "stream",
     "text": [
      "[47/505] Processing: success_episode47_steps303\n"
     ]
    },
    {
     "name": "stderr",
     "output_type": "stream",
     "text": [
      "Processing episodes:   9%|▉         | 47/505 [00:31<03:28,  2.19it/s]"
     ]
    },
    {
     "name": "stdout",
     "output_type": "stream",
     "text": [
      "[48/505] Processing: success_episode48_steps308\n"
     ]
    },
    {
     "name": "stderr",
     "output_type": "stream",
     "text": [
      "Processing episodes:  10%|▉         | 48/505 [00:31<03:29,  2.18it/s]"
     ]
    },
    {
     "name": "stdout",
     "output_type": "stream",
     "text": [
      "[49/505] Processing: success_episode49_steps306\n"
     ]
    },
    {
     "name": "stderr",
     "output_type": "stream",
     "text": [
      "Processing episodes:  10%|▉         | 49/505 [00:32<03:26,  2.21it/s]"
     ]
    },
    {
     "name": "stdout",
     "output_type": "stream",
     "text": [
      "[50/505] Processing: success_episode50_steps326\n"
     ]
    },
    {
     "name": "stderr",
     "output_type": "stream",
     "text": [
      "Processing episodes:  10%|▉         | 50/505 [00:32<03:28,  2.18it/s]"
     ]
    },
    {
     "name": "stdout",
     "output_type": "stream",
     "text": [
      "[51/505] Processing: success_episode51_steps353\n"
     ]
    },
    {
     "name": "stderr",
     "output_type": "stream",
     "text": [
      "Processing episodes:  10%|█         | 51/505 [00:33<03:34,  2.12it/s]"
     ]
    },
    {
     "name": "stdout",
     "output_type": "stream",
     "text": [
      "[52/505] Processing: success_episode52_steps342\n"
     ]
    },
    {
     "name": "stderr",
     "output_type": "stream",
     "text": [
      "Processing episodes:  10%|█         | 52/505 [00:33<03:37,  2.08it/s]"
     ]
    },
    {
     "name": "stdout",
     "output_type": "stream",
     "text": [
      "[53/505] Processing: success_episode53_steps346\n"
     ]
    },
    {
     "name": "stderr",
     "output_type": "stream",
     "text": [
      "Processing episodes:  10%|█         | 53/505 [00:34<03:40,  2.05it/s]"
     ]
    },
    {
     "name": "stdout",
     "output_type": "stream",
     "text": [
      "[54/505] Processing: success_episode54_steps312\n"
     ]
    },
    {
     "name": "stderr",
     "output_type": "stream",
     "text": [
      "Processing episodes:  11%|█         | 54/505 [00:34<03:34,  2.10it/s]"
     ]
    },
    {
     "name": "stdout",
     "output_type": "stream",
     "text": [
      "[55/505] Processing: success_episode55_steps305\n"
     ]
    },
    {
     "name": "stderr",
     "output_type": "stream",
     "text": [
      "Processing episodes:  11%|█         | 55/505 [00:35<03:28,  2.16it/s]"
     ]
    },
    {
     "name": "stdout",
     "output_type": "stream",
     "text": [
      "[56/505] Processing: success_episode56_steps318\n"
     ]
    },
    {
     "name": "stderr",
     "output_type": "stream",
     "text": [
      "Processing episodes:  11%|█         | 56/505 [00:35<03:26,  2.18it/s]"
     ]
    },
    {
     "name": "stdout",
     "output_type": "stream",
     "text": [
      "[57/505] Processing: success_episode57_steps334\n"
     ]
    },
    {
     "name": "stderr",
     "output_type": "stream",
     "text": [
      "Processing episodes:  11%|█▏        | 57/505 [00:36<03:28,  2.15it/s]"
     ]
    },
    {
     "name": "stdout",
     "output_type": "stream",
     "text": [
      "[58/505] Processing: success_episode58_steps331\n"
     ]
    },
    {
     "name": "stderr",
     "output_type": "stream",
     "text": [
      "Processing episodes:  11%|█▏        | 58/505 [00:36<03:29,  2.14it/s]"
     ]
    },
    {
     "name": "stdout",
     "output_type": "stream",
     "text": [
      "[59/505] Processing: success_episode59_steps336\n"
     ]
    },
    {
     "name": "stderr",
     "output_type": "stream",
     "text": [
      "Processing episodes:  12%|█▏        | 59/505 [00:36<03:31,  2.11it/s]"
     ]
    },
    {
     "name": "stdout",
     "output_type": "stream",
     "text": [
      "[60/505] Processing: success_episode60_steps315\n"
     ]
    },
    {
     "name": "stderr",
     "output_type": "stream",
     "text": [
      "Processing episodes:  12%|█▏        | 60/505 [00:37<03:27,  2.14it/s]"
     ]
    },
    {
     "name": "stdout",
     "output_type": "stream",
     "text": [
      "[61/505] Processing: success_episode61_steps325\n"
     ]
    },
    {
     "name": "stderr",
     "output_type": "stream",
     "text": [
      "Processing episodes:  12%|█▏        | 61/505 [00:37<03:27,  2.14it/s]"
     ]
    },
    {
     "name": "stdout",
     "output_type": "stream",
     "text": [
      "[62/505] Processing: success_episode62_steps340\n"
     ]
    },
    {
     "name": "stderr",
     "output_type": "stream",
     "text": [
      "Processing episodes:  12%|█▏        | 62/505 [00:38<03:29,  2.12it/s]"
     ]
    },
    {
     "name": "stdout",
     "output_type": "stream",
     "text": [
      "[63/505] Processing: success_episode63_steps313\n"
     ]
    },
    {
     "name": "stderr",
     "output_type": "stream",
     "text": [
      "Processing episodes:  12%|█▏        | 63/505 [00:38<03:25,  2.15it/s]"
     ]
    },
    {
     "name": "stdout",
     "output_type": "stream",
     "text": [
      "[64/505] Processing: success_episode64_steps321\n"
     ]
    },
    {
     "name": "stderr",
     "output_type": "stream",
     "text": [
      "Processing episodes:  13%|█▎        | 64/505 [00:39<03:24,  2.15it/s]"
     ]
    },
    {
     "name": "stdout",
     "output_type": "stream",
     "text": [
      "[65/505] Processing: success_episode65_steps314\n"
     ]
    },
    {
     "name": "stderr",
     "output_type": "stream",
     "text": [
      "Processing episodes:  13%|█▎        | 65/505 [00:39<03:22,  2.17it/s]"
     ]
    },
    {
     "name": "stdout",
     "output_type": "stream",
     "text": [
      "[66/505] Processing: success_episode66_steps309\n"
     ]
    },
    {
     "name": "stderr",
     "output_type": "stream",
     "text": [
      "Processing episodes:  13%|█▎        | 66/505 [00:40<03:19,  2.20it/s]"
     ]
    },
    {
     "name": "stdout",
     "output_type": "stream",
     "text": [
      "[67/505] Processing: success_episode67_steps309\n"
     ]
    },
    {
     "name": "stderr",
     "output_type": "stream",
     "text": [
      "Processing episodes:  13%|█▎        | 67/505 [00:40<03:18,  2.21it/s]"
     ]
    },
    {
     "name": "stdout",
     "output_type": "stream",
     "text": [
      "[68/505] Processing: success_episode68_steps310\n"
     ]
    },
    {
     "name": "stderr",
     "output_type": "stream",
     "text": [
      "Processing episodes:  13%|█▎        | 68/505 [00:41<03:16,  2.23it/s]"
     ]
    },
    {
     "name": "stdout",
     "output_type": "stream",
     "text": [
      "[69/505] Processing: success_episode69_steps313\n"
     ]
    },
    {
     "name": "stderr",
     "output_type": "stream",
     "text": [
      "Processing episodes:  14%|█▎        | 69/505 [00:41<03:15,  2.23it/s]"
     ]
    },
    {
     "name": "stdout",
     "output_type": "stream",
     "text": [
      "[70/505] Processing: success_episode70_steps315\n"
     ]
    },
    {
     "name": "stderr",
     "output_type": "stream",
     "text": [
      "Processing episodes:  14%|█▍        | 70/505 [00:42<03:52,  1.87it/s]"
     ]
    },
    {
     "name": "stdout",
     "output_type": "stream",
     "text": [
      "[71/505] Processing: success_episode71_steps316\n"
     ]
    },
    {
     "name": "stderr",
     "output_type": "stream",
     "text": [
      "Processing episodes:  14%|█▍        | 71/505 [00:42<04:19,  1.68it/s]"
     ]
    },
    {
     "name": "stdout",
     "output_type": "stream",
     "text": [
      "[72/505] Processing: success_episode72_steps351\n"
     ]
    },
    {
     "name": "stderr",
     "output_type": "stream",
     "text": [
      "Processing episodes:  14%|█▍        | 72/505 [00:43<04:48,  1.50it/s]"
     ]
    },
    {
     "name": "stdout",
     "output_type": "stream",
     "text": [
      "[73/505] Processing: success_episode73_steps305\n"
     ]
    },
    {
     "name": "stderr",
     "output_type": "stream",
     "text": [
      "Processing episodes:  14%|█▍        | 73/505 [00:44<04:18,  1.67it/s]"
     ]
    },
    {
     "name": "stdout",
     "output_type": "stream",
     "text": [
      "[74/505] Processing: success_episode74_steps335\n"
     ]
    },
    {
     "name": "stderr",
     "output_type": "stream",
     "text": [
      "Processing episodes:  15%|█▍        | 74/505 [00:44<04:07,  1.74it/s]"
     ]
    },
    {
     "name": "stdout",
     "output_type": "stream",
     "text": [
      "[75/505] Processing: success_episode75_steps319\n"
     ]
    },
    {
     "name": "stderr",
     "output_type": "stream",
     "text": [
      "Processing episodes:  15%|█▍        | 75/505 [00:45<03:51,  1.86it/s]"
     ]
    },
    {
     "name": "stdout",
     "output_type": "stream",
     "text": [
      "[76/505] Processing: success_episode76_steps343\n"
     ]
    },
    {
     "name": "stderr",
     "output_type": "stream",
     "text": [
      "Processing episodes:  15%|█▌        | 76/505 [00:45<03:45,  1.90it/s]"
     ]
    },
    {
     "name": "stdout",
     "output_type": "stream",
     "text": [
      "[77/505] Processing: success_episode77_steps327\n"
     ]
    },
    {
     "name": "stderr",
     "output_type": "stream",
     "text": [
      "Processing episodes:  15%|█▌        | 77/505 [00:46<03:37,  1.97it/s]"
     ]
    },
    {
     "name": "stdout",
     "output_type": "stream",
     "text": [
      "[78/505] Processing: success_episode78_steps318\n"
     ]
    },
    {
     "name": "stderr",
     "output_type": "stream",
     "text": [
      "Processing episodes:  15%|█▌        | 78/505 [00:46<03:29,  2.03it/s]"
     ]
    },
    {
     "name": "stdout",
     "output_type": "stream",
     "text": [
      "[79/505] Processing: success_episode79_steps327\n"
     ]
    },
    {
     "name": "stderr",
     "output_type": "stream",
     "text": [
      "Processing episodes:  16%|█▌        | 79/505 [00:47<03:26,  2.06it/s]"
     ]
    },
    {
     "name": "stdout",
     "output_type": "stream",
     "text": [
      "[80/505] Processing: success_episode80_steps310\n"
     ]
    },
    {
     "name": "stderr",
     "output_type": "stream",
     "text": [
      "Processing episodes:  16%|█▌        | 80/505 [00:47<03:20,  2.12it/s]"
     ]
    },
    {
     "name": "stdout",
     "output_type": "stream",
     "text": [
      "[81/505] Processing: success_episode81_steps332\n"
     ]
    },
    {
     "name": "stderr",
     "output_type": "stream",
     "text": [
      "Processing episodes:  16%|█▌        | 81/505 [00:48<03:20,  2.11it/s]"
     ]
    },
    {
     "name": "stdout",
     "output_type": "stream",
     "text": [
      "[82/505] Processing: success_episode82_steps320\n"
     ]
    },
    {
     "name": "stderr",
     "output_type": "stream",
     "text": [
      "Processing episodes:  16%|█▌        | 82/505 [00:48<03:17,  2.14it/s]"
     ]
    },
    {
     "name": "stdout",
     "output_type": "stream",
     "text": [
      "[83/505] Processing: success_episode83_steps307\n"
     ]
    },
    {
     "name": "stderr",
     "output_type": "stream",
     "text": [
      "Processing episodes:  16%|█▋        | 83/505 [00:48<03:13,  2.18it/s]"
     ]
    },
    {
     "name": "stdout",
     "output_type": "stream",
     "text": [
      "[84/505] Processing: success_episode84_steps304\n"
     ]
    },
    {
     "name": "stderr",
     "output_type": "stream",
     "text": [
      "Processing episodes:  17%|█▋        | 84/505 [00:49<03:09,  2.22it/s]"
     ]
    },
    {
     "name": "stdout",
     "output_type": "stream",
     "text": [
      "[85/505] Processing: success_episode85_steps308\n"
     ]
    },
    {
     "name": "stderr",
     "output_type": "stream",
     "text": [
      "Processing episodes:  17%|█▋        | 85/505 [00:49<03:09,  2.22it/s]"
     ]
    },
    {
     "name": "stdout",
     "output_type": "stream",
     "text": [
      "[86/505] Processing: success_episode86_steps336\n"
     ]
    },
    {
     "name": "stderr",
     "output_type": "stream",
     "text": [
      "Processing episodes:  17%|█▋        | 86/505 [00:50<03:13,  2.17it/s]"
     ]
    },
    {
     "name": "stdout",
     "output_type": "stream",
     "text": [
      "[87/505] Processing: success_episode87_steps323\n"
     ]
    },
    {
     "name": "stderr",
     "output_type": "stream",
     "text": [
      "Processing episodes:  17%|█▋        | 87/505 [00:50<03:12,  2.17it/s]"
     ]
    },
    {
     "name": "stdout",
     "output_type": "stream",
     "text": [
      "[88/505] Processing: success_episode88_steps314\n"
     ]
    },
    {
     "name": "stderr",
     "output_type": "stream",
     "text": [
      "Processing episodes:  17%|█▋        | 88/505 [00:51<03:10,  2.19it/s]"
     ]
    },
    {
     "name": "stdout",
     "output_type": "stream",
     "text": [
      "[89/505] Processing: success_episode89_steps309\n"
     ]
    },
    {
     "name": "stderr",
     "output_type": "stream",
     "text": [
      "Processing episodes:  18%|█▊        | 89/505 [00:51<03:07,  2.21it/s]"
     ]
    },
    {
     "name": "stdout",
     "output_type": "stream",
     "text": [
      "[90/505] Processing: success_episode90_steps364\n"
     ]
    },
    {
     "name": "stderr",
     "output_type": "stream",
     "text": [
      "Processing episodes:  18%|█▊        | 90/505 [00:52<03:17,  2.10it/s]"
     ]
    },
    {
     "name": "stdout",
     "output_type": "stream",
     "text": [
      "[91/505] Processing: success_episode91_steps326\n"
     ]
    },
    {
     "name": "stderr",
     "output_type": "stream",
     "text": [
      "Processing episodes:  18%|█▊        | 91/505 [00:52<03:16,  2.10it/s]"
     ]
    },
    {
     "name": "stdout",
     "output_type": "stream",
     "text": [
      "[92/505] Processing: success_episode92_steps321\n"
     ]
    },
    {
     "name": "stderr",
     "output_type": "stream",
     "text": [
      "Processing episodes:  18%|█▊        | 92/505 [00:53<03:14,  2.12it/s]"
     ]
    },
    {
     "name": "stdout",
     "output_type": "stream",
     "text": [
      "[93/505] Processing: success_episode93_steps316\n"
     ]
    },
    {
     "name": "stderr",
     "output_type": "stream",
     "text": [
      "Processing episodes:  18%|█▊        | 93/505 [00:53<03:11,  2.15it/s]"
     ]
    },
    {
     "name": "stdout",
     "output_type": "stream",
     "text": [
      "[94/505] Processing: success_episode94_steps316\n"
     ]
    },
    {
     "name": "stderr",
     "output_type": "stream",
     "text": [
      "Processing episodes:  19%|█▊        | 94/505 [00:54<03:10,  2.16it/s]"
     ]
    },
    {
     "name": "stdout",
     "output_type": "stream",
     "text": [
      "[95/505] Processing: success_episode95_steps320\n"
     ]
    },
    {
     "name": "stderr",
     "output_type": "stream",
     "text": [
      "Processing episodes:  19%|█▉        | 95/505 [00:54<03:09,  2.17it/s]"
     ]
    },
    {
     "name": "stdout",
     "output_type": "stream",
     "text": [
      "[96/505] Processing: success_episode96_steps355\n"
     ]
    },
    {
     "name": "stderr",
     "output_type": "stream",
     "text": [
      "Processing episodes:  19%|█▉        | 96/505 [00:54<03:15,  2.09it/s]"
     ]
    },
    {
     "name": "stdout",
     "output_type": "stream",
     "text": [
      "[97/505] Processing: success_episode97_steps324\n"
     ]
    },
    {
     "name": "stderr",
     "output_type": "stream",
     "text": [
      "Processing episodes:  19%|█▉        | 97/505 [00:55<03:17,  2.07it/s]"
     ]
    },
    {
     "name": "stdout",
     "output_type": "stream",
     "text": [
      "[98/505] Processing: success_episode98_steps331\n"
     ]
    },
    {
     "name": "stderr",
     "output_type": "stream",
     "text": [
      "Processing episodes:  19%|█▉        | 98/505 [00:55<03:15,  2.08it/s]"
     ]
    },
    {
     "name": "stdout",
     "output_type": "stream",
     "text": [
      "[99/505] Processing: success_episode99_steps369\n"
     ]
    },
    {
     "name": "stderr",
     "output_type": "stream",
     "text": [
      "Processing episodes:  20%|█▉        | 99/505 [00:56<03:19,  2.03it/s]"
     ]
    },
    {
     "name": "stdout",
     "output_type": "stream",
     "text": [
      "[100/505] Processing: success_episode100_steps342\n"
     ]
    },
    {
     "name": "stderr",
     "output_type": "stream",
     "text": [
      "Processing episodes:  20%|█▉        | 100/505 [00:57<03:56,  1.71it/s]"
     ]
    },
    {
     "name": "stdout",
     "output_type": "stream",
     "text": [
      "[101/505] Processing: success_episode101_steps355\n"
     ]
    },
    {
     "name": "stderr",
     "output_type": "stream",
     "text": [
      "Processing episodes:  20%|██        | 101/505 [00:57<04:11,  1.60it/s]"
     ]
    },
    {
     "name": "stdout",
     "output_type": "stream",
     "text": [
      "[102/505] Processing: success_episode102_steps308\n"
     ]
    },
    {
     "name": "stderr",
     "output_type": "stream",
     "text": [
      "Processing episodes:  20%|██        | 102/505 [00:58<04:23,  1.53it/s]"
     ]
    },
    {
     "name": "stdout",
     "output_type": "stream",
     "text": [
      "[103/505] Processing: success_episode103_steps307\n"
     ]
    },
    {
     "name": "stderr",
     "output_type": "stream",
     "text": [
      "Processing episodes:  20%|██        | 103/505 [00:59<04:29,  1.49it/s]"
     ]
    },
    {
     "name": "stdout",
     "output_type": "stream",
     "text": [
      "[104/505] Processing: success_episode104_steps312\n"
     ]
    },
    {
     "name": "stderr",
     "output_type": "stream",
     "text": [
      "Processing episodes:  21%|██        | 104/505 [01:00<04:36,  1.45it/s]"
     ]
    },
    {
     "name": "stdout",
     "output_type": "stream",
     "text": [
      "[105/505] Processing: success_episode105_steps330\n"
     ]
    },
    {
     "name": "stderr",
     "output_type": "stream",
     "text": [
      "Processing episodes:  21%|██        | 105/505 [01:00<04:44,  1.40it/s]"
     ]
    },
    {
     "name": "stdout",
     "output_type": "stream",
     "text": [
      "[106/505] Processing: success_episode106_steps307\n"
     ]
    },
    {
     "name": "stderr",
     "output_type": "stream",
     "text": [
      "Processing episodes:  21%|██        | 106/505 [01:01<04:45,  1.40it/s]"
     ]
    },
    {
     "name": "stdout",
     "output_type": "stream",
     "text": [
      "[107/505] Processing: success_episode107_steps312\n"
     ]
    },
    {
     "name": "stderr",
     "output_type": "stream",
     "text": [
      "Processing episodes:  21%|██        | 107/505 [01:02<04:46,  1.39it/s]"
     ]
    },
    {
     "name": "stdout",
     "output_type": "stream",
     "text": [
      "[108/505] Processing: success_episode108_steps339\n"
     ]
    },
    {
     "name": "stderr",
     "output_type": "stream",
     "text": [
      "Processing episodes:  21%|██▏       | 108/505 [01:03<04:53,  1.35it/s]"
     ]
    },
    {
     "name": "stdout",
     "output_type": "stream",
     "text": [
      "[109/505] Processing: success_episode109_steps332\n"
     ]
    },
    {
     "name": "stderr",
     "output_type": "stream",
     "text": [
      "Processing episodes:  22%|██▏       | 109/505 [01:03<04:56,  1.33it/s]"
     ]
    },
    {
     "name": "stdout",
     "output_type": "stream",
     "text": [
      "[110/505] Processing: success_episode110_steps373\n"
     ]
    },
    {
     "name": "stderr",
     "output_type": "stream",
     "text": [
      "Processing episodes:  22%|██▏       | 110/505 [01:04<05:09,  1.27it/s]"
     ]
    },
    {
     "name": "stdout",
     "output_type": "stream",
     "text": [
      "[111/505] Processing: success_episode111_steps332\n"
     ]
    },
    {
     "name": "stderr",
     "output_type": "stream",
     "text": [
      "Processing episodes:  22%|██▏       | 111/505 [01:05<04:32,  1.45it/s]"
     ]
    },
    {
     "name": "stdout",
     "output_type": "stream",
     "text": [
      "[112/505] Processing: success_episode112_steps303\n"
     ]
    },
    {
     "name": "stderr",
     "output_type": "stream",
     "text": [
      "Processing episodes:  22%|██▏       | 112/505 [01:05<04:01,  1.63it/s]"
     ]
    },
    {
     "name": "stdout",
     "output_type": "stream",
     "text": [
      "[113/505] Processing: success_episode113_steps324\n"
     ]
    },
    {
     "name": "stderr",
     "output_type": "stream",
     "text": [
      "Processing episodes:  22%|██▏       | 113/505 [01:06<03:42,  1.76it/s]"
     ]
    },
    {
     "name": "stdout",
     "output_type": "stream",
     "text": [
      "[114/505] Processing: success_episode114_steps304\n"
     ]
    },
    {
     "name": "stderr",
     "output_type": "stream",
     "text": [
      "Processing episodes:  23%|██▎       | 114/505 [01:06<03:25,  1.90it/s]"
     ]
    },
    {
     "name": "stdout",
     "output_type": "stream",
     "text": [
      "[115/505] Processing: success_episode115_steps311\n"
     ]
    },
    {
     "name": "stderr",
     "output_type": "stream",
     "text": [
      "Processing episodes:  23%|██▎       | 115/505 [01:07<03:15,  1.99it/s]"
     ]
    },
    {
     "name": "stdout",
     "output_type": "stream",
     "text": [
      "[116/505] Processing: success_episode116_steps312\n"
     ]
    },
    {
     "name": "stderr",
     "output_type": "stream",
     "text": [
      "Processing episodes:  23%|██▎       | 116/505 [01:07<03:08,  2.06it/s]"
     ]
    },
    {
     "name": "stdout",
     "output_type": "stream",
     "text": [
      "[117/505] Processing: success_episode117_steps308\n"
     ]
    },
    {
     "name": "stderr",
     "output_type": "stream",
     "text": [
      "Processing episodes:  23%|██▎       | 117/505 [01:07<03:03,  2.12it/s]"
     ]
    },
    {
     "name": "stdout",
     "output_type": "stream",
     "text": [
      "[118/505] Processing: success_episode118_steps332\n"
     ]
    },
    {
     "name": "stderr",
     "output_type": "stream",
     "text": [
      "Processing episodes:  23%|██▎       | 118/505 [01:08<03:02,  2.12it/s]"
     ]
    },
    {
     "name": "stdout",
     "output_type": "stream",
     "text": [
      "[119/505] Processing: success_episode119_steps313\n"
     ]
    },
    {
     "name": "stderr",
     "output_type": "stream",
     "text": [
      "Processing episodes:  24%|██▎       | 119/505 [01:08<02:59,  2.16it/s]"
     ]
    },
    {
     "name": "stdout",
     "output_type": "stream",
     "text": [
      "[120/505] Processing: success_episode120_steps310\n"
     ]
    },
    {
     "name": "stderr",
     "output_type": "stream",
     "text": [
      "Processing episodes:  24%|██▍       | 120/505 [01:09<02:55,  2.20it/s]"
     ]
    },
    {
     "name": "stdout",
     "output_type": "stream",
     "text": [
      "[121/505] Processing: success_episode121_steps318\n"
     ]
    },
    {
     "name": "stderr",
     "output_type": "stream",
     "text": [
      "Processing episodes:  24%|██▍       | 121/505 [01:09<02:54,  2.20it/s]"
     ]
    },
    {
     "name": "stdout",
     "output_type": "stream",
     "text": [
      "[122/505] Processing: success_episode122_steps314\n"
     ]
    },
    {
     "name": "stderr",
     "output_type": "stream",
     "text": [
      "Processing episodes:  24%|██▍       | 122/505 [01:10<02:56,  2.17it/s]"
     ]
    },
    {
     "name": "stdout",
     "output_type": "stream",
     "text": [
      "[123/505] Processing: success_episode123_steps333\n"
     ]
    },
    {
     "name": "stderr",
     "output_type": "stream",
     "text": [
      "Processing episodes:  24%|██▍       | 123/505 [01:10<02:58,  2.14it/s]"
     ]
    },
    {
     "name": "stdout",
     "output_type": "stream",
     "text": [
      "[124/505] Processing: success_episode124_steps344\n"
     ]
    },
    {
     "name": "stderr",
     "output_type": "stream",
     "text": [
      "Processing episodes:  25%|██▍       | 124/505 [01:11<03:00,  2.11it/s]"
     ]
    },
    {
     "name": "stdout",
     "output_type": "stream",
     "text": [
      "[125/505] Processing: success_episode125_steps318\n"
     ]
    },
    {
     "name": "stderr",
     "output_type": "stream",
     "text": [
      "Processing episodes:  25%|██▍       | 125/505 [01:11<02:57,  2.14it/s]"
     ]
    },
    {
     "name": "stdout",
     "output_type": "stream",
     "text": [
      "[126/505] Processing: success_episode126_steps329\n"
     ]
    },
    {
     "name": "stderr",
     "output_type": "stream",
     "text": [
      "Processing episodes:  25%|██▍       | 126/505 [01:12<02:57,  2.14it/s]"
     ]
    },
    {
     "name": "stdout",
     "output_type": "stream",
     "text": [
      "[127/505] Processing: success_episode127_steps314\n"
     ]
    },
    {
     "name": "stderr",
     "output_type": "stream",
     "text": [
      "Processing episodes:  25%|██▌       | 127/505 [01:12<02:54,  2.16it/s]"
     ]
    },
    {
     "name": "stdout",
     "output_type": "stream",
     "text": [
      "[128/505] Processing: success_episode128_steps312\n"
     ]
    },
    {
     "name": "stderr",
     "output_type": "stream",
     "text": [
      "Processing episodes:  25%|██▌       | 128/505 [01:13<02:52,  2.18it/s]"
     ]
    },
    {
     "name": "stdout",
     "output_type": "stream",
     "text": [
      "[129/505] Processing: success_episode129_steps311\n"
     ]
    },
    {
     "name": "stderr",
     "output_type": "stream",
     "text": [
      "Processing episodes:  26%|██▌       | 129/505 [01:13<02:50,  2.20it/s]"
     ]
    },
    {
     "name": "stdout",
     "output_type": "stream",
     "text": [
      "[130/505] Processing: success_episode130_steps330\n"
     ]
    },
    {
     "name": "stderr",
     "output_type": "stream",
     "text": [
      "Processing episodes:  26%|██▌       | 130/505 [01:13<02:52,  2.18it/s]"
     ]
    },
    {
     "name": "stdout",
     "output_type": "stream",
     "text": [
      "[131/505] Processing: success_episode131_steps310\n"
     ]
    },
    {
     "name": "stderr",
     "output_type": "stream",
     "text": [
      "Processing episodes:  26%|██▌       | 131/505 [01:14<02:49,  2.21it/s]"
     ]
    },
    {
     "name": "stdout",
     "output_type": "stream",
     "text": [
      "[132/505] Processing: success_episode132_steps340\n"
     ]
    },
    {
     "name": "stderr",
     "output_type": "stream",
     "text": [
      "Processing episodes:  26%|██▌       | 132/505 [01:15<03:26,  1.80it/s]"
     ]
    },
    {
     "name": "stdout",
     "output_type": "stream",
     "text": [
      "[133/505] Processing: success_episode133_steps318\n"
     ]
    },
    {
     "name": "stderr",
     "output_type": "stream",
     "text": [
      "Processing episodes:  26%|██▋       | 133/505 [01:15<03:46,  1.64it/s]"
     ]
    },
    {
     "name": "stdout",
     "output_type": "stream",
     "text": [
      "[134/505] Processing: success_episode134_steps339\n"
     ]
    },
    {
     "name": "stderr",
     "output_type": "stream",
     "text": [
      "Processing episodes:  27%|██▋       | 134/505 [01:16<04:07,  1.50it/s]"
     ]
    },
    {
     "name": "stdout",
     "output_type": "stream",
     "text": [
      "[135/505] Processing: success_episode135_steps331\n"
     ]
    },
    {
     "name": "stderr",
     "output_type": "stream",
     "text": [
      "Processing episodes:  27%|██▋       | 135/505 [01:17<04:20,  1.42it/s]"
     ]
    },
    {
     "name": "stdout",
     "output_type": "stream",
     "text": [
      "[136/505] Processing: success_episode136_steps336\n"
     ]
    },
    {
     "name": "stderr",
     "output_type": "stream",
     "text": [
      "Processing episodes:  27%|██▋       | 136/505 [01:18<04:29,  1.37it/s]"
     ]
    },
    {
     "name": "stdout",
     "output_type": "stream",
     "text": [
      "[137/505] Processing: success_episode137_steps318\n"
     ]
    },
    {
     "name": "stderr",
     "output_type": "stream",
     "text": [
      "Processing episodes:  27%|██▋       | 137/505 [01:19<04:29,  1.36it/s]"
     ]
    },
    {
     "name": "stdout",
     "output_type": "stream",
     "text": [
      "[138/505] Processing: success_episode138_steps306\n"
     ]
    },
    {
     "name": "stderr",
     "output_type": "stream",
     "text": [
      "Processing episodes:  27%|██▋       | 138/505 [01:19<04:27,  1.37it/s]"
     ]
    },
    {
     "name": "stdout",
     "output_type": "stream",
     "text": [
      "[139/505] Processing: success_episode139_steps326\n"
     ]
    },
    {
     "name": "stderr",
     "output_type": "stream",
     "text": [
      "Processing episodes:  28%|██▊       | 139/505 [01:20<04:30,  1.35it/s]"
     ]
    },
    {
     "name": "stdout",
     "output_type": "stream",
     "text": [
      "[140/505] Processing: success_episode140_steps315\n"
     ]
    },
    {
     "name": "stderr",
     "output_type": "stream",
     "text": [
      "Processing episodes:  28%|██▊       | 140/505 [01:21<04:28,  1.36it/s]"
     ]
    },
    {
     "name": "stdout",
     "output_type": "stream",
     "text": [
      "[141/505] Processing: success_episode141_steps303\n"
     ]
    },
    {
     "name": "stderr",
     "output_type": "stream",
     "text": [
      "Processing episodes:  28%|██▊       | 141/505 [01:21<04:24,  1.37it/s]"
     ]
    },
    {
     "name": "stdout",
     "output_type": "stream",
     "text": [
      "[142/505] Processing: success_episode142_steps311\n"
     ]
    },
    {
     "name": "stderr",
     "output_type": "stream",
     "text": [
      "Processing episodes:  28%|██▊       | 142/505 [01:22<04:24,  1.37it/s]"
     ]
    },
    {
     "name": "stdout",
     "output_type": "stream",
     "text": [
      "[143/505] Processing: success_episode143_steps333\n"
     ]
    },
    {
     "name": "stderr",
     "output_type": "stream",
     "text": [
      "Processing episodes:  28%|██▊       | 143/505 [01:23<04:29,  1.35it/s]"
     ]
    },
    {
     "name": "stdout",
     "output_type": "stream",
     "text": [
      "[144/505] Processing: success_episode144_steps312\n"
     ]
    },
    {
     "name": "stderr",
     "output_type": "stream",
     "text": [
      "Processing episodes:  29%|██▊       | 144/505 [01:24<04:26,  1.35it/s]"
     ]
    },
    {
     "name": "stdout",
     "output_type": "stream",
     "text": [
      "[145/505] Processing: success_episode145_steps325\n"
     ]
    },
    {
     "name": "stderr",
     "output_type": "stream",
     "text": [
      "Processing episodes:  29%|██▊       | 145/505 [01:24<03:56,  1.52it/s]"
     ]
    },
    {
     "name": "stdout",
     "output_type": "stream",
     "text": [
      "[146/505] Processing: success_episode146_steps316\n"
     ]
    },
    {
     "name": "stderr",
     "output_type": "stream",
     "text": [
      "Processing episodes:  29%|██▉       | 146/505 [01:25<03:37,  1.65it/s]"
     ]
    },
    {
     "name": "stdout",
     "output_type": "stream",
     "text": [
      "[147/505] Processing: success_episode147_steps343\n"
     ]
    },
    {
     "name": "stderr",
     "output_type": "stream",
     "text": [
      "Processing episodes:  29%|██▉       | 147/505 [01:25<03:23,  1.76it/s]"
     ]
    },
    {
     "name": "stdout",
     "output_type": "stream",
     "text": [
      "[148/505] Processing: success_episode148_steps320\n"
     ]
    },
    {
     "name": "stderr",
     "output_type": "stream",
     "text": [
      "Processing episodes:  29%|██▉       | 148/505 [01:26<03:10,  1.87it/s]"
     ]
    },
    {
     "name": "stdout",
     "output_type": "stream",
     "text": [
      "[149/505] Processing: success_episode149_steps307\n"
     ]
    },
    {
     "name": "stderr",
     "output_type": "stream",
     "text": [
      "Processing episodes:  30%|██▉       | 149/505 [01:26<03:01,  1.97it/s]"
     ]
    },
    {
     "name": "stdout",
     "output_type": "stream",
     "text": [
      "[150/505] Processing: success_episode150_steps321\n"
     ]
    },
    {
     "name": "stderr",
     "output_type": "stream",
     "text": [
      "Processing episodes:  30%|██▉       | 150/505 [01:26<02:56,  2.01it/s]"
     ]
    },
    {
     "name": "stdout",
     "output_type": "stream",
     "text": [
      "[151/505] Processing: success_episode151_steps326\n"
     ]
    },
    {
     "name": "stderr",
     "output_type": "stream",
     "text": [
      "Processing episodes:  30%|██▉       | 151/505 [01:27<02:54,  2.03it/s]"
     ]
    },
    {
     "name": "stdout",
     "output_type": "stream",
     "text": [
      "[152/505] Processing: success_episode152_steps334\n"
     ]
    },
    {
     "name": "stderr",
     "output_type": "stream",
     "text": [
      "Processing episodes:  30%|███       | 152/505 [01:27<02:52,  2.05it/s]"
     ]
    },
    {
     "name": "stdout",
     "output_type": "stream",
     "text": [
      "[153/505] Processing: success_episode153_steps309\n"
     ]
    },
    {
     "name": "stderr",
     "output_type": "stream",
     "text": [
      "Processing episodes:  30%|███       | 153/505 [01:28<02:47,  2.10it/s]"
     ]
    },
    {
     "name": "stdout",
     "output_type": "stream",
     "text": [
      "[154/505] Processing: success_episode154_steps339\n"
     ]
    },
    {
     "name": "stderr",
     "output_type": "stream",
     "text": [
      "Processing episodes:  30%|███       | 154/505 [01:28<02:49,  2.08it/s]"
     ]
    },
    {
     "name": "stdout",
     "output_type": "stream",
     "text": [
      "[155/505] Processing: success_episode155_steps320\n"
     ]
    },
    {
     "name": "stderr",
     "output_type": "stream",
     "text": [
      "Processing episodes:  31%|███       | 155/505 [01:29<02:46,  2.11it/s]"
     ]
    },
    {
     "name": "stdout",
     "output_type": "stream",
     "text": [
      "[156/505] Processing: success_episode156_steps327\n"
     ]
    },
    {
     "name": "stderr",
     "output_type": "stream",
     "text": [
      "Processing episodes:  31%|███       | 156/505 [01:29<02:45,  2.11it/s]"
     ]
    },
    {
     "name": "stdout",
     "output_type": "stream",
     "text": [
      "[157/505] Processing: success_episode157_steps308\n"
     ]
    },
    {
     "name": "stderr",
     "output_type": "stream",
     "text": [
      "Processing episodes:  31%|███       | 157/505 [01:30<02:41,  2.15it/s]"
     ]
    },
    {
     "name": "stdout",
     "output_type": "stream",
     "text": [
      "[158/505] Processing: success_episode158_steps309\n"
     ]
    },
    {
     "name": "stderr",
     "output_type": "stream",
     "text": [
      "Processing episodes:  31%|███▏      | 158/505 [01:30<02:38,  2.18it/s]"
     ]
    },
    {
     "name": "stdout",
     "output_type": "stream",
     "text": [
      "[159/505] Processing: success_episode159_steps315\n"
     ]
    },
    {
     "name": "stderr",
     "output_type": "stream",
     "text": [
      "Processing episodes:  31%|███▏      | 159/505 [01:31<02:37,  2.20it/s]"
     ]
    },
    {
     "name": "stdout",
     "output_type": "stream",
     "text": [
      "[160/505] Processing: success_episode160_steps314\n"
     ]
    },
    {
     "name": "stderr",
     "output_type": "stream",
     "text": [
      "Processing episodes:  32%|███▏      | 160/505 [01:31<02:35,  2.22it/s]"
     ]
    },
    {
     "name": "stdout",
     "output_type": "stream",
     "text": [
      "[161/505] Processing: success_episode161_steps331\n"
     ]
    },
    {
     "name": "stderr",
     "output_type": "stream",
     "text": [
      "Processing episodes:  32%|███▏      | 161/505 [01:32<02:37,  2.19it/s]"
     ]
    },
    {
     "name": "stdout",
     "output_type": "stream",
     "text": [
      "[162/505] Processing: success_episode162_steps344\n"
     ]
    },
    {
     "name": "stderr",
     "output_type": "stream",
     "text": [
      "Processing episodes:  32%|███▏      | 162/505 [01:32<02:41,  2.13it/s]"
     ]
    },
    {
     "name": "stdout",
     "output_type": "stream",
     "text": [
      "[163/505] Processing: success_episode163_steps325\n"
     ]
    },
    {
     "name": "stderr",
     "output_type": "stream",
     "text": [
      "Processing episodes:  32%|███▏      | 163/505 [01:33<02:39,  2.15it/s]"
     ]
    },
    {
     "name": "stdout",
     "output_type": "stream",
     "text": [
      "[164/505] Processing: success_episode164_steps313\n"
     ]
    },
    {
     "name": "stderr",
     "output_type": "stream",
     "text": [
      "Processing episodes:  32%|███▏      | 164/505 [01:33<02:36,  2.18it/s]"
     ]
    },
    {
     "name": "stdout",
     "output_type": "stream",
     "text": [
      "[165/505] Processing: success_episode165_steps327\n"
     ]
    },
    {
     "name": "stderr",
     "output_type": "stream",
     "text": [
      "Processing episodes:  33%|███▎      | 165/505 [01:33<02:36,  2.17it/s]"
     ]
    },
    {
     "name": "stdout",
     "output_type": "stream",
     "text": [
      "[166/505] Processing: success_episode166_steps328\n"
     ]
    },
    {
     "name": "stderr",
     "output_type": "stream",
     "text": [
      "Processing episodes:  33%|███▎      | 166/505 [01:34<02:37,  2.16it/s]"
     ]
    },
    {
     "name": "stdout",
     "output_type": "stream",
     "text": [
      "[167/505] Processing: success_episode167_steps320\n"
     ]
    },
    {
     "name": "stderr",
     "output_type": "stream",
     "text": [
      "Processing episodes:  33%|███▎      | 167/505 [01:34<02:35,  2.18it/s]"
     ]
    },
    {
     "name": "stdout",
     "output_type": "stream",
     "text": [
      "[168/505] Processing: success_episode168_steps331\n"
     ]
    },
    {
     "name": "stderr",
     "output_type": "stream",
     "text": [
      "Processing episodes:  33%|███▎      | 168/505 [01:35<02:36,  2.16it/s]"
     ]
    },
    {
     "name": "stdout",
     "output_type": "stream",
     "text": [
      "[169/505] Processing: success_episode169_steps326\n"
     ]
    },
    {
     "name": "stderr",
     "output_type": "stream",
     "text": [
      "Processing episodes:  33%|███▎      | 169/505 [01:35<02:39,  2.11it/s]"
     ]
    },
    {
     "name": "stdout",
     "output_type": "stream",
     "text": [
      "[170/505] Processing: success_episode170_steps336\n"
     ]
    },
    {
     "name": "stderr",
     "output_type": "stream",
     "text": [
      "Processing episodes:  34%|███▎      | 170/505 [01:36<02:39,  2.10it/s]"
     ]
    },
    {
     "name": "stdout",
     "output_type": "stream",
     "text": [
      "[171/505] Processing: success_episode171_steps312\n"
     ]
    },
    {
     "name": "stderr",
     "output_type": "stream",
     "text": [
      "Processing episodes:  34%|███▍      | 171/505 [01:36<02:35,  2.14it/s]"
     ]
    },
    {
     "name": "stdout",
     "output_type": "stream",
     "text": [
      "[172/505] Processing: success_episode172_steps306\n"
     ]
    },
    {
     "name": "stderr",
     "output_type": "stream",
     "text": [
      "Processing episodes:  34%|███▍      | 172/505 [01:37<02:33,  2.16it/s]"
     ]
    },
    {
     "name": "stdout",
     "output_type": "stream",
     "text": [
      "[173/505] Processing: success_episode173_steps313\n"
     ]
    },
    {
     "name": "stderr",
     "output_type": "stream",
     "text": [
      "Processing episodes:  34%|███▍      | 173/505 [01:37<02:31,  2.18it/s]"
     ]
    },
    {
     "name": "stdout",
     "output_type": "stream",
     "text": [
      "[174/505] Processing: success_episode174_steps305\n"
     ]
    },
    {
     "name": "stderr",
     "output_type": "stream",
     "text": [
      "Processing episodes:  34%|███▍      | 174/505 [01:38<02:28,  2.22it/s]"
     ]
    },
    {
     "name": "stdout",
     "output_type": "stream",
     "text": [
      "[175/505] Processing: success_episode175_steps313\n"
     ]
    },
    {
     "name": "stderr",
     "output_type": "stream",
     "text": [
      "Processing episodes:  35%|███▍      | 175/505 [01:38<02:56,  1.87it/s]"
     ]
    },
    {
     "name": "stdout",
     "output_type": "stream",
     "text": [
      "[176/505] Processing: success_episode176_steps307\n"
     ]
    },
    {
     "name": "stderr",
     "output_type": "stream",
     "text": [
      "Processing episodes:  35%|███▍      | 176/505 [01:39<03:13,  1.70it/s]"
     ]
    },
    {
     "name": "stdout",
     "output_type": "stream",
     "text": [
      "[177/505] Processing: success_episode177_steps306\n"
     ]
    },
    {
     "name": "stderr",
     "output_type": "stream",
     "text": [
      "Processing episodes:  35%|███▌      | 177/505 [01:40<03:24,  1.60it/s]"
     ]
    },
    {
     "name": "stdout",
     "output_type": "stream",
     "text": [
      "[178/505] Processing: success_episode178_steps317\n"
     ]
    },
    {
     "name": "stderr",
     "output_type": "stream",
     "text": [
      "Processing episodes:  35%|███▌      | 178/505 [01:40<03:35,  1.52it/s]"
     ]
    },
    {
     "name": "stdout",
     "output_type": "stream",
     "text": [
      "[179/505] Processing: success_episode179_steps318\n"
     ]
    },
    {
     "name": "stderr",
     "output_type": "stream",
     "text": [
      "Processing episodes:  35%|███▌      | 179/505 [01:41<03:42,  1.46it/s]"
     ]
    },
    {
     "name": "stdout",
     "output_type": "stream",
     "text": [
      "[180/505] Processing: success_episode180_steps313\n"
     ]
    },
    {
     "name": "stderr",
     "output_type": "stream",
     "text": [
      "Processing episodes:  36%|███▌      | 180/505 [01:42<03:46,  1.44it/s]"
     ]
    },
    {
     "name": "stdout",
     "output_type": "stream",
     "text": [
      "[181/505] Processing: success_episode181_steps348\n"
     ]
    },
    {
     "name": "stderr",
     "output_type": "stream",
     "text": [
      "Processing episodes:  36%|███▌      | 181/505 [01:43<03:56,  1.37it/s]"
     ]
    },
    {
     "name": "stdout",
     "output_type": "stream",
     "text": [
      "[182/505] Processing: success_episode182_steps308\n"
     ]
    },
    {
     "name": "stderr",
     "output_type": "stream",
     "text": [
      "Processing episodes:  36%|███▌      | 182/505 [01:43<03:54,  1.38it/s]"
     ]
    },
    {
     "name": "stdout",
     "output_type": "stream",
     "text": [
      "[183/505] Processing: success_episode183_steps330\n"
     ]
    },
    {
     "name": "stderr",
     "output_type": "stream",
     "text": [
      "Processing episodes:  36%|███▌      | 183/505 [01:44<03:57,  1.35it/s]"
     ]
    },
    {
     "name": "stdout",
     "output_type": "stream",
     "text": [
      "[184/505] Processing: success_episode184_steps342\n"
     ]
    },
    {
     "name": "stderr",
     "output_type": "stream",
     "text": [
      "Processing episodes:  36%|███▋      | 184/505 [01:45<04:02,  1.32it/s]"
     ]
    },
    {
     "name": "stdout",
     "output_type": "stream",
     "text": [
      "[185/505] Processing: success_episode185_steps324\n"
     ]
    },
    {
     "name": "stderr",
     "output_type": "stream",
     "text": [
      "Processing episodes:  37%|███▋      | 185/505 [01:46<04:01,  1.33it/s]"
     ]
    },
    {
     "name": "stdout",
     "output_type": "stream",
     "text": [
      "[186/505] Processing: success_episode186_steps307\n"
     ]
    },
    {
     "name": "stderr",
     "output_type": "stream",
     "text": [
      "Processing episodes:  37%|███▋      | 186/505 [01:46<03:57,  1.34it/s]"
     ]
    },
    {
     "name": "stdout",
     "output_type": "stream",
     "text": [
      "[187/505] Processing: success_episode187_steps331\n"
     ]
    },
    {
     "name": "stderr",
     "output_type": "stream",
     "text": [
      "Processing episodes:  37%|███▋      | 187/505 [01:47<03:59,  1.33it/s]"
     ]
    },
    {
     "name": "stdout",
     "output_type": "stream",
     "text": [
      "[188/505] Processing: success_episode188_steps305\n"
     ]
    },
    {
     "name": "stderr",
     "output_type": "stream",
     "text": [
      "Processing episodes:  37%|███▋      | 188/505 [01:48<03:54,  1.35it/s]"
     ]
    },
    {
     "name": "stdout",
     "output_type": "stream",
     "text": [
      "[189/505] Processing: success_episode189_steps306\n"
     ]
    },
    {
     "name": "stderr",
     "output_type": "stream",
     "text": [
      "Processing episodes:  37%|███▋      | 189/505 [01:49<03:51,  1.36it/s]"
     ]
    },
    {
     "name": "stdout",
     "output_type": "stream",
     "text": [
      "[190/505] Processing: success_episode190_steps317\n"
     ]
    },
    {
     "name": "stderr",
     "output_type": "stream",
     "text": [
      "Processing episodes:  38%|███▊      | 190/505 [01:49<03:51,  1.36it/s]"
     ]
    },
    {
     "name": "stdout",
     "output_type": "stream",
     "text": [
      "[191/505] Processing: success_episode191_steps323\n"
     ]
    },
    {
     "name": "stderr",
     "output_type": "stream",
     "text": [
      "Processing episodes:  38%|███▊      | 191/505 [01:50<03:52,  1.35it/s]"
     ]
    },
    {
     "name": "stdout",
     "output_type": "stream",
     "text": [
      "[192/505] Processing: success_episode192_steps309\n"
     ]
    },
    {
     "name": "stderr",
     "output_type": "stream",
     "text": [
      "Processing episodes:  38%|███▊      | 192/505 [01:51<03:49,  1.36it/s]"
     ]
    },
    {
     "name": "stdout",
     "output_type": "stream",
     "text": [
      "[193/505] Processing: success_episode193_steps308\n"
     ]
    },
    {
     "name": "stderr",
     "output_type": "stream",
     "text": [
      "Processing episodes:  38%|███▊      | 193/505 [01:51<03:25,  1.52it/s]"
     ]
    },
    {
     "name": "stdout",
     "output_type": "stream",
     "text": [
      "[194/505] Processing: success_episode194_steps328\n"
     ]
    },
    {
     "name": "stderr",
     "output_type": "stream",
     "text": [
      "Processing episodes:  38%|███▊      | 194/505 [01:52<03:07,  1.66it/s]"
     ]
    },
    {
     "name": "stdout",
     "output_type": "stream",
     "text": [
      "[195/505] Processing: success_episode195_steps308\n"
     ]
    },
    {
     "name": "stderr",
     "output_type": "stream",
     "text": [
      "Processing episodes:  39%|███▊      | 195/505 [01:52<02:51,  1.81it/s]"
     ]
    },
    {
     "name": "stdout",
     "output_type": "stream",
     "text": [
      "[196/505] Processing: success_episode196_steps327\n"
     ]
    },
    {
     "name": "stderr",
     "output_type": "stream",
     "text": [
      "Processing episodes:  39%|███▉      | 196/505 [01:53<02:43,  1.89it/s]"
     ]
    },
    {
     "name": "stdout",
     "output_type": "stream",
     "text": [
      "[197/505] Processing: success_episode197_steps308\n"
     ]
    },
    {
     "name": "stderr",
     "output_type": "stream",
     "text": [
      "Processing episodes:  39%|███▉      | 197/505 [01:53<02:34,  2.00it/s]"
     ]
    },
    {
     "name": "stdout",
     "output_type": "stream",
     "text": [
      "[198/505] Processing: success_episode198_steps304\n"
     ]
    },
    {
     "name": "stderr",
     "output_type": "stream",
     "text": [
      "Processing episodes:  39%|███▉      | 198/505 [01:54<02:27,  2.09it/s]"
     ]
    },
    {
     "name": "stdout",
     "output_type": "stream",
     "text": [
      "[199/505] Processing: success_episode199_steps339\n"
     ]
    },
    {
     "name": "stderr",
     "output_type": "stream",
     "text": [
      "Processing episodes:  39%|███▉      | 199/505 [01:54<02:27,  2.08it/s]"
     ]
    },
    {
     "name": "stdout",
     "output_type": "stream",
     "text": [
      "[200/505] Processing: success_episode200_steps316\n"
     ]
    },
    {
     "name": "stderr",
     "output_type": "stream",
     "text": [
      "Processing episodes:  40%|███▉      | 200/505 [01:55<02:24,  2.11it/s]"
     ]
    },
    {
     "name": "stdout",
     "output_type": "stream",
     "text": [
      "[201/505] Processing: success_episode201_steps315\n"
     ]
    },
    {
     "name": "stderr",
     "output_type": "stream",
     "text": [
      "Processing episodes:  40%|███▉      | 201/505 [01:55<02:21,  2.15it/s]"
     ]
    },
    {
     "name": "stdout",
     "output_type": "stream",
     "text": [
      "[202/505] Processing: success_episode202_steps340\n"
     ]
    },
    {
     "name": "stderr",
     "output_type": "stream",
     "text": [
      "Processing episodes:  40%|████      | 202/505 [01:56<02:50,  1.78it/s]"
     ]
    },
    {
     "name": "stdout",
     "output_type": "stream",
     "text": [
      "[203/505] Processing: success_episode203_steps316\n"
     ]
    },
    {
     "name": "stderr",
     "output_type": "stream",
     "text": [
      "Processing episodes:  40%|████      | 203/505 [01:56<02:40,  1.89it/s]"
     ]
    },
    {
     "name": "stdout",
     "output_type": "stream",
     "text": [
      "[204/505] Processing: success_episode204_steps307\n"
     ]
    },
    {
     "name": "stderr",
     "output_type": "stream",
     "text": [
      "Processing episodes:  40%|████      | 204/505 [01:57<02:31,  1.99it/s]"
     ]
    },
    {
     "name": "stdout",
     "output_type": "stream",
     "text": [
      "[205/505] Processing: success_episode205_steps314\n"
     ]
    },
    {
     "name": "stderr",
     "output_type": "stream",
     "text": [
      "Processing episodes:  41%|████      | 205/505 [01:57<02:25,  2.06it/s]"
     ]
    },
    {
     "name": "stdout",
     "output_type": "stream",
     "text": [
      "[206/505] Processing: success_episode206_steps331\n"
     ]
    },
    {
     "name": "stderr",
     "output_type": "stream",
     "text": [
      "Processing episodes:  41%|████      | 206/505 [01:58<02:25,  2.06it/s]"
     ]
    },
    {
     "name": "stdout",
     "output_type": "stream",
     "text": [
      "[207/505] Processing: success_episode207_steps313\n"
     ]
    },
    {
     "name": "stderr",
     "output_type": "stream",
     "text": [
      "Processing episodes:  41%|████      | 207/505 [01:58<02:20,  2.11it/s]"
     ]
    },
    {
     "name": "stdout",
     "output_type": "stream",
     "text": [
      "[208/505] Processing: success_episode208_steps328\n"
     ]
    },
    {
     "name": "stderr",
     "output_type": "stream",
     "text": [
      "Processing episodes:  41%|████      | 208/505 [01:59<02:20,  2.12it/s]"
     ]
    },
    {
     "name": "stdout",
     "output_type": "stream",
     "text": [
      "[209/505] Processing: success_episode209_steps331\n"
     ]
    },
    {
     "name": "stderr",
     "output_type": "stream",
     "text": [
      "Processing episodes:  41%|████▏     | 209/505 [01:59<02:19,  2.11it/s]"
     ]
    },
    {
     "name": "stdout",
     "output_type": "stream",
     "text": [
      "[210/505] Processing: success_episode210_steps311\n"
     ]
    },
    {
     "name": "stderr",
     "output_type": "stream",
     "text": [
      "Processing episodes:  42%|████▏     | 210/505 [01:59<02:17,  2.15it/s]"
     ]
    },
    {
     "name": "stdout",
     "output_type": "stream",
     "text": [
      "[211/505] Processing: success_episode211_steps331\n"
     ]
    },
    {
     "name": "stderr",
     "output_type": "stream",
     "text": [
      "Processing episodes:  42%|████▏     | 211/505 [02:00<02:17,  2.13it/s]"
     ]
    },
    {
     "name": "stdout",
     "output_type": "stream",
     "text": [
      "[212/505] Processing: success_episode212_steps336\n"
     ]
    },
    {
     "name": "stderr",
     "output_type": "stream",
     "text": [
      "Processing episodes:  42%|████▏     | 212/505 [02:00<02:18,  2.12it/s]"
     ]
    },
    {
     "name": "stdout",
     "output_type": "stream",
     "text": [
      "[213/505] Processing: success_episode213_steps330\n"
     ]
    },
    {
     "name": "stderr",
     "output_type": "stream",
     "text": [
      "Processing episodes:  42%|████▏     | 213/505 [02:01<02:21,  2.07it/s]"
     ]
    },
    {
     "name": "stdout",
     "output_type": "stream",
     "text": [
      "[214/505] Processing: success_episode214_steps324\n"
     ]
    },
    {
     "name": "stderr",
     "output_type": "stream",
     "text": [
      "Processing episodes:  42%|████▏     | 214/505 [02:01<02:19,  2.09it/s]"
     ]
    },
    {
     "name": "stdout",
     "output_type": "stream",
     "text": [
      "[215/505] Processing: success_episode215_steps320\n"
     ]
    },
    {
     "name": "stderr",
     "output_type": "stream",
     "text": [
      "Processing episodes:  43%|████▎     | 215/505 [02:02<02:16,  2.12it/s]"
     ]
    },
    {
     "name": "stdout",
     "output_type": "stream",
     "text": [
      "[216/505] Processing: success_episode216_steps314\n"
     ]
    },
    {
     "name": "stderr",
     "output_type": "stream",
     "text": [
      "Processing episodes:  43%|████▎     | 216/505 [02:02<02:14,  2.16it/s]"
     ]
    },
    {
     "name": "stdout",
     "output_type": "stream",
     "text": [
      "[217/505] Processing: success_episode217_steps345\n"
     ]
    },
    {
     "name": "stderr",
     "output_type": "stream",
     "text": [
      "Processing episodes:  43%|████▎     | 217/505 [02:03<02:15,  2.12it/s]"
     ]
    },
    {
     "name": "stdout",
     "output_type": "stream",
     "text": [
      "[218/505] Processing: success_episode218_steps330\n"
     ]
    },
    {
     "name": "stderr",
     "output_type": "stream",
     "text": [
      "Processing episodes:  43%|████▎     | 218/505 [02:03<02:15,  2.11it/s]"
     ]
    },
    {
     "name": "stdout",
     "output_type": "stream",
     "text": [
      "[219/505] Processing: success_episode219_steps315\n"
     ]
    },
    {
     "name": "stderr",
     "output_type": "stream",
     "text": [
      "Processing episodes:  43%|████▎     | 219/505 [02:04<02:12,  2.15it/s]"
     ]
    },
    {
     "name": "stdout",
     "output_type": "stream",
     "text": [
      "[220/505] Processing: success_episode220_steps329\n"
     ]
    },
    {
     "name": "stderr",
     "output_type": "stream",
     "text": [
      "Processing episodes:  44%|████▎     | 220/505 [02:04<02:12,  2.15it/s]"
     ]
    },
    {
     "name": "stdout",
     "output_type": "stream",
     "text": [
      "[221/505] Processing: success_episode221_steps323\n"
     ]
    },
    {
     "name": "stderr",
     "output_type": "stream",
     "text": [
      "Processing episodes:  44%|████▍     | 221/505 [02:05<02:11,  2.17it/s]"
     ]
    },
    {
     "name": "stdout",
     "output_type": "stream",
     "text": [
      "[222/505] Processing: success_episode222_steps305\n"
     ]
    },
    {
     "name": "stderr",
     "output_type": "stream",
     "text": [
      "Processing episodes:  44%|████▍     | 222/505 [02:05<02:07,  2.22it/s]"
     ]
    },
    {
     "name": "stdout",
     "output_type": "stream",
     "text": [
      "[223/505] Processing: success_episode223_steps313\n"
     ]
    },
    {
     "name": "stderr",
     "output_type": "stream",
     "text": [
      "Processing episodes:  44%|████▍     | 223/505 [02:05<02:06,  2.23it/s]"
     ]
    },
    {
     "name": "stdout",
     "output_type": "stream",
     "text": [
      "[224/505] Processing: success_episode224_steps330\n"
     ]
    },
    {
     "name": "stderr",
     "output_type": "stream",
     "text": [
      "Processing episodes:  44%|████▍     | 224/505 [02:06<02:07,  2.20it/s]"
     ]
    },
    {
     "name": "stdout",
     "output_type": "stream",
     "text": [
      "[225/505] Processing: success_episode225_steps338\n"
     ]
    },
    {
     "name": "stderr",
     "output_type": "stream",
     "text": [
      "Processing episodes:  45%|████▍     | 225/505 [02:06<02:10,  2.15it/s]"
     ]
    },
    {
     "name": "stdout",
     "output_type": "stream",
     "text": [
      "[226/505] Processing: success_episode226_steps337\n"
     ]
    },
    {
     "name": "stderr",
     "output_type": "stream",
     "text": [
      "Processing episodes:  45%|████▍     | 226/505 [02:07<02:10,  2.13it/s]"
     ]
    },
    {
     "name": "stdout",
     "output_type": "stream",
     "text": [
      "[227/505] Processing: success_episode227_steps333\n"
     ]
    },
    {
     "name": "stderr",
     "output_type": "stream",
     "text": [
      "Processing episodes:  45%|████▍     | 227/505 [02:07<02:11,  2.11it/s]"
     ]
    },
    {
     "name": "stdout",
     "output_type": "stream",
     "text": [
      "[228/505] Processing: success_episode228_steps341\n"
     ]
    },
    {
     "name": "stderr",
     "output_type": "stream",
     "text": [
      "Processing episodes:  45%|████▌     | 228/505 [02:08<02:13,  2.08it/s]"
     ]
    },
    {
     "name": "stdout",
     "output_type": "stream",
     "text": [
      "[229/505] Processing: success_episode229_steps338\n"
     ]
    },
    {
     "name": "stderr",
     "output_type": "stream",
     "text": [
      "Processing episodes:  45%|████▌     | 229/505 [02:08<02:13,  2.07it/s]"
     ]
    },
    {
     "name": "stdout",
     "output_type": "stream",
     "text": [
      "[230/505] Processing: success_episode230_steps306\n"
     ]
    },
    {
     "name": "stderr",
     "output_type": "stream",
     "text": [
      "Processing episodes:  46%|████▌     | 230/505 [02:09<02:09,  2.13it/s]"
     ]
    },
    {
     "name": "stdout",
     "output_type": "stream",
     "text": [
      "[231/505] Processing: success_episode231_steps332\n"
     ]
    },
    {
     "name": "stderr",
     "output_type": "stream",
     "text": [
      "Processing episodes:  46%|████▌     | 231/505 [02:09<02:09,  2.11it/s]"
     ]
    },
    {
     "name": "stdout",
     "output_type": "stream",
     "text": [
      "[232/505] Processing: success_episode232_steps347\n"
     ]
    },
    {
     "name": "stderr",
     "output_type": "stream",
     "text": [
      "Processing episodes:  46%|████▌     | 232/505 [02:10<02:11,  2.08it/s]"
     ]
    },
    {
     "name": "stdout",
     "output_type": "stream",
     "text": [
      "[233/505] Processing: success_episode233_steps344\n"
     ]
    },
    {
     "name": "stderr",
     "output_type": "stream",
     "text": [
      "Processing episodes:  46%|████▌     | 233/505 [02:10<02:12,  2.05it/s]"
     ]
    },
    {
     "name": "stdout",
     "output_type": "stream",
     "text": [
      "[234/505] Processing: success_episode234_steps324\n"
     ]
    },
    {
     "name": "stderr",
     "output_type": "stream",
     "text": [
      "Processing episodes:  46%|████▋     | 234/505 [02:11<02:10,  2.08it/s]"
     ]
    },
    {
     "name": "stdout",
     "output_type": "stream",
     "text": [
      "[235/505] Processing: success_episode235_steps315\n"
     ]
    },
    {
     "name": "stderr",
     "output_type": "stream",
     "text": [
      "Processing episodes:  47%|████▋     | 235/505 [02:11<02:07,  2.12it/s]"
     ]
    },
    {
     "name": "stdout",
     "output_type": "stream",
     "text": [
      "[236/505] Processing: success_episode236_steps327\n"
     ]
    },
    {
     "name": "stderr",
     "output_type": "stream",
     "text": [
      "Processing episodes:  47%|████▋     | 236/505 [02:12<02:09,  2.07it/s]"
     ]
    },
    {
     "name": "stdout",
     "output_type": "stream",
     "text": [
      "[237/505] Processing: success_episode237_steps317\n"
     ]
    },
    {
     "name": "stderr",
     "output_type": "stream",
     "text": [
      "Processing episodes:  47%|████▋     | 237/505 [02:12<02:07,  2.10it/s]"
     ]
    },
    {
     "name": "stdout",
     "output_type": "stream",
     "text": [
      "[238/505] Processing: success_episode238_steps305\n"
     ]
    },
    {
     "name": "stderr",
     "output_type": "stream",
     "text": [
      "Processing episodes:  47%|████▋     | 238/505 [02:13<02:04,  2.15it/s]"
     ]
    },
    {
     "name": "stdout",
     "output_type": "stream",
     "text": [
      "[239/505] Processing: success_episode239_steps346\n"
     ]
    },
    {
     "name": "stderr",
     "output_type": "stream",
     "text": [
      "Processing episodes:  47%|████▋     | 239/505 [02:13<02:21,  1.89it/s]"
     ]
    },
    {
     "name": "stdout",
     "output_type": "stream",
     "text": [
      "[240/505] Processing: success_episode240_steps338\n"
     ]
    },
    {
     "name": "stderr",
     "output_type": "stream",
     "text": [
      "Processing episodes:  48%|████▊     | 240/505 [02:14<02:41,  1.64it/s]"
     ]
    },
    {
     "name": "stdout",
     "output_type": "stream",
     "text": [
      "[241/505] Processing: success_episode241_steps335\n"
     ]
    },
    {
     "name": "stderr",
     "output_type": "stream",
     "text": [
      "Processing episodes:  48%|████▊     | 241/505 [02:15<02:54,  1.51it/s]"
     ]
    },
    {
     "name": "stdout",
     "output_type": "stream",
     "text": [
      "[242/505] Processing: success_episode242_steps304\n"
     ]
    },
    {
     "name": "stderr",
     "output_type": "stream",
     "text": [
      "Processing episodes:  48%|████▊     | 242/505 [02:16<02:57,  1.48it/s]"
     ]
    },
    {
     "name": "stdout",
     "output_type": "stream",
     "text": [
      "[243/505] Processing: success_episode243_steps329\n"
     ]
    },
    {
     "name": "stderr",
     "output_type": "stream",
     "text": [
      "Processing episodes:  48%|████▊     | 243/505 [02:16<03:04,  1.42it/s]"
     ]
    },
    {
     "name": "stdout",
     "output_type": "stream",
     "text": [
      "[244/505] Processing: success_episode244_steps317\n"
     ]
    },
    {
     "name": "stderr",
     "output_type": "stream",
     "text": [
      "Processing episodes:  48%|████▊     | 244/505 [02:17<03:06,  1.40it/s]"
     ]
    },
    {
     "name": "stdout",
     "output_type": "stream",
     "text": [
      "[245/505] Processing: success_episode245_steps306\n"
     ]
    },
    {
     "name": "stderr",
     "output_type": "stream",
     "text": [
      "Processing episodes:  49%|████▊     | 245/505 [02:18<03:06,  1.40it/s]"
     ]
    },
    {
     "name": "stdout",
     "output_type": "stream",
     "text": [
      "[246/505] Processing: success_episode246_steps319\n"
     ]
    },
    {
     "name": "stderr",
     "output_type": "stream",
     "text": [
      "Processing episodes:  49%|████▊     | 246/505 [02:19<03:07,  1.38it/s]"
     ]
    },
    {
     "name": "stdout",
     "output_type": "stream",
     "text": [
      "[247/505] Processing: success_episode247_steps337\n"
     ]
    },
    {
     "name": "stderr",
     "output_type": "stream",
     "text": [
      "Processing episodes:  49%|████▉     | 247/505 [02:19<02:49,  1.53it/s]"
     ]
    },
    {
     "name": "stdout",
     "output_type": "stream",
     "text": [
      "[248/505] Processing: success_episode248_steps320\n"
     ]
    },
    {
     "name": "stderr",
     "output_type": "stream",
     "text": [
      "Processing episodes:  49%|████▉     | 248/505 [02:20<02:33,  1.67it/s]"
     ]
    },
    {
     "name": "stdout",
     "output_type": "stream",
     "text": [
      "[249/505] Processing: success_episode249_steps346\n"
     ]
    },
    {
     "name": "stderr",
     "output_type": "stream",
     "text": [
      "Processing episodes:  49%|████▉     | 249/505 [02:20<02:26,  1.75it/s]"
     ]
    },
    {
     "name": "stdout",
     "output_type": "stream",
     "text": [
      "[250/505] Processing: success_episode250_steps316\n"
     ]
    },
    {
     "name": "stderr",
     "output_type": "stream",
     "text": [
      "Processing episodes:  50%|████▉     | 250/505 [02:21<02:17,  1.85it/s]"
     ]
    },
    {
     "name": "stdout",
     "output_type": "stream",
     "text": [
      "[251/505] Processing: success_episode251_steps327\n"
     ]
    },
    {
     "name": "stderr",
     "output_type": "stream",
     "text": [
      "Processing episodes:  50%|████▉     | 251/505 [02:21<02:12,  1.92it/s]"
     ]
    },
    {
     "name": "stdout",
     "output_type": "stream",
     "text": [
      "[252/505] Processing: success_episode252_steps321\n"
     ]
    },
    {
     "name": "stderr",
     "output_type": "stream",
     "text": [
      "Processing episodes:  50%|████▉     | 252/505 [02:21<02:07,  1.99it/s]"
     ]
    },
    {
     "name": "stdout",
     "output_type": "stream",
     "text": [
      "[253/505] Processing: success_episode253_steps319\n"
     ]
    },
    {
     "name": "stderr",
     "output_type": "stream",
     "text": [
      "Processing episodes:  50%|█████     | 253/505 [02:22<02:03,  2.04it/s]"
     ]
    },
    {
     "name": "stdout",
     "output_type": "stream",
     "text": [
      "[254/505] Processing: success_episode254_steps323\n"
     ]
    },
    {
     "name": "stderr",
     "output_type": "stream",
     "text": [
      "Processing episodes:  50%|█████     | 254/505 [02:22<02:00,  2.08it/s]"
     ]
    },
    {
     "name": "stdout",
     "output_type": "stream",
     "text": [
      "[255/505] Processing: success_episode255_steps316\n"
     ]
    },
    {
     "name": "stderr",
     "output_type": "stream",
     "text": [
      "Processing episodes:  50%|█████     | 255/505 [02:23<01:58,  2.11it/s]"
     ]
    },
    {
     "name": "stdout",
     "output_type": "stream",
     "text": [
      "[256/505] Processing: success_episode256_steps346\n"
     ]
    },
    {
     "name": "stderr",
     "output_type": "stream",
     "text": [
      "Processing episodes:  51%|█████     | 256/505 [02:23<01:59,  2.08it/s]"
     ]
    },
    {
     "name": "stdout",
     "output_type": "stream",
     "text": [
      "[257/505] Processing: success_episode257_steps307\n"
     ]
    },
    {
     "name": "stderr",
     "output_type": "stream",
     "text": [
      "Processing episodes:  51%|█████     | 257/505 [02:24<01:56,  2.13it/s]"
     ]
    },
    {
     "name": "stdout",
     "output_type": "stream",
     "text": [
      "[258/505] Processing: success_episode258_steps311\n"
     ]
    },
    {
     "name": "stderr",
     "output_type": "stream",
     "text": [
      "Processing episodes:  51%|█████     | 258/505 [02:24<01:54,  2.16it/s]"
     ]
    },
    {
     "name": "stdout",
     "output_type": "stream",
     "text": [
      "[259/505] Processing: success_episode259_steps331\n"
     ]
    },
    {
     "name": "stderr",
     "output_type": "stream",
     "text": [
      "Processing episodes:  51%|█████▏    | 259/505 [02:25<01:55,  2.13it/s]"
     ]
    },
    {
     "name": "stdout",
     "output_type": "stream",
     "text": [
      "[260/505] Processing: success_episode260_steps307\n"
     ]
    },
    {
     "name": "stderr",
     "output_type": "stream",
     "text": [
      "Processing episodes:  51%|█████▏    | 260/505 [02:25<01:52,  2.17it/s]"
     ]
    },
    {
     "name": "stdout",
     "output_type": "stream",
     "text": [
      "[261/505] Processing: success_episode261_steps346\n"
     ]
    },
    {
     "name": "stderr",
     "output_type": "stream",
     "text": [
      "Processing episodes:  52%|█████▏    | 261/505 [02:26<01:55,  2.11it/s]"
     ]
    },
    {
     "name": "stdout",
     "output_type": "stream",
     "text": [
      "[262/505] Processing: success_episode262_steps318\n"
     ]
    },
    {
     "name": "stderr",
     "output_type": "stream",
     "text": [
      "Processing episodes:  52%|█████▏    | 262/505 [02:26<01:56,  2.08it/s]"
     ]
    },
    {
     "name": "stdout",
     "output_type": "stream",
     "text": [
      "[263/505] Processing: success_episode263_steps316\n"
     ]
    },
    {
     "name": "stderr",
     "output_type": "stream",
     "text": [
      "Processing episodes:  52%|█████▏    | 263/505 [02:27<01:54,  2.11it/s]"
     ]
    },
    {
     "name": "stdout",
     "output_type": "stream",
     "text": [
      "[264/505] Processing: success_episode264_steps321\n"
     ]
    },
    {
     "name": "stderr",
     "output_type": "stream",
     "text": [
      "Processing episodes:  52%|█████▏    | 264/505 [02:27<01:53,  2.12it/s]"
     ]
    },
    {
     "name": "stdout",
     "output_type": "stream",
     "text": [
      "[265/505] Processing: success_episode265_steps306\n"
     ]
    },
    {
     "name": "stderr",
     "output_type": "stream",
     "text": [
      "Processing episodes:  52%|█████▏    | 265/505 [02:28<01:51,  2.16it/s]"
     ]
    },
    {
     "name": "stdout",
     "output_type": "stream",
     "text": [
      "[266/505] Processing: success_episode266_steps307\n"
     ]
    },
    {
     "name": "stderr",
     "output_type": "stream",
     "text": [
      "Processing episodes:  53%|█████▎    | 266/505 [02:28<01:49,  2.19it/s]"
     ]
    },
    {
     "name": "stdout",
     "output_type": "stream",
     "text": [
      "[267/505] Processing: success_episode267_steps347\n"
     ]
    },
    {
     "name": "stderr",
     "output_type": "stream",
     "text": [
      "Processing episodes:  53%|█████▎    | 267/505 [02:28<01:51,  2.14it/s]"
     ]
    },
    {
     "name": "stdout",
     "output_type": "stream",
     "text": [
      "[268/505] Processing: success_episode268_steps324\n"
     ]
    },
    {
     "name": "stderr",
     "output_type": "stream",
     "text": [
      "Processing episodes:  53%|█████▎    | 268/505 [02:29<01:50,  2.14it/s]"
     ]
    },
    {
     "name": "stdout",
     "output_type": "stream",
     "text": [
      "[269/505] Processing: success_episode269_steps338\n"
     ]
    },
    {
     "name": "stderr",
     "output_type": "stream",
     "text": [
      "Processing episodes:  53%|█████▎    | 269/505 [02:29<01:52,  2.10it/s]"
     ]
    },
    {
     "name": "stdout",
     "output_type": "stream",
     "text": [
      "[270/505] Processing: success_episode270_steps332\n"
     ]
    },
    {
     "name": "stderr",
     "output_type": "stream",
     "text": [
      "Processing episodes:  53%|█████▎    | 270/505 [02:30<02:13,  1.76it/s]"
     ]
    },
    {
     "name": "stdout",
     "output_type": "stream",
     "text": [
      "[271/505] Processing: success_episode271_steps336\n"
     ]
    },
    {
     "name": "stderr",
     "output_type": "stream",
     "text": [
      "Processing episodes:  54%|█████▎    | 271/505 [02:31<02:28,  1.57it/s]"
     ]
    },
    {
     "name": "stdout",
     "output_type": "stream",
     "text": [
      "[272/505] Processing: success_episode272_steps342\n"
     ]
    },
    {
     "name": "stderr",
     "output_type": "stream",
     "text": [
      "Processing episodes:  54%|█████▍    | 272/505 [02:31<02:18,  1.69it/s]"
     ]
    },
    {
     "name": "stdout",
     "output_type": "stream",
     "text": [
      "[273/505] Processing: success_episode273_steps328\n"
     ]
    },
    {
     "name": "stderr",
     "output_type": "stream",
     "text": [
      "Processing episodes:  54%|█████▍    | 273/505 [02:32<02:08,  1.80it/s]"
     ]
    },
    {
     "name": "stdout",
     "output_type": "stream",
     "text": [
      "[274/505] Processing: success_episode274_steps312\n"
     ]
    },
    {
     "name": "stderr",
     "output_type": "stream",
     "text": [
      "Processing episodes:  54%|█████▍    | 274/505 [02:32<02:00,  1.91it/s]"
     ]
    },
    {
     "name": "stdout",
     "output_type": "stream",
     "text": [
      "[275/505] Processing: success_episode275_steps321\n"
     ]
    },
    {
     "name": "stderr",
     "output_type": "stream",
     "text": [
      "Processing episodes:  54%|█████▍    | 275/505 [02:33<01:55,  1.99it/s]"
     ]
    },
    {
     "name": "stdout",
     "output_type": "stream",
     "text": [
      "[276/505] Processing: success_episode276_steps320\n"
     ]
    },
    {
     "name": "stderr",
     "output_type": "stream",
     "text": [
      "Processing episodes:  55%|█████▍    | 276/505 [02:33<01:51,  2.04it/s]"
     ]
    },
    {
     "name": "stdout",
     "output_type": "stream",
     "text": [
      "[277/505] Processing: success_episode277_steps314\n"
     ]
    },
    {
     "name": "stderr",
     "output_type": "stream",
     "text": [
      "Processing episodes:  55%|█████▍    | 277/505 [02:34<01:48,  2.10it/s]"
     ]
    },
    {
     "name": "stdout",
     "output_type": "stream",
     "text": [
      "[278/505] Processing: success_episode278_steps305\n"
     ]
    },
    {
     "name": "stderr",
     "output_type": "stream",
     "text": [
      "Processing episodes:  55%|█████▌    | 278/505 [02:34<01:45,  2.15it/s]"
     ]
    },
    {
     "name": "stdout",
     "output_type": "stream",
     "text": [
      "[279/505] Processing: success_episode279_steps316\n"
     ]
    },
    {
     "name": "stderr",
     "output_type": "stream",
     "text": [
      "Processing episodes:  55%|█████▌    | 279/505 [02:35<01:44,  2.17it/s]"
     ]
    },
    {
     "name": "stdout",
     "output_type": "stream",
     "text": [
      "[280/505] Processing: success_episode280_steps306\n"
     ]
    },
    {
     "name": "stderr",
     "output_type": "stream",
     "text": [
      "Processing episodes:  55%|█████▌    | 280/505 [02:35<01:42,  2.20it/s]"
     ]
    },
    {
     "name": "stdout",
     "output_type": "stream",
     "text": [
      "[281/505] Processing: success_episode281_steps313\n"
     ]
    },
    {
     "name": "stderr",
     "output_type": "stream",
     "text": [
      "Processing episodes:  56%|█████▌    | 281/505 [02:36<01:41,  2.20it/s]"
     ]
    },
    {
     "name": "stdout",
     "output_type": "stream",
     "text": [
      "[282/505] Processing: success_episode282_steps331\n"
     ]
    },
    {
     "name": "stderr",
     "output_type": "stream",
     "text": [
      "Processing episodes:  56%|█████▌    | 282/505 [02:36<01:42,  2.17it/s]"
     ]
    },
    {
     "name": "stdout",
     "output_type": "stream",
     "text": [
      "[283/505] Processing: success_episode283_steps315\n"
     ]
    },
    {
     "name": "stderr",
     "output_type": "stream",
     "text": [
      "Processing episodes:  56%|█████▌    | 283/505 [02:36<01:41,  2.18it/s]"
     ]
    },
    {
     "name": "stdout",
     "output_type": "stream",
     "text": [
      "[284/505] Processing: success_episode284_steps339\n"
     ]
    },
    {
     "name": "stderr",
     "output_type": "stream",
     "text": [
      "Processing episodes:  56%|█████▌    | 284/505 [02:37<01:43,  2.14it/s]"
     ]
    },
    {
     "name": "stdout",
     "output_type": "stream",
     "text": [
      "[285/505] Processing: success_episode285_steps349\n"
     ]
    },
    {
     "name": "stderr",
     "output_type": "stream",
     "text": [
      "Processing episodes:  56%|█████▋    | 285/505 [02:37<01:45,  2.09it/s]"
     ]
    },
    {
     "name": "stdout",
     "output_type": "stream",
     "text": [
      "[286/505] Processing: success_episode286_steps323\n"
     ]
    },
    {
     "name": "stderr",
     "output_type": "stream",
     "text": [
      "Processing episodes:  57%|█████▋    | 286/505 [02:38<01:43,  2.11it/s]"
     ]
    },
    {
     "name": "stdout",
     "output_type": "stream",
     "text": [
      "[287/505] Processing: success_episode287_steps333\n"
     ]
    },
    {
     "name": "stderr",
     "output_type": "stream",
     "text": [
      "Processing episodes:  57%|█████▋    | 287/505 [02:38<01:48,  2.01it/s]"
     ]
    },
    {
     "name": "stdout",
     "output_type": "stream",
     "text": [
      "[288/505] Processing: success_episode288_steps348\n"
     ]
    },
    {
     "name": "stderr",
     "output_type": "stream",
     "text": [
      "Processing episodes:  57%|█████▋    | 288/505 [02:39<01:48,  2.01it/s]"
     ]
    },
    {
     "name": "stdout",
     "output_type": "stream",
     "text": [
      "[289/505] Processing: success_episode289_steps325\n"
     ]
    },
    {
     "name": "stderr",
     "output_type": "stream",
     "text": [
      "Processing episodes:  57%|█████▋    | 289/505 [02:39<01:45,  2.04it/s]"
     ]
    },
    {
     "name": "stdout",
     "output_type": "stream",
     "text": [
      "[290/505] Processing: success_episode290_steps320\n"
     ]
    },
    {
     "name": "stderr",
     "output_type": "stream",
     "text": [
      "Processing episodes:  57%|█████▋    | 290/505 [02:40<01:43,  2.08it/s]"
     ]
    },
    {
     "name": "stdout",
     "output_type": "stream",
     "text": [
      "[291/505] Processing: success_episode291_steps323\n"
     ]
    },
    {
     "name": "stderr",
     "output_type": "stream",
     "text": [
      "Processing episodes:  58%|█████▊    | 291/505 [02:40<01:46,  2.00it/s]"
     ]
    },
    {
     "name": "stdout",
     "output_type": "stream",
     "text": [
      "[292/505] Processing: success_episode292_steps329\n"
     ]
    },
    {
     "name": "stderr",
     "output_type": "stream",
     "text": [
      "Processing episodes:  58%|█████▊    | 292/505 [02:41<01:44,  2.03it/s]"
     ]
    },
    {
     "name": "stdout",
     "output_type": "stream",
     "text": [
      "[293/505] Processing: success_episode293_steps321\n"
     ]
    },
    {
     "name": "stderr",
     "output_type": "stream",
     "text": [
      "Processing episodes:  58%|█████▊    | 293/505 [02:41<01:42,  2.06it/s]"
     ]
    },
    {
     "name": "stdout",
     "output_type": "stream",
     "text": [
      "[294/505] Processing: success_episode294_steps338\n"
     ]
    },
    {
     "name": "stderr",
     "output_type": "stream",
     "text": [
      "Processing episodes:  58%|█████▊    | 294/505 [02:42<01:42,  2.06it/s]"
     ]
    },
    {
     "name": "stdout",
     "output_type": "stream",
     "text": [
      "[295/505] Processing: success_episode295_steps320\n"
     ]
    },
    {
     "name": "stderr",
     "output_type": "stream",
     "text": [
      "Processing episodes:  58%|█████▊    | 295/505 [02:43<01:58,  1.77it/s]"
     ]
    },
    {
     "name": "stdout",
     "output_type": "stream",
     "text": [
      "[296/505] Processing: success_episode296_steps324\n"
     ]
    },
    {
     "name": "stderr",
     "output_type": "stream",
     "text": [
      "Processing episodes:  59%|█████▊    | 296/505 [02:43<02:09,  1.62it/s]"
     ]
    },
    {
     "name": "stdout",
     "output_type": "stream",
     "text": [
      "[297/505] Processing: success_episode297_steps307\n"
     ]
    },
    {
     "name": "stderr",
     "output_type": "stream",
     "text": [
      "Processing episodes:  59%|█████▉    | 297/505 [02:44<02:14,  1.54it/s]"
     ]
    },
    {
     "name": "stdout",
     "output_type": "stream",
     "text": [
      "[298/505] Processing: success_episode298_steps306\n"
     ]
    },
    {
     "name": "stderr",
     "output_type": "stream",
     "text": [
      "Processing episodes:  59%|█████▉    | 298/505 [02:45<02:18,  1.50it/s]"
     ]
    },
    {
     "name": "stdout",
     "output_type": "stream",
     "text": [
      "[299/505] Processing: success_episode299_steps325\n"
     ]
    },
    {
     "name": "stderr",
     "output_type": "stream",
     "text": [
      "Processing episodes:  59%|█████▉    | 299/505 [02:46<02:22,  1.45it/s]"
     ]
    },
    {
     "name": "stdout",
     "output_type": "stream",
     "text": [
      "[300/505] Processing: success_episode300_steps313\n"
     ]
    },
    {
     "name": "stderr",
     "output_type": "stream",
     "text": [
      "Processing episodes:  59%|█████▉    | 300/505 [02:46<02:23,  1.43it/s]"
     ]
    },
    {
     "name": "stdout",
     "output_type": "stream",
     "text": [
      "[301/505] Processing: success_episode301_steps311\n"
     ]
    },
    {
     "name": "stderr",
     "output_type": "stream",
     "text": [
      "Processing episodes:  60%|█████▉    | 301/505 [02:47<02:24,  1.41it/s]"
     ]
    },
    {
     "name": "stdout",
     "output_type": "stream",
     "text": [
      "[302/505] Processing: success_episode302_steps315\n"
     ]
    },
    {
     "name": "stderr",
     "output_type": "stream",
     "text": [
      "Processing episodes:  60%|█████▉    | 302/505 [02:48<02:23,  1.41it/s]"
     ]
    },
    {
     "name": "stdout",
     "output_type": "stream",
     "text": [
      "[303/505] Processing: success_episode303_steps335\n"
     ]
    },
    {
     "name": "stderr",
     "output_type": "stream",
     "text": [
      "Processing episodes:  60%|██████    | 303/505 [02:48<02:27,  1.37it/s]"
     ]
    },
    {
     "name": "stdout",
     "output_type": "stream",
     "text": [
      "[304/505] Processing: success_episode304_steps320\n"
     ]
    },
    {
     "name": "stderr",
     "output_type": "stream",
     "text": [
      "Processing episodes:  60%|██████    | 304/505 [02:49<02:27,  1.36it/s]"
     ]
    },
    {
     "name": "stdout",
     "output_type": "stream",
     "text": [
      "[305/505] Processing: success_episode305_steps315\n"
     ]
    },
    {
     "name": "stderr",
     "output_type": "stream",
     "text": [
      "Processing episodes:  60%|██████    | 305/505 [02:50<02:26,  1.37it/s]"
     ]
    },
    {
     "name": "stdout",
     "output_type": "stream",
     "text": [
      "[306/505] Processing: success_episode306_steps312\n"
     ]
    },
    {
     "name": "stderr",
     "output_type": "stream",
     "text": [
      "Processing episodes:  61%|██████    | 306/505 [02:51<02:25,  1.37it/s]"
     ]
    },
    {
     "name": "stdout",
     "output_type": "stream",
     "text": [
      "[307/505] Processing: success_episode307_steps328\n"
     ]
    },
    {
     "name": "stderr",
     "output_type": "stream",
     "text": [
      "Processing episodes:  61%|██████    | 307/505 [02:51<02:26,  1.36it/s]"
     ]
    },
    {
     "name": "stdout",
     "output_type": "stream",
     "text": [
      "[308/505] Processing: success_episode308_steps311\n"
     ]
    },
    {
     "name": "stderr",
     "output_type": "stream",
     "text": [
      "Processing episodes:  61%|██████    | 308/505 [02:52<02:24,  1.37it/s]"
     ]
    },
    {
     "name": "stdout",
     "output_type": "stream",
     "text": [
      "[309/505] Processing: success_episode309_steps338\n"
     ]
    },
    {
     "name": "stderr",
     "output_type": "stream",
     "text": [
      "Processing episodes:  61%|██████    | 309/505 [02:53<02:27,  1.33it/s]"
     ]
    },
    {
     "name": "stdout",
     "output_type": "stream",
     "text": [
      "[310/505] Processing: success_episode310_steps306\n"
     ]
    },
    {
     "name": "stderr",
     "output_type": "stream",
     "text": [
      "Processing episodes:  61%|██████▏   | 310/505 [02:53<02:08,  1.51it/s]"
     ]
    },
    {
     "name": "stdout",
     "output_type": "stream",
     "text": [
      "[311/505] Processing: success_episode311_steps320\n"
     ]
    },
    {
     "name": "stderr",
     "output_type": "stream",
     "text": [
      "Processing episodes:  62%|██████▏   | 311/505 [02:54<01:56,  1.67it/s]"
     ]
    },
    {
     "name": "stdout",
     "output_type": "stream",
     "text": [
      "[312/505] Processing: success_episode312_steps347\n"
     ]
    },
    {
     "name": "stderr",
     "output_type": "stream",
     "text": [
      "Processing episodes:  62%|██████▏   | 312/505 [02:55<02:00,  1.60it/s]"
     ]
    },
    {
     "name": "stdout",
     "output_type": "stream",
     "text": [
      "[313/505] Processing: success_episode313_steps332\n"
     ]
    },
    {
     "name": "stderr",
     "output_type": "stream",
     "text": [
      "Processing episodes:  62%|██████▏   | 313/505 [02:55<02:08,  1.49it/s]"
     ]
    },
    {
     "name": "stdout",
     "output_type": "stream",
     "text": [
      "[314/505] Processing: success_episode314_steps317\n"
     ]
    },
    {
     "name": "stderr",
     "output_type": "stream",
     "text": [
      "Processing episodes:  62%|██████▏   | 314/505 [02:56<02:12,  1.45it/s]"
     ]
    },
    {
     "name": "stdout",
     "output_type": "stream",
     "text": [
      "[315/505] Processing: success_episode315_steps322\n"
     ]
    },
    {
     "name": "stderr",
     "output_type": "stream",
     "text": [
      "Processing episodes:  62%|██████▏   | 315/505 [02:57<02:14,  1.41it/s]"
     ]
    },
    {
     "name": "stdout",
     "output_type": "stream",
     "text": [
      "[316/505] Processing: success_episode316_steps309\n"
     ]
    },
    {
     "name": "stderr",
     "output_type": "stream",
     "text": [
      "Processing episodes:  63%|██████▎   | 316/505 [02:58<02:14,  1.40it/s]"
     ]
    },
    {
     "name": "stdout",
     "output_type": "stream",
     "text": [
      "[317/505] Processing: success_episode317_steps328\n"
     ]
    },
    {
     "name": "stderr",
     "output_type": "stream",
     "text": [
      "Processing episodes:  63%|██████▎   | 317/505 [02:58<02:16,  1.38it/s]"
     ]
    },
    {
     "name": "stdout",
     "output_type": "stream",
     "text": [
      "[318/505] Processing: success_episode318_steps322\n"
     ]
    },
    {
     "name": "stderr",
     "output_type": "stream",
     "text": [
      "Processing episodes:  63%|██████▎   | 318/505 [02:59<02:17,  1.36it/s]"
     ]
    },
    {
     "name": "stdout",
     "output_type": "stream",
     "text": [
      "[319/505] Processing: success_episode319_steps330\n"
     ]
    },
    {
     "name": "stderr",
     "output_type": "stream",
     "text": [
      "Processing episodes:  63%|██████▎   | 319/505 [03:00<02:18,  1.34it/s]"
     ]
    },
    {
     "name": "stdout",
     "output_type": "stream",
     "text": [
      "[320/505] Processing: success_episode320_steps328\n"
     ]
    },
    {
     "name": "stderr",
     "output_type": "stream",
     "text": [
      "Processing episodes:  63%|██████▎   | 320/505 [03:00<02:03,  1.50it/s]"
     ]
    },
    {
     "name": "stdout",
     "output_type": "stream",
     "text": [
      "[321/505] Processing: success_episode321_steps340\n"
     ]
    },
    {
     "name": "stderr",
     "output_type": "stream",
     "text": [
      "Processing episodes:  64%|██████▎   | 321/505 [03:01<02:08,  1.43it/s]"
     ]
    },
    {
     "name": "stdout",
     "output_type": "stream",
     "text": [
      "[322/505] Processing: success_episode322_steps327\n"
     ]
    },
    {
     "name": "stderr",
     "output_type": "stream",
     "text": [
      "Processing episodes:  64%|██████▍   | 322/505 [03:02<02:11,  1.39it/s]"
     ]
    },
    {
     "name": "stdout",
     "output_type": "stream",
     "text": [
      "[323/505] Processing: success_episode323_steps323\n"
     ]
    },
    {
     "name": "stderr",
     "output_type": "stream",
     "text": [
      "Processing episodes:  64%|██████▍   | 323/505 [03:03<02:12,  1.37it/s]"
     ]
    },
    {
     "name": "stdout",
     "output_type": "stream",
     "text": [
      "[324/505] Processing: success_episode324_steps314\n"
     ]
    },
    {
     "name": "stderr",
     "output_type": "stream",
     "text": [
      "Processing episodes:  64%|██████▍   | 324/505 [03:03<01:57,  1.54it/s]"
     ]
    },
    {
     "name": "stdout",
     "output_type": "stream",
     "text": [
      "[325/505] Processing: success_episode325_steps304\n"
     ]
    },
    {
     "name": "stderr",
     "output_type": "stream",
     "text": [
      "Processing episodes:  64%|██████▍   | 325/505 [03:04<01:45,  1.70it/s]"
     ]
    },
    {
     "name": "stdout",
     "output_type": "stream",
     "text": [
      "[326/505] Processing: success_episode326_steps313\n"
     ]
    },
    {
     "name": "stderr",
     "output_type": "stream",
     "text": [
      "Processing episodes:  65%|██████▍   | 326/505 [03:04<01:40,  1.79it/s]"
     ]
    },
    {
     "name": "stdout",
     "output_type": "stream",
     "text": [
      "[327/505] Processing: success_episode327_steps331\n"
     ]
    },
    {
     "name": "stderr",
     "output_type": "stream",
     "text": [
      "Processing episodes:  65%|██████▍   | 327/505 [03:05<01:50,  1.61it/s]"
     ]
    },
    {
     "name": "stdout",
     "output_type": "stream",
     "text": [
      "[328/505] Processing: success_episode328_steps328\n"
     ]
    },
    {
     "name": "stderr",
     "output_type": "stream",
     "text": [
      "Processing episodes:  65%|██████▍   | 328/505 [03:06<01:57,  1.50it/s]"
     ]
    },
    {
     "name": "stdout",
     "output_type": "stream",
     "text": [
      "[329/505] Processing: success_episode329_steps326\n"
     ]
    },
    {
     "name": "stderr",
     "output_type": "stream",
     "text": [
      "Processing episodes:  65%|██████▌   | 329/505 [03:06<02:02,  1.44it/s]"
     ]
    },
    {
     "name": "stdout",
     "output_type": "stream",
     "text": [
      "[330/505] Processing: success_episode330_steps320\n"
     ]
    },
    {
     "name": "stderr",
     "output_type": "stream",
     "text": [
      "Processing episodes:  65%|██████▌   | 330/505 [03:07<02:03,  1.41it/s]"
     ]
    },
    {
     "name": "stdout",
     "output_type": "stream",
     "text": [
      "[331/505] Processing: success_episode331_steps305\n"
     ]
    },
    {
     "name": "stderr",
     "output_type": "stream",
     "text": [
      "Processing episodes:  66%|██████▌   | 331/505 [03:08<02:03,  1.41it/s]"
     ]
    },
    {
     "name": "stdout",
     "output_type": "stream",
     "text": [
      "[332/505] Processing: success_episode332_steps322\n"
     ]
    },
    {
     "name": "stderr",
     "output_type": "stream",
     "text": [
      "Processing episodes:  66%|██████▌   | 332/505 [03:08<02:04,  1.39it/s]"
     ]
    },
    {
     "name": "stdout",
     "output_type": "stream",
     "text": [
      "[333/505] Processing: success_episode333_steps305\n"
     ]
    },
    {
     "name": "stderr",
     "output_type": "stream",
     "text": [
      "Processing episodes:  66%|██████▌   | 333/505 [03:09<02:03,  1.40it/s]"
     ]
    },
    {
     "name": "stdout",
     "output_type": "stream",
     "text": [
      "[334/505] Processing: success_episode334_steps330\n"
     ]
    },
    {
     "name": "stderr",
     "output_type": "stream",
     "text": [
      "Processing episodes:  66%|██████▌   | 334/505 [03:10<01:50,  1.55it/s]"
     ]
    },
    {
     "name": "stdout",
     "output_type": "stream",
     "text": [
      "[335/505] Processing: success_episode335_steps318\n"
     ]
    },
    {
     "name": "stderr",
     "output_type": "stream",
     "text": [
      "Processing episodes:  66%|██████▋   | 335/505 [03:10<01:39,  1.70it/s]"
     ]
    },
    {
     "name": "stdout",
     "output_type": "stream",
     "text": [
      "[336/505] Processing: success_episode336_steps340\n"
     ]
    },
    {
     "name": "stderr",
     "output_type": "stream",
     "text": [
      "Processing episodes:  67%|██████▋   | 336/505 [03:11<01:33,  1.80it/s]"
     ]
    },
    {
     "name": "stdout",
     "output_type": "stream",
     "text": [
      "[337/505] Processing: success_episode337_steps341\n"
     ]
    },
    {
     "name": "stderr",
     "output_type": "stream",
     "text": [
      "Processing episodes:  67%|██████▋   | 337/505 [03:11<01:30,  1.86it/s]"
     ]
    },
    {
     "name": "stdout",
     "output_type": "stream",
     "text": [
      "[338/505] Processing: success_episode338_steps317\n"
     ]
    },
    {
     "name": "stderr",
     "output_type": "stream",
     "text": [
      "Processing episodes:  67%|██████▋   | 338/505 [03:12<01:25,  1.95it/s]"
     ]
    },
    {
     "name": "stdout",
     "output_type": "stream",
     "text": [
      "[339/505] Processing: success_episode339_steps306\n"
     ]
    },
    {
     "name": "stderr",
     "output_type": "stream",
     "text": [
      "Processing episodes:  67%|██████▋   | 339/505 [03:12<01:21,  2.04it/s]"
     ]
    },
    {
     "name": "stdout",
     "output_type": "stream",
     "text": [
      "[340/505] Processing: success_episode340_steps331\n"
     ]
    },
    {
     "name": "stderr",
     "output_type": "stream",
     "text": [
      "Processing episodes:  67%|██████▋   | 340/505 [03:12<01:20,  2.04it/s]"
     ]
    },
    {
     "name": "stdout",
     "output_type": "stream",
     "text": [
      "[341/505] Processing: success_episode341_steps307\n"
     ]
    },
    {
     "name": "stderr",
     "output_type": "stream",
     "text": [
      "Processing episodes:  68%|██████▊   | 341/505 [03:13<01:17,  2.10it/s]"
     ]
    },
    {
     "name": "stdout",
     "output_type": "stream",
     "text": [
      "[342/505] Processing: success_episode342_steps324\n"
     ]
    },
    {
     "name": "stderr",
     "output_type": "stream",
     "text": [
      "Processing episodes:  68%|██████▊   | 342/505 [03:13<01:17,  2.12it/s]"
     ]
    },
    {
     "name": "stdout",
     "output_type": "stream",
     "text": [
      "[343/505] Processing: success_episode343_steps324\n"
     ]
    },
    {
     "name": "stderr",
     "output_type": "stream",
     "text": [
      "Processing episodes:  68%|██████▊   | 343/505 [03:14<01:16,  2.13it/s]"
     ]
    },
    {
     "name": "stdout",
     "output_type": "stream",
     "text": [
      "[344/505] Processing: success_episode344_steps316\n"
     ]
    },
    {
     "name": "stderr",
     "output_type": "stream",
     "text": [
      "Processing episodes:  68%|██████▊   | 344/505 [03:14<01:14,  2.15it/s]"
     ]
    },
    {
     "name": "stdout",
     "output_type": "stream",
     "text": [
      "[345/505] Processing: success_episode345_steps324\n"
     ]
    },
    {
     "name": "stderr",
     "output_type": "stream",
     "text": [
      "Processing episodes:  68%|██████▊   | 345/505 [03:15<01:14,  2.15it/s]"
     ]
    },
    {
     "name": "stdout",
     "output_type": "stream",
     "text": [
      "[346/505] Processing: success_episode346_steps327\n"
     ]
    },
    {
     "name": "stderr",
     "output_type": "stream",
     "text": [
      "Processing episodes:  69%|██████▊   | 346/505 [03:15<01:14,  2.15it/s]"
     ]
    },
    {
     "name": "stdout",
     "output_type": "stream",
     "text": [
      "[347/505] Processing: success_episode347_steps332\n"
     ]
    },
    {
     "name": "stderr",
     "output_type": "stream",
     "text": [
      "Processing episodes:  69%|██████▊   | 347/505 [03:16<01:14,  2.12it/s]"
     ]
    },
    {
     "name": "stdout",
     "output_type": "stream",
     "text": [
      "[348/505] Processing: success_episode348_steps315\n"
     ]
    },
    {
     "name": "stderr",
     "output_type": "stream",
     "text": [
      "Processing episodes:  69%|██████▉   | 348/505 [03:16<01:12,  2.15it/s]"
     ]
    },
    {
     "name": "stdout",
     "output_type": "stream",
     "text": [
      "[349/505] Processing: success_episode349_steps335\n"
     ]
    },
    {
     "name": "stderr",
     "output_type": "stream",
     "text": [
      "Processing episodes:  69%|██████▉   | 349/505 [03:17<01:13,  2.12it/s]"
     ]
    },
    {
     "name": "stdout",
     "output_type": "stream",
     "text": [
      "[350/505] Processing: success_episode350_steps343\n"
     ]
    },
    {
     "name": "stderr",
     "output_type": "stream",
     "text": [
      "Processing episodes:  69%|██████▉   | 350/505 [03:17<01:14,  2.09it/s]"
     ]
    },
    {
     "name": "stdout",
     "output_type": "stream",
     "text": [
      "[351/505] Processing: success_episode351_steps334\n"
     ]
    },
    {
     "name": "stderr",
     "output_type": "stream",
     "text": [
      "Processing episodes:  70%|██████▉   | 351/505 [03:18<01:13,  2.09it/s]"
     ]
    },
    {
     "name": "stdout",
     "output_type": "stream",
     "text": [
      "[352/505] Processing: success_episode352_steps331\n"
     ]
    },
    {
     "name": "stderr",
     "output_type": "stream",
     "text": [
      "Processing episodes:  70%|██████▉   | 352/505 [03:18<01:13,  2.09it/s]"
     ]
    },
    {
     "name": "stdout",
     "output_type": "stream",
     "text": [
      "[353/505] Processing: success_episode353_steps318\n"
     ]
    },
    {
     "name": "stderr",
     "output_type": "stream",
     "text": [
      "Processing episodes:  70%|██████▉   | 353/505 [03:19<01:14,  2.03it/s]"
     ]
    },
    {
     "name": "stdout",
     "output_type": "stream",
     "text": [
      "[354/505] Processing: success_episode354_steps327\n"
     ]
    },
    {
     "name": "stderr",
     "output_type": "stream",
     "text": [
      "Processing episodes:  70%|███████   | 354/505 [03:19<01:14,  2.03it/s]"
     ]
    },
    {
     "name": "stdout",
     "output_type": "stream",
     "text": [
      "[355/505] Processing: success_episode355_steps337\n"
     ]
    },
    {
     "name": "stderr",
     "output_type": "stream",
     "text": [
      "Processing episodes:  70%|███████   | 355/505 [03:20<01:14,  2.02it/s]"
     ]
    },
    {
     "name": "stdout",
     "output_type": "stream",
     "text": [
      "[356/505] Processing: success_episode356_steps323\n"
     ]
    },
    {
     "name": "stderr",
     "output_type": "stream",
     "text": [
      "Processing episodes:  70%|███████   | 356/505 [03:20<01:12,  2.05it/s]"
     ]
    },
    {
     "name": "stdout",
     "output_type": "stream",
     "text": [
      "[357/505] Processing: success_episode357_steps310\n"
     ]
    },
    {
     "name": "stderr",
     "output_type": "stream",
     "text": [
      "Processing episodes:  71%|███████   | 357/505 [03:21<01:11,  2.08it/s]"
     ]
    },
    {
     "name": "stdout",
     "output_type": "stream",
     "text": [
      "[358/505] Processing: success_episode358_steps305\n"
     ]
    },
    {
     "name": "stderr",
     "output_type": "stream",
     "text": [
      "Processing episodes:  71%|███████   | 358/505 [03:21<01:09,  2.13it/s]"
     ]
    },
    {
     "name": "stdout",
     "output_type": "stream",
     "text": [
      "[359/505] Processing: success_episode359_steps326\n"
     ]
    },
    {
     "name": "stderr",
     "output_type": "stream",
     "text": [
      "Processing episodes:  71%|███████   | 359/505 [03:22<01:15,  1.92it/s]"
     ]
    },
    {
     "name": "stdout",
     "output_type": "stream",
     "text": [
      "[360/505] Processing: success_episode360_steps323\n"
     ]
    },
    {
     "name": "stderr",
     "output_type": "stream",
     "text": [
      "Processing episodes:  71%|███████▏  | 360/505 [03:22<01:25,  1.69it/s]"
     ]
    },
    {
     "name": "stdout",
     "output_type": "stream",
     "text": [
      "[361/505] Processing: success_episode361_steps309\n"
     ]
    },
    {
     "name": "stderr",
     "output_type": "stream",
     "text": [
      "Processing episodes:  71%|███████▏  | 361/505 [03:23<01:30,  1.59it/s]"
     ]
    },
    {
     "name": "stdout",
     "output_type": "stream",
     "text": [
      "[362/505] Processing: success_episode362_steps314\n"
     ]
    },
    {
     "name": "stderr",
     "output_type": "stream",
     "text": [
      "Processing episodes:  72%|███████▏  | 362/505 [03:24<01:34,  1.52it/s]"
     ]
    },
    {
     "name": "stdout",
     "output_type": "stream",
     "text": [
      "[363/505] Processing: success_episode363_steps310\n"
     ]
    },
    {
     "name": "stderr",
     "output_type": "stream",
     "text": [
      "Processing episodes:  72%|███████▏  | 363/505 [03:25<01:36,  1.48it/s]"
     ]
    },
    {
     "name": "stdout",
     "output_type": "stream",
     "text": [
      "[364/505] Processing: success_episode364_steps309\n"
     ]
    },
    {
     "name": "stderr",
     "output_type": "stream",
     "text": [
      "Processing episodes:  72%|███████▏  | 364/505 [03:25<01:37,  1.45it/s]"
     ]
    },
    {
     "name": "stdout",
     "output_type": "stream",
     "text": [
      "[365/505] Processing: success_episode365_steps308\n"
     ]
    },
    {
     "name": "stderr",
     "output_type": "stream",
     "text": [
      "Processing episodes:  72%|███████▏  | 365/505 [03:26<01:37,  1.43it/s]"
     ]
    },
    {
     "name": "stdout",
     "output_type": "stream",
     "text": [
      "[366/505] Processing: success_episode366_steps313\n"
     ]
    },
    {
     "name": "stderr",
     "output_type": "stream",
     "text": [
      "Processing episodes:  72%|███████▏  | 366/505 [03:27<01:38,  1.41it/s]"
     ]
    },
    {
     "name": "stdout",
     "output_type": "stream",
     "text": [
      "[367/505] Processing: success_episode367_steps349\n"
     ]
    },
    {
     "name": "stderr",
     "output_type": "stream",
     "text": [
      "Processing episodes:  73%|███████▎  | 367/505 [03:28<01:42,  1.35it/s]"
     ]
    },
    {
     "name": "stdout",
     "output_type": "stream",
     "text": [
      "[368/505] Processing: success_episode368_steps322\n"
     ]
    },
    {
     "name": "stderr",
     "output_type": "stream",
     "text": [
      "Processing episodes:  73%|███████▎  | 368/505 [03:28<01:42,  1.34it/s]"
     ]
    },
    {
     "name": "stdout",
     "output_type": "stream",
     "text": [
      "[369/505] Processing: success_episode369_steps338\n"
     ]
    },
    {
     "name": "stderr",
     "output_type": "stream",
     "text": [
      "Processing episodes:  73%|███████▎  | 369/505 [03:29<01:42,  1.32it/s]"
     ]
    },
    {
     "name": "stdout",
     "output_type": "stream",
     "text": [
      "[370/505] Processing: success_episode370_steps319\n"
     ]
    },
    {
     "name": "stderr",
     "output_type": "stream",
     "text": [
      "Processing episodes:  73%|███████▎  | 370/505 [03:30<01:41,  1.33it/s]"
     ]
    },
    {
     "name": "stdout",
     "output_type": "stream",
     "text": [
      "[371/505] Processing: success_episode371_steps309\n"
     ]
    },
    {
     "name": "stderr",
     "output_type": "stream",
     "text": [
      "Processing episodes:  73%|███████▎  | 371/505 [03:30<01:28,  1.52it/s]"
     ]
    },
    {
     "name": "stdout",
     "output_type": "stream",
     "text": [
      "[372/505] Processing: success_episode372_steps344\n"
     ]
    },
    {
     "name": "stderr",
     "output_type": "stream",
     "text": [
      "Processing episodes:  74%|███████▎  | 372/505 [03:31<01:21,  1.64it/s]"
     ]
    },
    {
     "name": "stdout",
     "output_type": "stream",
     "text": [
      "[373/505] Processing: success_episode373_steps311\n"
     ]
    },
    {
     "name": "stderr",
     "output_type": "stream",
     "text": [
      "Processing episodes:  74%|███████▍  | 373/505 [03:31<01:14,  1.78it/s]"
     ]
    },
    {
     "name": "stdout",
     "output_type": "stream",
     "text": [
      "[374/505] Processing: success_episode374_steps324\n"
     ]
    },
    {
     "name": "stderr",
     "output_type": "stream",
     "text": [
      "Processing episodes:  74%|███████▍  | 374/505 [03:32<01:10,  1.87it/s]"
     ]
    },
    {
     "name": "stdout",
     "output_type": "stream",
     "text": [
      "[375/505] Processing: success_episode375_steps337\n"
     ]
    },
    {
     "name": "stderr",
     "output_type": "stream",
     "text": [
      "Processing episodes:  74%|███████▍  | 375/505 [03:32<01:07,  1.92it/s]"
     ]
    },
    {
     "name": "stdout",
     "output_type": "stream",
     "text": [
      "[376/505] Processing: success_episode376_steps337\n"
     ]
    },
    {
     "name": "stderr",
     "output_type": "stream",
     "text": [
      "Processing episodes:  74%|███████▍  | 376/505 [03:33<01:06,  1.95it/s]"
     ]
    },
    {
     "name": "stdout",
     "output_type": "stream",
     "text": [
      "[377/505] Processing: success_episode377_steps332\n"
     ]
    },
    {
     "name": "stderr",
     "output_type": "stream",
     "text": [
      "Processing episodes:  75%|███████▍  | 377/505 [03:33<01:04,  1.99it/s]"
     ]
    },
    {
     "name": "stdout",
     "output_type": "stream",
     "text": [
      "[378/505] Processing: success_episode378_steps307\n"
     ]
    },
    {
     "name": "stderr",
     "output_type": "stream",
     "text": [
      "Processing episodes:  75%|███████▍  | 378/505 [03:34<01:01,  2.05it/s]"
     ]
    },
    {
     "name": "stdout",
     "output_type": "stream",
     "text": [
      "[379/505] Processing: success_episode379_steps314\n"
     ]
    },
    {
     "name": "stderr",
     "output_type": "stream",
     "text": [
      "Processing episodes:  75%|███████▌  | 379/505 [03:34<01:00,  2.10it/s]"
     ]
    },
    {
     "name": "stdout",
     "output_type": "stream",
     "text": [
      "[380/505] Processing: success_episode380_steps319\n"
     ]
    },
    {
     "name": "stderr",
     "output_type": "stream",
     "text": [
      "Processing episodes:  75%|███████▌  | 380/505 [03:35<00:58,  2.12it/s]"
     ]
    },
    {
     "name": "stdout",
     "output_type": "stream",
     "text": [
      "[381/505] Processing: success_episode381_steps334\n"
     ]
    },
    {
     "name": "stderr",
     "output_type": "stream",
     "text": [
      "Processing episodes:  75%|███████▌  | 381/505 [03:35<00:58,  2.10it/s]"
     ]
    },
    {
     "name": "stdout",
     "output_type": "stream",
     "text": [
      "[382/505] Processing: success_episode382_steps329\n"
     ]
    },
    {
     "name": "stderr",
     "output_type": "stream",
     "text": [
      "Processing episodes:  76%|███████▌  | 382/505 [03:36<01:00,  2.04it/s]"
     ]
    },
    {
     "name": "stdout",
     "output_type": "stream",
     "text": [
      "[383/505] Processing: success_episode383_steps313\n"
     ]
    },
    {
     "name": "stderr",
     "output_type": "stream",
     "text": [
      "Processing episodes:  76%|███████▌  | 383/505 [03:36<00:58,  2.09it/s]"
     ]
    },
    {
     "name": "stdout",
     "output_type": "stream",
     "text": [
      "[384/505] Processing: success_episode384_steps315\n"
     ]
    },
    {
     "name": "stderr",
     "output_type": "stream",
     "text": [
      "Processing episodes:  76%|███████▌  | 384/505 [03:36<00:57,  2.12it/s]"
     ]
    },
    {
     "name": "stdout",
     "output_type": "stream",
     "text": [
      "[385/505] Processing: success_episode385_steps345\n"
     ]
    },
    {
     "name": "stderr",
     "output_type": "stream",
     "text": [
      "Processing episodes:  76%|███████▌  | 385/505 [03:37<00:57,  2.09it/s]"
     ]
    },
    {
     "name": "stdout",
     "output_type": "stream",
     "text": [
      "[386/505] Processing: success_episode386_steps315\n"
     ]
    },
    {
     "name": "stderr",
     "output_type": "stream",
     "text": [
      "Processing episodes:  76%|███████▋  | 386/505 [03:37<00:56,  2.12it/s]"
     ]
    },
    {
     "name": "stdout",
     "output_type": "stream",
     "text": [
      "[387/505] Processing: success_episode387_steps330\n"
     ]
    },
    {
     "name": "stderr",
     "output_type": "stream",
     "text": [
      "Processing episodes:  77%|███████▋  | 387/505 [03:38<00:55,  2.12it/s]"
     ]
    },
    {
     "name": "stdout",
     "output_type": "stream",
     "text": [
      "[388/505] Processing: success_episode388_steps318\n"
     ]
    },
    {
     "name": "stderr",
     "output_type": "stream",
     "text": [
      "Processing episodes:  77%|███████▋  | 388/505 [03:39<01:04,  1.81it/s]"
     ]
    },
    {
     "name": "stdout",
     "output_type": "stream",
     "text": [
      "[389/505] Processing: success_episode389_steps321\n"
     ]
    },
    {
     "name": "stderr",
     "output_type": "stream",
     "text": [
      "Processing episodes:  77%|███████▋  | 389/505 [03:39<01:10,  1.64it/s]"
     ]
    },
    {
     "name": "stdout",
     "output_type": "stream",
     "text": [
      "[390/505] Processing: success_episode390_steps341\n"
     ]
    },
    {
     "name": "stderr",
     "output_type": "stream",
     "text": [
      "Processing episodes:  77%|███████▋  | 390/505 [03:40<01:17,  1.49it/s]"
     ]
    },
    {
     "name": "stdout",
     "output_type": "stream",
     "text": [
      "[391/505] Processing: success_episode391_steps327\n"
     ]
    },
    {
     "name": "stderr",
     "output_type": "stream",
     "text": [
      "Processing episodes:  77%|███████▋  | 391/505 [03:41<01:12,  1.57it/s]"
     ]
    },
    {
     "name": "stdout",
     "output_type": "stream",
     "text": [
      "[392/505] Processing: success_episode392_steps317\n"
     ]
    },
    {
     "name": "stderr",
     "output_type": "stream",
     "text": [
      "Processing episodes:  78%|███████▊  | 392/505 [03:41<01:06,  1.71it/s]"
     ]
    },
    {
     "name": "stdout",
     "output_type": "stream",
     "text": [
      "[393/505] Processing: success_episode393_steps319\n"
     ]
    },
    {
     "name": "stderr",
     "output_type": "stream",
     "text": [
      "Processing episodes:  78%|███████▊  | 393/505 [03:42<01:01,  1.83it/s]"
     ]
    },
    {
     "name": "stdout",
     "output_type": "stream",
     "text": [
      "[394/505] Processing: success_episode394_steps318\n"
     ]
    },
    {
     "name": "stderr",
     "output_type": "stream",
     "text": [
      "Processing episodes:  78%|███████▊  | 394/505 [03:42<00:57,  1.92it/s]"
     ]
    },
    {
     "name": "stdout",
     "output_type": "stream",
     "text": [
      "[395/505] Processing: success_episode395_steps313\n"
     ]
    },
    {
     "name": "stderr",
     "output_type": "stream",
     "text": [
      "Processing episodes:  78%|███████▊  | 395/505 [03:43<00:55,  2.00it/s]"
     ]
    },
    {
     "name": "stdout",
     "output_type": "stream",
     "text": [
      "[396/505] Processing: success_episode396_steps337\n"
     ]
    },
    {
     "name": "stderr",
     "output_type": "stream",
     "text": [
      "Processing episodes:  78%|███████▊  | 396/505 [03:43<00:54,  2.01it/s]"
     ]
    },
    {
     "name": "stdout",
     "output_type": "stream",
     "text": [
      "[397/505] Processing: success_episode397_steps322\n"
     ]
    },
    {
     "name": "stderr",
     "output_type": "stream",
     "text": [
      "Processing episodes:  79%|███████▊  | 397/505 [03:44<00:53,  2.04it/s]"
     ]
    },
    {
     "name": "stdout",
     "output_type": "stream",
     "text": [
      "[398/505] Processing: success_episode398_steps304\n"
     ]
    },
    {
     "name": "stderr",
     "output_type": "stream",
     "text": [
      "Processing episodes:  79%|███████▉  | 398/505 [03:44<00:51,  2.10it/s]"
     ]
    },
    {
     "name": "stdout",
     "output_type": "stream",
     "text": [
      "[399/505] Processing: success_episode399_steps304\n"
     ]
    },
    {
     "name": "stderr",
     "output_type": "stream",
     "text": [
      "Processing episodes:  79%|███████▉  | 399/505 [03:45<00:53,  1.97it/s]"
     ]
    },
    {
     "name": "stdout",
     "output_type": "stream",
     "text": [
      "[400/505] Processing: success_episode400_steps327\n"
     ]
    },
    {
     "name": "stderr",
     "output_type": "stream",
     "text": [
      "Processing episodes:  79%|███████▉  | 400/505 [03:45<01:01,  1.71it/s]"
     ]
    },
    {
     "name": "stdout",
     "output_type": "stream",
     "text": [
      "[401/505] Processing: success_episode401_steps307\n"
     ]
    },
    {
     "name": "stderr",
     "output_type": "stream",
     "text": [
      "Processing episodes:  79%|███████▉  | 401/505 [03:46<00:56,  1.84it/s]"
     ]
    },
    {
     "name": "stdout",
     "output_type": "stream",
     "text": [
      "[402/505] Processing: success_episode402_steps307\n"
     ]
    },
    {
     "name": "stderr",
     "output_type": "stream",
     "text": [
      "Processing episodes:  80%|███████▉  | 402/505 [03:46<01:00,  1.70it/s]"
     ]
    },
    {
     "name": "stdout",
     "output_type": "stream",
     "text": [
      "[403/505] Processing: success_episode403_steps309\n"
     ]
    },
    {
     "name": "stderr",
     "output_type": "stream",
     "text": [
      "Processing episodes:  80%|███████▉  | 403/505 [03:47<01:04,  1.59it/s]"
     ]
    },
    {
     "name": "stdout",
     "output_type": "stream",
     "text": [
      "[404/505] Processing: success_episode404_steps311\n"
     ]
    },
    {
     "name": "stderr",
     "output_type": "stream",
     "text": [
      "Processing episodes:  80%|████████  | 404/505 [03:48<01:06,  1.51it/s]"
     ]
    },
    {
     "name": "stdout",
     "output_type": "stream",
     "text": [
      "[405/505] Processing: success_episode405_steps334\n"
     ]
    },
    {
     "name": "stderr",
     "output_type": "stream",
     "text": [
      "Processing episodes:  80%|████████  | 405/505 [03:49<01:09,  1.43it/s]"
     ]
    },
    {
     "name": "stdout",
     "output_type": "stream",
     "text": [
      "[406/505] Processing: success_episode406_steps315\n"
     ]
    },
    {
     "name": "stderr",
     "output_type": "stream",
     "text": [
      "Processing episodes:  80%|████████  | 406/505 [03:49<01:10,  1.41it/s]"
     ]
    },
    {
     "name": "stdout",
     "output_type": "stream",
     "text": [
      "[407/505] Processing: success_episode407_steps308\n"
     ]
    },
    {
     "name": "stderr",
     "output_type": "stream",
     "text": [
      "Processing episodes:  81%|████████  | 407/505 [03:50<01:09,  1.41it/s]"
     ]
    },
    {
     "name": "stdout",
     "output_type": "stream",
     "text": [
      "[408/505] Processing: success_episode408_steps312\n"
     ]
    },
    {
     "name": "stderr",
     "output_type": "stream",
     "text": [
      "Processing episodes:  81%|████████  | 408/505 [03:51<01:09,  1.40it/s]"
     ]
    },
    {
     "name": "stdout",
     "output_type": "stream",
     "text": [
      "[409/505] Processing: success_episode409_steps343\n"
     ]
    },
    {
     "name": "stderr",
     "output_type": "stream",
     "text": [
      "Processing episodes:  81%|████████  | 409/505 [03:51<01:04,  1.48it/s]"
     ]
    },
    {
     "name": "stdout",
     "output_type": "stream",
     "text": [
      "[410/505] Processing: success_episode410_steps331\n"
     ]
    },
    {
     "name": "stderr",
     "output_type": "stream",
     "text": [
      "Processing episodes:  81%|████████  | 410/505 [03:52<01:03,  1.49it/s]"
     ]
    },
    {
     "name": "stdout",
     "output_type": "stream",
     "text": [
      "[411/505] Processing: success_episode411_steps335\n"
     ]
    },
    {
     "name": "stderr",
     "output_type": "stream",
     "text": [
      "Processing episodes:  81%|████████▏ | 411/505 [03:53<01:06,  1.41it/s]"
     ]
    },
    {
     "name": "stdout",
     "output_type": "stream",
     "text": [
      "[412/505] Processing: success_episode412_steps348\n"
     ]
    },
    {
     "name": "stderr",
     "output_type": "stream",
     "text": [
      "Processing episodes:  82%|████████▏ | 412/505 [03:54<01:08,  1.35it/s]"
     ]
    },
    {
     "name": "stdout",
     "output_type": "stream",
     "text": [
      "[413/505] Processing: success_episode413_steps316\n"
     ]
    },
    {
     "name": "stderr",
     "output_type": "stream",
     "text": [
      "Processing episodes:  82%|████████▏ | 413/505 [03:54<01:08,  1.35it/s]"
     ]
    },
    {
     "name": "stdout",
     "output_type": "stream",
     "text": [
      "[414/505] Processing: success_episode414_steps306\n"
     ]
    },
    {
     "name": "stderr",
     "output_type": "stream",
     "text": [
      "Processing episodes:  82%|████████▏ | 414/505 [03:55<01:06,  1.37it/s]"
     ]
    },
    {
     "name": "stdout",
     "output_type": "stream",
     "text": [
      "[415/505] Processing: success_episode415_steps312\n"
     ]
    },
    {
     "name": "stderr",
     "output_type": "stream",
     "text": [
      "Processing episodes:  82%|████████▏ | 415/505 [03:56<01:05,  1.37it/s]"
     ]
    },
    {
     "name": "stdout",
     "output_type": "stream",
     "text": [
      "[416/505] Processing: success_episode416_steps338\n"
     ]
    },
    {
     "name": "stderr",
     "output_type": "stream",
     "text": [
      "Processing episodes:  82%|████████▏ | 416/505 [03:57<01:06,  1.34it/s]"
     ]
    },
    {
     "name": "stdout",
     "output_type": "stream",
     "text": [
      "[417/505] Processing: success_episode417_steps321\n"
     ]
    },
    {
     "name": "stderr",
     "output_type": "stream",
     "text": [
      "Processing episodes:  83%|████████▎ | 417/505 [03:57<01:05,  1.33it/s]"
     ]
    },
    {
     "name": "stdout",
     "output_type": "stream",
     "text": [
      "[418/505] Processing: success_episode418_steps308\n"
     ]
    },
    {
     "name": "stderr",
     "output_type": "stream",
     "text": [
      "Processing episodes:  83%|████████▎ | 418/505 [03:58<00:57,  1.51it/s]"
     ]
    },
    {
     "name": "stdout",
     "output_type": "stream",
     "text": [
      "[419/505] Processing: success_episode419_steps334\n"
     ]
    },
    {
     "name": "stderr",
     "output_type": "stream",
     "text": [
      "Processing episodes:  83%|████████▎ | 419/505 [03:58<00:52,  1.64it/s]"
     ]
    },
    {
     "name": "stdout",
     "output_type": "stream",
     "text": [
      "[420/505] Processing: success_episode420_steps327\n"
     ]
    },
    {
     "name": "stderr",
     "output_type": "stream",
     "text": [
      "Processing episodes:  83%|████████▎ | 420/505 [03:59<00:48,  1.76it/s]"
     ]
    },
    {
     "name": "stdout",
     "output_type": "stream",
     "text": [
      "[421/505] Processing: success_episode421_steps342\n"
     ]
    },
    {
     "name": "stderr",
     "output_type": "stream",
     "text": [
      "Processing episodes:  83%|████████▎ | 421/505 [03:59<00:45,  1.83it/s]"
     ]
    },
    {
     "name": "stdout",
     "output_type": "stream",
     "text": [
      "[422/505] Processing: success_episode422_steps326\n"
     ]
    },
    {
     "name": "stderr",
     "output_type": "stream",
     "text": [
      "Processing episodes:  83%|████████▎ | 421/505 [04:00<00:47,  1.75it/s]\n"
     ]
    },
    {
     "ename": "KeyboardInterrupt",
     "evalue": "",
     "output_type": "error",
     "traceback": [
      "\u001b[0;31m---------------------------------------------------------------------------\u001b[0m",
      "\u001b[0;31mKeyboardInterrupt\u001b[0m                         Traceback (most recent call last)",
      "Cell \u001b[0;32mIn[17], line 103\u001b[0m\n\u001b[1;32m     99\u001b[0m     \u001b[38;5;28mprint\u001b[39m(\u001b[38;5;124mf\u001b[39m\u001b[38;5;124m\"\u001b[39m\u001b[38;5;124m✅ Saved to \u001b[39m\u001b[38;5;132;01m{\u001b[39;00moutput_npz\u001b[38;5;132;01m}\u001b[39;00m\u001b[38;5;124m\"\u001b[39m)\n\u001b[1;32m    102\u001b[0m \u001b[38;5;66;03m# 실행\u001b[39;00m\n\u001b[0;32m--> 103\u001b[0m \u001b[43mprocess_all_episodes\u001b[49m\u001b[43m(\u001b[49m\u001b[38;5;124;43m\"\u001b[39;49m\u001b[38;5;124;43m/AILAB-summer-school-2025/success_data_raw\u001b[39;49m\u001b[38;5;124;43m\"\u001b[39;49m\u001b[43m,\u001b[49m\u001b[43m \u001b[49m\u001b[38;5;124;43m\"\u001b[39;49m\u001b[38;5;124;43mdataset/image_features(resnet18).npz\u001b[39;49m\u001b[38;5;124;43m\"\u001b[39;49m\u001b[43m)\u001b[49m\n",
      "Cell \u001b[0;32mIn[17], line 76\u001b[0m, in \u001b[0;36mprocess_all_episodes\u001b[0;34m(root_dir, output_npz)\u001b[0m\n\u001b[1;32m     74\u001b[0m \u001b[38;5;28;01mtry\u001b[39;00m:\n\u001b[1;32m     75\u001b[0m     front_feat \u001b[38;5;241m=\u001b[39m extract_features(os\u001b[38;5;241m.\u001b[39mpath\u001b[38;5;241m.\u001b[39mjoin(ep_path, \u001b[38;5;124m\"\u001b[39m\u001b[38;5;124mfront_view\u001b[39m\u001b[38;5;124m\"\u001b[39m))\n\u001b[0;32m---> 76\u001b[0m     top_feat   \u001b[38;5;241m=\u001b[39m \u001b[43mextract_features\u001b[49m\u001b[43m(\u001b[49m\u001b[43mos\u001b[49m\u001b[38;5;241;43m.\u001b[39;49m\u001b[43mpath\u001b[49m\u001b[38;5;241;43m.\u001b[39;49m\u001b[43mjoin\u001b[49m\u001b[43m(\u001b[49m\u001b[43mep_path\u001b[49m\u001b[43m,\u001b[49m\u001b[43m \u001b[49m\u001b[38;5;124;43m\"\u001b[39;49m\u001b[38;5;124;43mtop_view\u001b[39;49m\u001b[38;5;124;43m\"\u001b[39;49m\u001b[43m)\u001b[49m\u001b[43m)\u001b[49m\n\u001b[1;32m     77\u001b[0m     wrist_feat \u001b[38;5;241m=\u001b[39m extract_features(os\u001b[38;5;241m.\u001b[39mpath\u001b[38;5;241m.\u001b[39mjoin(ep_path, \u001b[38;5;124m\"\u001b[39m\u001b[38;5;124mwrist_view\u001b[39m\u001b[38;5;124m\"\u001b[39m))\n\u001b[1;32m     78\u001b[0m \u001b[38;5;28;01mexcept\u001b[39;00m \u001b[38;5;167;01mException\u001b[39;00m \u001b[38;5;28;01mas\u001b[39;00m e:\n",
      "Cell \u001b[0;32mIn[17], line 54\u001b[0m, in \u001b[0;36mextract_features\u001b[0;34m(image_dir)\u001b[0m\n\u001b[1;32m     52\u001b[0m     \u001b[38;5;28;01mwith\u001b[39;00m torch\u001b[38;5;241m.\u001b[39mno_grad():\n\u001b[1;32m     53\u001b[0m         feat \u001b[38;5;241m=\u001b[39m resnet18(img_tensor)\n\u001b[0;32m---> 54\u001b[0m     features\u001b[38;5;241m.\u001b[39mappend(\u001b[43mfeat\u001b[49m\u001b[38;5;241;43m.\u001b[39;49m\u001b[43mcpu\u001b[49m\u001b[43m(\u001b[49m\u001b[43m)\u001b[49m\u001b[38;5;241m.\u001b[39mnumpy()[\u001b[38;5;241m0\u001b[39m])\n\u001b[1;32m     56\u001b[0m \u001b[38;5;28;01mreturn\u001b[39;00m np\u001b[38;5;241m.\u001b[39mstack(features, axis\u001b[38;5;241m=\u001b[39m\u001b[38;5;241m0\u001b[39m)\n",
      "\u001b[0;31mKeyboardInterrupt\u001b[0m: "
     ]
    }
   ],
   "source": [
    "\"\"\"\n",
    "1. 이미지를 resnet에 넣고 npz 파일로 저장\n",
    "datastructure\n",
    "{\n",
    "  'front_view': np.ndarray of shape [total_length, T, 512],\n",
    "  'top_view':   np.ndarray of shape [total_length, T, 512],\n",
    "  'wrist_view': np.ndarray of shape [total_length, T, 512],\n",
    "}\n",
    "\n",
    "\"\"\"\n",
    "import os\n",
    "import re\n",
    "import torch\n",
    "import numpy as np\n",
    "import pickle\n",
    "from PIL import Image\n",
    "from tqdm import tqdm\n",
    "from torchvision import models, transforms\n",
    "\n",
    "device = \"cuda\" if torch.cuda.is_available() else \"cpu\"\n",
    "\n",
    "# ResNet18 feature extractor\n",
    "resnet18 = models.resnet18(pretrained=True)\n",
    "resnet18.fc = torch.nn.Identity()  # remove final fc\n",
    "resnet18 = resnet18.to(device)\n",
    "resnet18.eval()\n",
    "#print(\"Weight hash:\", hash(str(resnet18.state_dict())))\n",
    "# Image transform\n",
    "transform = transforms.Compose([\n",
    "    transforms.Resize((224, 224)),\n",
    "    transforms.ToTensor(),\n",
    "    transforms.Normalize(mean=[0.485, 0.456, 0.406],\n",
    "                         std =[0.229, 0.224, 0.225]),\n",
    "])\n",
    "\n",
    "def extract_features(image_dir):\n",
    "    def extract_index(filename):\n",
    "        match = re.search(r'front_view_(\\d+)\\.png', filename)\n",
    "        return int(match.group(1)) if match else -1\n",
    "\n",
    "    image_files = sorted(\n",
    "        [f for f in os.listdir(image_dir) if f.endswith(\".png\")],\n",
    "        key=extract_index\n",
    "    )\n",
    "\n",
    "    features = []\n",
    "\n",
    "    for fname in image_files:\n",
    "        #print(fname)\n",
    "        img = Image.open(os.path.join(image_dir, fname)).convert('RGB')\n",
    "        img_tensor = transform(img).unsqueeze(0).to(device)\n",
    "        with torch.no_grad():\n",
    "            feat = resnet18(img_tensor)\n",
    "        features.append(feat.cpu().numpy()[0])\n",
    "\n",
    "    return np.stack(features, axis=0)  # shape: [T, 512]\n",
    "\n",
    "def get_episode_number(ep_dir_name):\n",
    "    match = re.search(r\"success_episode(\\d+)_steps(\\d+)\", ep_dir_name)\n",
    "    return int(match.group(1)) if match else -1\n",
    "\n",
    "def process_all_episodes(root_dir, output_npz):\n",
    "    front_list, top_list, wrist_list = [], [], []\n",
    "\n",
    "    episode_dirs = sorted(\n",
    "        [d for d in os.listdir(root_dir) if d.startswith(\"success_episode\")],\n",
    "        key=get_episode_number\n",
    "    )\n",
    "   \n",
    "    for i, ep_dir in enumerate(tqdm(episode_dirs, desc=\"Processing episodes\")):\n",
    "        ep_path = os.path.join(root_dir, ep_dir)\n",
    "        print(f\"[{i+1}/{len(episode_dirs)}] Processing: {ep_dir}\")\n",
    "\n",
    "        try:\n",
    "            front_feat = extract_features(os.path.join(ep_path, \"front_view\"))\n",
    "            top_feat   = extract_features(os.path.join(ep_path, \"top_view\"))\n",
    "            wrist_feat = extract_features(os.path.join(ep_path, \"wrist_view\"))\n",
    "        except Exception as e:\n",
    "            print(f\"❌ Error in {ep_dir}: {e}\")\n",
    "            continue\n",
    "\n",
    "        # Optionally check consistency of T\n",
    "        T_f, T_t, T_w = len(front_feat), len(top_feat), len(wrist_feat)\n",
    "        if T_f != T_t or T_t != T_w:\n",
    "            print(f\"⚠️ Skipping {ep_dir} due to mismatched frame counts: front={T_f}, top={T_t}, wrist={T_w}\")\n",
    "            continue\n",
    "\n",
    "        front_list.append(front_feat)\n",
    "        top_list.append(top_feat)\n",
    "        wrist_list.append(wrist_feat)\n",
    "\n",
    "    # Save as object arrays (list of np.ndarray)\n",
    "    np.savez_compressed(\n",
    "        output_npz,\n",
    "        front_view=np.array(front_list, dtype=object),\n",
    "        top_view=np.array(top_list, dtype=object),\n",
    "        wrist_view=np.array(wrist_list, dtype=object)\n",
    "    )\n",
    "    print(f\"✅ Saved to {output_npz}\")\n",
    "\n",
    "\n",
    "# 실행\n",
    "process_all_episodes(\"/AILAB-summer-school-2025/success_data_raw\", \"dataset/image_features(resnet18).npz\")\n"
   ]
  },
  {
   "cell_type": "code",
   "execution_count": 18,
   "id": "8912b03d",
   "metadata": {},
   "outputs": [
    {
     "name": "stdout",
     "output_type": "stream",
     "text": [
      "🔍 Checking key: front_view\n",
      "❌ Inconsistent shapes in 'front_view':\n",
      "  - Index 0: shape = (64, 512)\n",
      "  - Index 1: shape = (64, 512)\n",
      "  - Index 2: shape = (62, 512)\n",
      "  - Index 3: shape = (63, 512)\n",
      "  - Index 4: shape = (63, 512)\n",
      "  - Index 5: shape = (62, 512)\n",
      "  - Index 6: shape = (66, 512)\n",
      "  - Index 7: shape = (62, 512)\n",
      "  - Index 8: shape = (67, 512)\n",
      "  - Index 9: shape = (64, 512)\n",
      "  - Index 10: shape = (71, 512)\n",
      "  - Index 11: shape = (64, 512)\n",
      "  - Index 12: shape = (72, 512)\n",
      "  - Index 13: shape = (65, 512)\n",
      "  - Index 14: shape = (63, 512)\n",
      "  - Index 15: shape = (65, 512)\n",
      "  - Index 16: shape = (61, 512)\n",
      "  - Index 17: shape = (63, 512)\n",
      "  - Index 18: shape = (62, 512)\n",
      "  - Index 19: shape = (64, 512)\n",
      "  - Index 20: shape = (67, 512)\n",
      "  - Index 21: shape = (66, 512)\n",
      "  - Index 22: shape = (63, 512)\n",
      "  - Index 23: shape = (62, 512)\n",
      "  - Index 24: shape = (68, 512)\n",
      "  - Index 25: shape = (63, 512)\n",
      "  - Index 26: shape = (66, 512)\n",
      "  - Index 27: shape = (67, 512)\n",
      "  - Index 28: shape = (61, 512)\n",
      "  - Index 29: shape = (66, 512)\n",
      "  - Index 30: shape = (70, 512)\n",
      "  - Index 31: shape = (63, 512)\n",
      "  - Index 32: shape = (63, 512)\n",
      "  - Index 33: shape = (65, 512)\n",
      "  - Index 34: shape = (68, 512)\n",
      "  - Index 35: shape = (67, 512)\n",
      "  - Index 36: shape = (68, 512)\n",
      "  - Index 37: shape = (72, 512)\n",
      "  - Index 38: shape = (61, 512)\n",
      "  - Index 39: shape = (62, 512)\n",
      "  - Index 40: shape = (71, 512)\n",
      "  - Index 41: shape = (67, 512)\n",
      "  - Index 42: shape = (69, 512)\n",
      "  - Index 43: shape = (62, 512)\n",
      "  - Index 44: shape = (70, 512)\n",
      "  - Index 45: shape = (62, 512)\n",
      "  - Index 46: shape = (61, 512)\n",
      "  - Index 47: shape = (62, 512)\n",
      "  - Index 48: shape = (62, 512)\n",
      "  - Index 49: shape = (66, 512)\n",
      "  - Index 50: shape = (71, 512)\n",
      "  - Index 51: shape = (69, 512)\n",
      "  - Index 52: shape = (70, 512)\n",
      "  - Index 53: shape = (63, 512)\n",
      "  - Index 54: shape = (61, 512)\n",
      "  - Index 55: shape = (64, 512)\n",
      "  - Index 56: shape = (67, 512)\n",
      "  - Index 57: shape = (67, 512)\n",
      "  - Index 58: shape = (68, 512)\n",
      "  - Index 59: shape = (63, 512)\n",
      "  - Index 60: shape = (65, 512)\n",
      "  - Index 61: shape = (68, 512)\n",
      "  - Index 62: shape = (63, 512)\n",
      "  - Index 63: shape = (65, 512)\n",
      "  - Index 64: shape = (63, 512)\n",
      "  - Index 65: shape = (62, 512)\n",
      "  - Index 66: shape = (62, 512)\n",
      "  - Index 67: shape = (62, 512)\n",
      "  - Index 68: shape = (63, 512)\n",
      "  - Index 69: shape = (63, 512)\n",
      "  - Index 70: shape = (64, 512)\n",
      "  - Index 71: shape = (71, 512)\n",
      "  - Index 72: shape = (61, 512)\n",
      "  - Index 73: shape = (67, 512)\n",
      "  - Index 74: shape = (64, 512)\n",
      "  - Index 75: shape = (69, 512)\n",
      "  - Index 76: shape = (66, 512)\n",
      "  - Index 77: shape = (64, 512)\n",
      "  - Index 78: shape = (66, 512)\n",
      "  - Index 79: shape = (62, 512)\n",
      "  - Index 80: shape = (67, 512)\n",
      "  - Index 81: shape = (64, 512)\n",
      "  - Index 82: shape = (62, 512)\n",
      "  - Index 83: shape = (61, 512)\n",
      "  - Index 84: shape = (62, 512)\n",
      "  - Index 85: shape = (68, 512)\n",
      "  - Index 86: shape = (65, 512)\n",
      "  - Index 87: shape = (63, 512)\n",
      "  - Index 88: shape = (62, 512)\n",
      "  - Index 89: shape = (73, 512)\n",
      "  - Index 90: shape = (66, 512)\n",
      "  - Index 91: shape = (65, 512)\n",
      "  - Index 92: shape = (64, 512)\n",
      "  - Index 93: shape = (64, 512)\n",
      "  - Index 94: shape = (64, 512)\n",
      "  - Index 95: shape = (71, 512)\n",
      "  - Index 96: shape = (65, 512)\n",
      "  - Index 97: shape = (67, 512)\n",
      "  - Index 98: shape = (74, 512)\n",
      "  - Index 99: shape = (69, 512)\n",
      "  - Index 100: shape = (71, 512)\n",
      "  - Index 101: shape = (62, 512)\n",
      "  - Index 102: shape = (62, 512)\n",
      "  - Index 103: shape = (63, 512)\n",
      "  - Index 104: shape = (66, 512)\n",
      "  - Index 105: shape = (62, 512)\n",
      "  - Index 106: shape = (63, 512)\n",
      "  - Index 107: shape = (68, 512)\n",
      "  - Index 108: shape = (67, 512)\n",
      "  - Index 109: shape = (75, 512)\n",
      "  - Index 110: shape = (67, 512)\n",
      "  - Index 111: shape = (61, 512)\n",
      "  - Index 112: shape = (65, 512)\n",
      "  - Index 113: shape = (61, 512)\n",
      "  - Index 114: shape = (63, 512)\n",
      "  - Index 115: shape = (63, 512)\n",
      "  - Index 116: shape = (62, 512)\n",
      "  - Index 117: shape = (67, 512)\n",
      "  - Index 118: shape = (63, 512)\n",
      "  - Index 119: shape = (62, 512)\n",
      "  - Index 120: shape = (64, 512)\n",
      "  - Index 121: shape = (63, 512)\n",
      "  - Index 122: shape = (67, 512)\n",
      "  - Index 123: shape = (69, 512)\n",
      "  - Index 124: shape = (64, 512)\n",
      "  - Index 125: shape = (66, 512)\n",
      "  - Index 126: shape = (63, 512)\n",
      "  - Index 127: shape = (63, 512)\n",
      "  - Index 128: shape = (63, 512)\n",
      "  - Index 129: shape = (66, 512)\n",
      "  - Index 130: shape = (62, 512)\n",
      "  - Index 131: shape = (68, 512)\n",
      "  - Index 132: shape = (64, 512)\n",
      "  - Index 133: shape = (68, 512)\n",
      "  - Index 134: shape = (67, 512)\n",
      "  - Index 135: shape = (68, 512)\n",
      "  - Index 136: shape = (64, 512)\n",
      "  - Index 137: shape = (62, 512)\n",
      "  - Index 138: shape = (66, 512)\n",
      "  - Index 139: shape = (63, 512)\n",
      "  - Index 140: shape = (61, 512)\n",
      "  - Index 141: shape = (63, 512)\n",
      "  - Index 142: shape = (67, 512)\n",
      "  - Index 143: shape = (63, 512)\n",
      "  - Index 144: shape = (65, 512)\n",
      "  - Index 145: shape = (64, 512)\n",
      "  - Index 146: shape = (69, 512)\n",
      "  - Index 147: shape = (64, 512)\n",
      "  - Index 148: shape = (62, 512)\n",
      "  - Index 149: shape = (65, 512)\n",
      "  - Index 150: shape = (66, 512)\n",
      "  - Index 151: shape = (67, 512)\n",
      "  - Index 152: shape = (62, 512)\n",
      "  - Index 153: shape = (68, 512)\n",
      "  - Index 154: shape = (64, 512)\n",
      "  - Index 155: shape = (66, 512)\n",
      "  - Index 156: shape = (62, 512)\n",
      "  - Index 157: shape = (62, 512)\n",
      "  - Index 158: shape = (63, 512)\n",
      "  - Index 159: shape = (63, 512)\n",
      "  - Index 160: shape = (67, 512)\n",
      "  - Index 161: shape = (69, 512)\n",
      "  - Index 162: shape = (65, 512)\n",
      "  - Index 163: shape = (63, 512)\n",
      "  - Index 164: shape = (66, 512)\n",
      "  - Index 165: shape = (66, 512)\n",
      "  - Index 166: shape = (64, 512)\n",
      "  - Index 167: shape = (67, 512)\n",
      "  - Index 168: shape = (66, 512)\n",
      "  - Index 169: shape = (68, 512)\n",
      "  - Index 170: shape = (63, 512)\n",
      "  - Index 171: shape = (62, 512)\n",
      "  - Index 172: shape = (63, 512)\n",
      "  - Index 173: shape = (61, 512)\n",
      "  - Index 174: shape = (63, 512)\n",
      "  - Index 175: shape = (62, 512)\n",
      "  - Index 176: shape = (62, 512)\n",
      "  - Index 177: shape = (64, 512)\n",
      "  - Index 178: shape = (64, 512)\n",
      "  - Index 179: shape = (63, 512)\n",
      "  - Index 180: shape = (70, 512)\n",
      "  - Index 181: shape = (62, 512)\n",
      "  - Index 182: shape = (66, 512)\n",
      "  - Index 183: shape = (69, 512)\n",
      "  - Index 184: shape = (65, 512)\n",
      "  - Index 185: shape = (62, 512)\n",
      "  - Index 186: shape = (67, 512)\n",
      "  - Index 187: shape = (61, 512)\n",
      "  - Index 188: shape = (62, 512)\n",
      "  - Index 189: shape = (64, 512)\n",
      "  - Index 190: shape = (65, 512)\n",
      "  - Index 191: shape = (62, 512)\n",
      "  - Index 192: shape = (62, 512)\n",
      "  - Index 193: shape = (66, 512)\n",
      "  - Index 194: shape = (62, 512)\n",
      "  - Index 195: shape = (66, 512)\n",
      "  - Index 196: shape = (62, 512)\n",
      "  - Index 197: shape = (61, 512)\n",
      "  - Index 198: shape = (68, 512)\n",
      "  - Index 199: shape = (64, 512)\n",
      "  - Index 200: shape = (63, 512)\n",
      "  - Index 201: shape = (68, 512)\n",
      "  - Index 202: shape = (64, 512)\n",
      "  - Index 203: shape = (62, 512)\n",
      "  - Index 204: shape = (63, 512)\n",
      "  - Index 205: shape = (67, 512)\n",
      "  - Index 206: shape = (63, 512)\n",
      "  - Index 207: shape = (66, 512)\n",
      "  - Index 208: shape = (67, 512)\n",
      "  - Index 209: shape = (63, 512)\n",
      "  - Index 210: shape = (67, 512)\n",
      "  - Index 211: shape = (68, 512)\n",
      "  - Index 212: shape = (66, 512)\n",
      "  - Index 213: shape = (65, 512)\n",
      "  - Index 214: shape = (64, 512)\n",
      "  - Index 215: shape = (63, 512)\n",
      "  - Index 216: shape = (69, 512)\n",
      "  - Index 217: shape = (66, 512)\n",
      "  - Index 218: shape = (63, 512)\n",
      "  - Index 219: shape = (66, 512)\n",
      "  - Index 220: shape = (65, 512)\n",
      "  - Index 221: shape = (61, 512)\n",
      "  - Index 222: shape = (63, 512)\n",
      "  - Index 223: shape = (66, 512)\n",
      "  - Index 224: shape = (68, 512)\n",
      "  - Index 225: shape = (68, 512)\n",
      "  - Index 226: shape = (67, 512)\n",
      "  - Index 227: shape = (69, 512)\n",
      "  - Index 228: shape = (68, 512)\n",
      "  - Index 229: shape = (62, 512)\n",
      "  - Index 230: shape = (67, 512)\n",
      "  - Index 231: shape = (70, 512)\n",
      "  - Index 232: shape = (69, 512)\n",
      "  - Index 233: shape = (65, 512)\n",
      "  - Index 234: shape = (63, 512)\n",
      "  - Index 235: shape = (66, 512)\n",
      "  - Index 236: shape = (64, 512)\n",
      "  - Index 237: shape = (61, 512)\n",
      "  - Index 238: shape = (70, 512)\n",
      "  - Index 239: shape = (68, 512)\n",
      "  - Index 240: shape = (67, 512)\n",
      "  - Index 241: shape = (61, 512)\n",
      "  - Index 242: shape = (66, 512)\n",
      "  - Index 243: shape = (64, 512)\n",
      "  - Index 244: shape = (62, 512)\n",
      "  - Index 245: shape = (64, 512)\n",
      "  - Index 246: shape = (68, 512)\n",
      "  - Index 247: shape = (64, 512)\n",
      "  - Index 248: shape = (70, 512)\n",
      "  - Index 249: shape = (64, 512)\n",
      "  - Index 250: shape = (66, 512)\n",
      "  - Index 251: shape = (65, 512)\n",
      "  - Index 252: shape = (64, 512)\n",
      "  - Index 253: shape = (65, 512)\n",
      "  - Index 254: shape = (64, 512)\n",
      "  - Index 255: shape = (70, 512)\n",
      "  - Index 256: shape = (62, 512)\n",
      "  - Index 257: shape = (63, 512)\n",
      "  - Index 258: shape = (67, 512)\n",
      "  - Index 259: shape = (62, 512)\n",
      "  - Index 260: shape = (70, 512)\n",
      "  - Index 261: shape = (64, 512)\n",
      "  - Index 262: shape = (64, 512)\n",
      "  - Index 263: shape = (65, 512)\n",
      "  - Index 264: shape = (62, 512)\n",
      "  - Index 265: shape = (62, 512)\n",
      "  - Index 266: shape = (70, 512)\n",
      "  - Index 267: shape = (65, 512)\n",
      "  - Index 268: shape = (68, 512)\n",
      "  - Index 269: shape = (67, 512)\n",
      "  - Index 270: shape = (68, 512)\n",
      "  - Index 271: shape = (69, 512)\n",
      "  - Index 272: shape = (66, 512)\n",
      "  - Index 273: shape = (63, 512)\n",
      "  - Index 274: shape = (65, 512)\n",
      "  - Index 275: shape = (64, 512)\n",
      "  - Index 276: shape = (63, 512)\n",
      "  - Index 277: shape = (61, 512)\n",
      "  - Index 278: shape = (64, 512)\n",
      "  - Index 279: shape = (62, 512)\n",
      "  - Index 280: shape = (63, 512)\n",
      "  - Index 281: shape = (67, 512)\n",
      "  - Index 282: shape = (63, 512)\n",
      "  - Index 283: shape = (68, 512)\n",
      "  - Index 284: shape = (70, 512)\n",
      "  - Index 285: shape = (65, 512)\n",
      "  - Index 286: shape = (67, 512)\n",
      "  - Index 287: shape = (70, 512)\n",
      "  - Index 288: shape = (65, 512)\n",
      "  - Index 289: shape = (64, 512)\n",
      "  - Index 290: shape = (65, 512)\n",
      "  - Index 291: shape = (66, 512)\n",
      "  - Index 292: shape = (65, 512)\n",
      "  - Index 293: shape = (68, 512)\n",
      "  - Index 294: shape = (64, 512)\n",
      "  - Index 295: shape = (65, 512)\n",
      "  - Index 296: shape = (62, 512)\n",
      "  - Index 297: shape = (62, 512)\n",
      "  - Index 298: shape = (65, 512)\n",
      "  - Index 299: shape = (63, 512)\n",
      "  - Index 300: shape = (63, 512)\n",
      "  - Index 301: shape = (63, 512)\n",
      "  - Index 302: shape = (67, 512)\n",
      "  - Index 303: shape = (64, 512)\n",
      "  - Index 304: shape = (63, 512)\n",
      "  - Index 305: shape = (63, 512)\n",
      "  - Index 306: shape = (66, 512)\n",
      "  - Index 307: shape = (63, 512)\n",
      "  - Index 308: shape = (68, 512)\n",
      "  - Index 309: shape = (62, 512)\n",
      "  - Index 310: shape = (64, 512)\n",
      "  - Index 311: shape = (70, 512)\n",
      "  - Index 312: shape = (67, 512)\n",
      "  - Index 313: shape = (64, 512)\n",
      "  - Index 314: shape = (65, 512)\n",
      "  - Index 315: shape = (62, 512)\n",
      "  - Index 316: shape = (66, 512)\n",
      "  - Index 317: shape = (65, 512)\n",
      "  - Index 318: shape = (66, 512)\n",
      "  - Index 319: shape = (66, 512)\n",
      "  - Index 320: shape = (68, 512)\n",
      "  - Index 321: shape = (66, 512)\n",
      "  - Index 322: shape = (65, 512)\n",
      "  - Index 323: shape = (63, 512)\n",
      "  - Index 324: shape = (61, 512)\n",
      "  - Index 325: shape = (63, 512)\n",
      "  - Index 326: shape = (67, 512)\n",
      "  - Index 327: shape = (66, 512)\n",
      "  - Index 328: shape = (66, 512)\n",
      "  - Index 329: shape = (64, 512)\n",
      "  - Index 330: shape = (61, 512)\n",
      "  - Index 331: shape = (65, 512)\n",
      "  - Index 332: shape = (61, 512)\n",
      "  - Index 333: shape = (66, 512)\n",
      "  - Index 334: shape = (64, 512)\n",
      "  - Index 335: shape = (68, 512)\n",
      "  - Index 336: shape = (69, 512)\n",
      "  - Index 337: shape = (64, 512)\n",
      "  - Index 338: shape = (62, 512)\n",
      "  - Index 339: shape = (67, 512)\n",
      "  - Index 340: shape = (62, 512)\n",
      "  - Index 341: shape = (65, 512)\n",
      "  - Index 342: shape = (65, 512)\n",
      "  - Index 343: shape = (64, 512)\n",
      "  - Index 344: shape = (65, 512)\n",
      "  - Index 345: shape = (66, 512)\n",
      "  - Index 346: shape = (67, 512)\n",
      "  - Index 347: shape = (63, 512)\n",
      "  - Index 348: shape = (67, 512)\n",
      "  - Index 349: shape = (69, 512)\n",
      "  - Index 350: shape = (67, 512)\n",
      "  - Index 351: shape = (67, 512)\n",
      "  - Index 352: shape = (64, 512)\n",
      "  - Index 353: shape = (66, 512)\n",
      "  - Index 354: shape = (68, 512)\n",
      "  - Index 355: shape = (65, 512)\n",
      "  - Index 356: shape = (62, 512)\n",
      "  - Index 357: shape = (61, 512)\n",
      "  - Index 358: shape = (66, 512)\n",
      "  - Index 359: shape = (65, 512)\n",
      "  - Index 360: shape = (62, 512)\n",
      "  - Index 361: shape = (63, 512)\n",
      "  - Index 362: shape = (62, 512)\n",
      "  - Index 363: shape = (62, 512)\n",
      "  - Index 364: shape = (62, 512)\n",
      "  - Index 365: shape = (63, 512)\n",
      "  - Index 366: shape = (70, 512)\n",
      "  - Index 367: shape = (65, 512)\n",
      "  - Index 368: shape = (68, 512)\n",
      "  - Index 369: shape = (64, 512)\n",
      "  - Index 370: shape = (62, 512)\n",
      "  - Index 371: shape = (69, 512)\n",
      "  - Index 372: shape = (63, 512)\n",
      "  - Index 373: shape = (65, 512)\n",
      "  - Index 374: shape = (68, 512)\n",
      "  - Index 375: shape = (68, 512)\n",
      "  - Index 376: shape = (67, 512)\n",
      "  - Index 377: shape = (62, 512)\n",
      "  - Index 378: shape = (63, 512)\n",
      "  - Index 379: shape = (64, 512)\n",
      "  - Index 380: shape = (67, 512)\n",
      "  - Index 381: shape = (66, 512)\n",
      "  - Index 382: shape = (63, 512)\n",
      "  - Index 383: shape = (63, 512)\n",
      "  - Index 384: shape = (69, 512)\n",
      "  - Index 385: shape = (63, 512)\n",
      "  - Index 386: shape = (66, 512)\n",
      "  - Index 387: shape = (64, 512)\n",
      "  - Index 388: shape = (65, 512)\n",
      "  - Index 389: shape = (69, 512)\n",
      "  - Index 390: shape = (66, 512)\n",
      "  - Index 391: shape = (64, 512)\n",
      "  - Index 392: shape = (64, 512)\n",
      "  - Index 393: shape = (64, 512)\n",
      "  - Index 394: shape = (63, 512)\n",
      "  - Index 395: shape = (68, 512)\n",
      "  - Index 396: shape = (65, 512)\n",
      "  - Index 397: shape = (61, 512)\n",
      "  - Index 398: shape = (61, 512)\n",
      "  - Index 399: shape = (66, 512)\n",
      "  - Index 400: shape = (62, 512)\n",
      "  - Index 401: shape = (62, 512)\n",
      "  - Index 402: shape = (62, 512)\n",
      "  - Index 403: shape = (63, 512)\n",
      "  - Index 404: shape = (67, 512)\n",
      "  - Index 405: shape = (63, 512)\n",
      "  - Index 406: shape = (62, 512)\n",
      "  - Index 407: shape = (63, 512)\n",
      "  - Index 408: shape = (69, 512)\n",
      "  - Index 409: shape = (67, 512)\n",
      "  - Index 410: shape = (67, 512)\n",
      "  - Index 411: shape = (70, 512)\n",
      "  - Index 412: shape = (64, 512)\n",
      "  - Index 413: shape = (62, 512)\n",
      "  - Index 414: shape = (63, 512)\n",
      "  - Index 415: shape = (68, 512)\n",
      "  - Index 416: shape = (65, 512)\n",
      "  - Index 417: shape = (62, 512)\n",
      "  - Index 418: shape = (67, 512)\n",
      "  - Index 419: shape = (66, 512)\n",
      "  - Index 420: shape = (69, 512)\n",
      "  - Index 421: shape = (66, 512)\n",
      "  - Index 422: shape = (62, 512)\n",
      "  - Index 423: shape = (66, 512)\n",
      "  - Index 424: shape = (65, 512)\n",
      "  - Index 425: shape = (62, 512)\n",
      "  - Index 426: shape = (62, 512)\n",
      "  - Index 427: shape = (67, 512)\n",
      "  - Index 428: shape = (65, 512)\n",
      "  - Index 429: shape = (63, 512)\n",
      "  - Index 430: shape = (66, 512)\n",
      "  - Index 431: shape = (65, 512)\n",
      "  - Index 432: shape = (63, 512)\n",
      "  - Index 433: shape = (63, 512)\n",
      "  - Index 434: shape = (70, 512)\n",
      "  - Index 435: shape = (63, 512)\n",
      "  - Index 436: shape = (63, 512)\n",
      "  - Index 437: shape = (62, 512)\n",
      "  - Index 438: shape = (63, 512)\n",
      "  - Index 439: shape = (69, 512)\n",
      "  - Index 440: shape = (67, 512)\n",
      "  - Index 441: shape = (69, 512)\n",
      "  - Index 442: shape = (62, 512)\n",
      "  - Index 443: shape = (61, 512)\n",
      "  - Index 444: shape = (63, 512)\n",
      "  - Index 445: shape = (66, 512)\n",
      "  - Index 446: shape = (65, 512)\n",
      "  - Index 447: shape = (65, 512)\n",
      "  - Index 448: shape = (63, 512)\n",
      "  - Index 449: shape = (63, 512)\n",
      "  - Index 450: shape = (69, 512)\n",
      "  - Index 451: shape = (67, 512)\n",
      "  - Index 452: shape = (64, 512)\n",
      "  - Index 453: shape = (66, 512)\n",
      "  - Index 454: shape = (70, 512)\n",
      "  - Index 455: shape = (63, 512)\n",
      "  - Index 456: shape = (66, 512)\n",
      "  - Index 457: shape = (67, 512)\n",
      "  - Index 458: shape = (69, 512)\n",
      "  - Index 459: shape = (63, 512)\n",
      "  - Index 460: shape = (66, 512)\n",
      "  - Index 461: shape = (69, 512)\n",
      "  - Index 462: shape = (66, 512)\n",
      "  - Index 463: shape = (66, 512)\n",
      "  - Index 464: shape = (65, 512)\n",
      "  - Index 465: shape = (66, 512)\n",
      "  - Index 466: shape = (70, 512)\n",
      "  - Index 467: shape = (61, 512)\n",
      "  - Index 468: shape = (66, 512)\n",
      "  - Index 469: shape = (61, 512)\n",
      "  - Index 470: shape = (64, 512)\n",
      "  - Index 471: shape = (65, 512)\n",
      "  - Index 472: shape = (66, 512)\n",
      "  - Index 473: shape = (68, 512)\n",
      "  - Index 474: shape = (65, 512)\n",
      "  - Index 475: shape = (65, 512)\n",
      "  - Index 476: shape = (66, 512)\n",
      "  - Index 477: shape = (65, 512)\n",
      "  - Index 478: shape = (67, 512)\n",
      "  - Index 479: shape = (65, 512)\n",
      "  - Index 480: shape = (65, 512)\n",
      "  - Index 481: shape = (65, 512)\n",
      "  - Index 482: shape = (66, 512)\n",
      "  - Index 483: shape = (69, 512)\n",
      "  - Index 484: shape = (64, 512)\n",
      "  - Index 485: shape = (67, 512)\n",
      "  - Index 486: shape = (69, 512)\n",
      "  - Index 487: shape = (66, 512)\n",
      "  - Index 488: shape = (67, 512)\n",
      "  - Index 489: shape = (68, 512)\n",
      "  - Index 490: shape = (70, 512)\n",
      "  - Index 491: shape = (68, 512)\n",
      "  - Index 492: shape = (63, 512)\n",
      "  - Index 493: shape = (66, 512)\n",
      "  - Index 494: shape = (69, 512)\n",
      "  - Index 495: shape = (67, 512)\n",
      "  - Index 496: shape = (65, 512)\n",
      "  - Index 497: shape = (65, 512)\n",
      "  - Index 498: shape = (68, 512)\n",
      "  - Index 499: shape = (68, 512)\n",
      "  - Index 500: shape = (66, 512)\n",
      "  - Index 501: shape = (70, 512)\n",
      "  - Index 502: shape = (66, 512)\n",
      "  - Index 503: shape = (63, 512)\n",
      "  - Index 504: shape = (65, 512)\n",
      "🔍 Checking key: top_view\n",
      "❌ Inconsistent shapes in 'top_view':\n",
      "  - Index 0: shape = (64, 512)\n",
      "  - Index 1: shape = (64, 512)\n",
      "  - Index 2: shape = (62, 512)\n",
      "  - Index 3: shape = (63, 512)\n",
      "  - Index 4: shape = (63, 512)\n",
      "  - Index 5: shape = (62, 512)\n",
      "  - Index 6: shape = (66, 512)\n",
      "  - Index 7: shape = (62, 512)\n",
      "  - Index 8: shape = (67, 512)\n",
      "  - Index 9: shape = (64, 512)\n",
      "  - Index 10: shape = (71, 512)\n",
      "  - Index 11: shape = (64, 512)\n",
      "  - Index 12: shape = (72, 512)\n",
      "  - Index 13: shape = (65, 512)\n",
      "  - Index 14: shape = (63, 512)\n",
      "  - Index 15: shape = (65, 512)\n",
      "  - Index 16: shape = (61, 512)\n",
      "  - Index 17: shape = (63, 512)\n",
      "  - Index 18: shape = (62, 512)\n",
      "  - Index 19: shape = (64, 512)\n",
      "  - Index 20: shape = (67, 512)\n",
      "  - Index 21: shape = (66, 512)\n",
      "  - Index 22: shape = (63, 512)\n",
      "  - Index 23: shape = (62, 512)\n",
      "  - Index 24: shape = (68, 512)\n",
      "  - Index 25: shape = (63, 512)\n",
      "  - Index 26: shape = (66, 512)\n",
      "  - Index 27: shape = (67, 512)\n",
      "  - Index 28: shape = (61, 512)\n",
      "  - Index 29: shape = (66, 512)\n",
      "  - Index 30: shape = (70, 512)\n",
      "  - Index 31: shape = (63, 512)\n",
      "  - Index 32: shape = (63, 512)\n",
      "  - Index 33: shape = (65, 512)\n",
      "  - Index 34: shape = (68, 512)\n",
      "  - Index 35: shape = (67, 512)\n",
      "  - Index 36: shape = (68, 512)\n",
      "  - Index 37: shape = (72, 512)\n",
      "  - Index 38: shape = (61, 512)\n",
      "  - Index 39: shape = (62, 512)\n",
      "  - Index 40: shape = (71, 512)\n",
      "  - Index 41: shape = (67, 512)\n",
      "  - Index 42: shape = (69, 512)\n",
      "  - Index 43: shape = (62, 512)\n",
      "  - Index 44: shape = (70, 512)\n",
      "  - Index 45: shape = (62, 512)\n",
      "  - Index 46: shape = (61, 512)\n",
      "  - Index 47: shape = (62, 512)\n",
      "  - Index 48: shape = (62, 512)\n",
      "  - Index 49: shape = (66, 512)\n",
      "  - Index 50: shape = (71, 512)\n",
      "  - Index 51: shape = (69, 512)\n",
      "  - Index 52: shape = (70, 512)\n",
      "  - Index 53: shape = (63, 512)\n",
      "  - Index 54: shape = (61, 512)\n",
      "  - Index 55: shape = (64, 512)\n",
      "  - Index 56: shape = (67, 512)\n",
      "  - Index 57: shape = (67, 512)\n",
      "  - Index 58: shape = (68, 512)\n",
      "  - Index 59: shape = (63, 512)\n",
      "  - Index 60: shape = (65, 512)\n",
      "  - Index 61: shape = (68, 512)\n",
      "  - Index 62: shape = (63, 512)\n",
      "  - Index 63: shape = (65, 512)\n",
      "  - Index 64: shape = (63, 512)\n",
      "  - Index 65: shape = (62, 512)\n",
      "  - Index 66: shape = (62, 512)\n",
      "  - Index 67: shape = (62, 512)\n",
      "  - Index 68: shape = (63, 512)\n",
      "  - Index 69: shape = (63, 512)\n",
      "  - Index 70: shape = (64, 512)\n",
      "  - Index 71: shape = (71, 512)\n",
      "  - Index 72: shape = (61, 512)\n",
      "  - Index 73: shape = (67, 512)\n",
      "  - Index 74: shape = (64, 512)\n",
      "  - Index 75: shape = (69, 512)\n",
      "  - Index 76: shape = (66, 512)\n",
      "  - Index 77: shape = (64, 512)\n",
      "  - Index 78: shape = (66, 512)\n",
      "  - Index 79: shape = (62, 512)\n",
      "  - Index 80: shape = (67, 512)\n",
      "  - Index 81: shape = (64, 512)\n",
      "  - Index 82: shape = (62, 512)\n",
      "  - Index 83: shape = (61, 512)\n",
      "  - Index 84: shape = (62, 512)\n",
      "  - Index 85: shape = (68, 512)\n",
      "  - Index 86: shape = (65, 512)\n",
      "  - Index 87: shape = (63, 512)\n",
      "  - Index 88: shape = (62, 512)\n",
      "  - Index 89: shape = (73, 512)\n",
      "  - Index 90: shape = (66, 512)\n",
      "  - Index 91: shape = (65, 512)\n",
      "  - Index 92: shape = (64, 512)\n",
      "  - Index 93: shape = (64, 512)\n",
      "  - Index 94: shape = (64, 512)\n",
      "  - Index 95: shape = (71, 512)\n",
      "  - Index 96: shape = (65, 512)\n",
      "  - Index 97: shape = (67, 512)\n",
      "  - Index 98: shape = (74, 512)\n",
      "  - Index 99: shape = (69, 512)\n",
      "  - Index 100: shape = (71, 512)\n",
      "  - Index 101: shape = (62, 512)\n",
      "  - Index 102: shape = (62, 512)\n",
      "  - Index 103: shape = (63, 512)\n",
      "  - Index 104: shape = (66, 512)\n",
      "  - Index 105: shape = (62, 512)\n",
      "  - Index 106: shape = (63, 512)\n",
      "  - Index 107: shape = (68, 512)\n",
      "  - Index 108: shape = (67, 512)\n",
      "  - Index 109: shape = (75, 512)\n",
      "  - Index 110: shape = (67, 512)\n",
      "  - Index 111: shape = (61, 512)\n",
      "  - Index 112: shape = (65, 512)\n",
      "  - Index 113: shape = (61, 512)\n",
      "  - Index 114: shape = (63, 512)\n",
      "  - Index 115: shape = (63, 512)\n",
      "  - Index 116: shape = (62, 512)\n",
      "  - Index 117: shape = (67, 512)\n",
      "  - Index 118: shape = (63, 512)\n",
      "  - Index 119: shape = (62, 512)\n",
      "  - Index 120: shape = (64, 512)\n",
      "  - Index 121: shape = (63, 512)\n",
      "  - Index 122: shape = (67, 512)\n",
      "  - Index 123: shape = (69, 512)\n",
      "  - Index 124: shape = (64, 512)\n",
      "  - Index 125: shape = (66, 512)\n",
      "  - Index 126: shape = (63, 512)\n",
      "  - Index 127: shape = (63, 512)\n",
      "  - Index 128: shape = (63, 512)\n",
      "  - Index 129: shape = (66, 512)\n",
      "  - Index 130: shape = (62, 512)\n",
      "  - Index 131: shape = (68, 512)\n",
      "  - Index 132: shape = (64, 512)\n",
      "  - Index 133: shape = (68, 512)\n",
      "  - Index 134: shape = (67, 512)\n",
      "  - Index 135: shape = (68, 512)\n",
      "  - Index 136: shape = (64, 512)\n",
      "  - Index 137: shape = (62, 512)\n",
      "  - Index 138: shape = (66, 512)\n",
      "  - Index 139: shape = (63, 512)\n",
      "  - Index 140: shape = (61, 512)\n",
      "  - Index 141: shape = (63, 512)\n",
      "  - Index 142: shape = (67, 512)\n",
      "  - Index 143: shape = (63, 512)\n",
      "  - Index 144: shape = (65, 512)\n",
      "  - Index 145: shape = (64, 512)\n",
      "  - Index 146: shape = (69, 512)\n",
      "  - Index 147: shape = (64, 512)\n",
      "  - Index 148: shape = (62, 512)\n",
      "  - Index 149: shape = (65, 512)\n",
      "  - Index 150: shape = (66, 512)\n",
      "  - Index 151: shape = (67, 512)\n",
      "  - Index 152: shape = (62, 512)\n",
      "  - Index 153: shape = (68, 512)\n",
      "  - Index 154: shape = (64, 512)\n",
      "  - Index 155: shape = (66, 512)\n",
      "  - Index 156: shape = (62, 512)\n",
      "  - Index 157: shape = (62, 512)\n",
      "  - Index 158: shape = (63, 512)\n",
      "  - Index 159: shape = (63, 512)\n",
      "  - Index 160: shape = (67, 512)\n",
      "  - Index 161: shape = (69, 512)\n",
      "  - Index 162: shape = (65, 512)\n",
      "  - Index 163: shape = (63, 512)\n",
      "  - Index 164: shape = (66, 512)\n",
      "  - Index 165: shape = (66, 512)\n",
      "  - Index 166: shape = (64, 512)\n",
      "  - Index 167: shape = (67, 512)\n",
      "  - Index 168: shape = (66, 512)\n",
      "  - Index 169: shape = (68, 512)\n",
      "  - Index 170: shape = (63, 512)\n",
      "  - Index 171: shape = (62, 512)\n",
      "  - Index 172: shape = (63, 512)\n",
      "  - Index 173: shape = (61, 512)\n",
      "  - Index 174: shape = (63, 512)\n",
      "  - Index 175: shape = (62, 512)\n",
      "  - Index 176: shape = (62, 512)\n",
      "  - Index 177: shape = (64, 512)\n",
      "  - Index 178: shape = (64, 512)\n",
      "  - Index 179: shape = (63, 512)\n",
      "  - Index 180: shape = (70, 512)\n",
      "  - Index 181: shape = (62, 512)\n",
      "  - Index 182: shape = (66, 512)\n",
      "  - Index 183: shape = (69, 512)\n",
      "  - Index 184: shape = (65, 512)\n",
      "  - Index 185: shape = (62, 512)\n",
      "  - Index 186: shape = (67, 512)\n",
      "  - Index 187: shape = (61, 512)\n",
      "  - Index 188: shape = (62, 512)\n",
      "  - Index 189: shape = (64, 512)\n",
      "  - Index 190: shape = (65, 512)\n",
      "  - Index 191: shape = (62, 512)\n",
      "  - Index 192: shape = (62, 512)\n",
      "  - Index 193: shape = (66, 512)\n",
      "  - Index 194: shape = (62, 512)\n",
      "  - Index 195: shape = (66, 512)\n",
      "  - Index 196: shape = (62, 512)\n",
      "  - Index 197: shape = (61, 512)\n",
      "  - Index 198: shape = (68, 512)\n",
      "  - Index 199: shape = (64, 512)\n",
      "  - Index 200: shape = (63, 512)\n",
      "  - Index 201: shape = (68, 512)\n",
      "  - Index 202: shape = (64, 512)\n",
      "  - Index 203: shape = (62, 512)\n",
      "  - Index 204: shape = (63, 512)\n",
      "  - Index 205: shape = (67, 512)\n",
      "  - Index 206: shape = (63, 512)\n",
      "  - Index 207: shape = (66, 512)\n",
      "  - Index 208: shape = (67, 512)\n",
      "  - Index 209: shape = (63, 512)\n",
      "  - Index 210: shape = (67, 512)\n",
      "  - Index 211: shape = (68, 512)\n",
      "  - Index 212: shape = (66, 512)\n",
      "  - Index 213: shape = (65, 512)\n",
      "  - Index 214: shape = (64, 512)\n",
      "  - Index 215: shape = (63, 512)\n",
      "  - Index 216: shape = (69, 512)\n",
      "  - Index 217: shape = (66, 512)\n",
      "  - Index 218: shape = (63, 512)\n",
      "  - Index 219: shape = (66, 512)\n",
      "  - Index 220: shape = (65, 512)\n",
      "  - Index 221: shape = (61, 512)\n",
      "  - Index 222: shape = (63, 512)\n",
      "  - Index 223: shape = (66, 512)\n",
      "  - Index 224: shape = (68, 512)\n",
      "  - Index 225: shape = (68, 512)\n",
      "  - Index 226: shape = (67, 512)\n",
      "  - Index 227: shape = (69, 512)\n",
      "  - Index 228: shape = (68, 512)\n",
      "  - Index 229: shape = (62, 512)\n",
      "  - Index 230: shape = (67, 512)\n",
      "  - Index 231: shape = (70, 512)\n",
      "  - Index 232: shape = (69, 512)\n",
      "  - Index 233: shape = (65, 512)\n",
      "  - Index 234: shape = (63, 512)\n",
      "  - Index 235: shape = (66, 512)\n",
      "  - Index 236: shape = (64, 512)\n",
      "  - Index 237: shape = (61, 512)\n",
      "  - Index 238: shape = (70, 512)\n",
      "  - Index 239: shape = (68, 512)\n",
      "  - Index 240: shape = (67, 512)\n",
      "  - Index 241: shape = (61, 512)\n",
      "  - Index 242: shape = (66, 512)\n",
      "  - Index 243: shape = (64, 512)\n",
      "  - Index 244: shape = (62, 512)\n",
      "  - Index 245: shape = (64, 512)\n",
      "  - Index 246: shape = (68, 512)\n",
      "  - Index 247: shape = (64, 512)\n",
      "  - Index 248: shape = (70, 512)\n",
      "  - Index 249: shape = (64, 512)\n",
      "  - Index 250: shape = (66, 512)\n",
      "  - Index 251: shape = (65, 512)\n",
      "  - Index 252: shape = (64, 512)\n",
      "  - Index 253: shape = (65, 512)\n",
      "  - Index 254: shape = (64, 512)\n",
      "  - Index 255: shape = (70, 512)\n",
      "  - Index 256: shape = (62, 512)\n",
      "  - Index 257: shape = (63, 512)\n",
      "  - Index 258: shape = (67, 512)\n",
      "  - Index 259: shape = (62, 512)\n",
      "  - Index 260: shape = (70, 512)\n",
      "  - Index 261: shape = (64, 512)\n",
      "  - Index 262: shape = (64, 512)\n",
      "  - Index 263: shape = (65, 512)\n",
      "  - Index 264: shape = (62, 512)\n",
      "  - Index 265: shape = (62, 512)\n",
      "  - Index 266: shape = (70, 512)\n",
      "  - Index 267: shape = (65, 512)\n",
      "  - Index 268: shape = (68, 512)\n",
      "  - Index 269: shape = (67, 512)\n",
      "  - Index 270: shape = (68, 512)\n",
      "  - Index 271: shape = (69, 512)\n",
      "  - Index 272: shape = (66, 512)\n",
      "  - Index 273: shape = (63, 512)\n",
      "  - Index 274: shape = (65, 512)\n",
      "  - Index 275: shape = (64, 512)\n",
      "  - Index 276: shape = (63, 512)\n",
      "  - Index 277: shape = (61, 512)\n",
      "  - Index 278: shape = (64, 512)\n",
      "  - Index 279: shape = (62, 512)\n",
      "  - Index 280: shape = (63, 512)\n",
      "  - Index 281: shape = (67, 512)\n",
      "  - Index 282: shape = (63, 512)\n",
      "  - Index 283: shape = (68, 512)\n",
      "  - Index 284: shape = (70, 512)\n",
      "  - Index 285: shape = (65, 512)\n",
      "  - Index 286: shape = (67, 512)\n",
      "  - Index 287: shape = (70, 512)\n",
      "  - Index 288: shape = (65, 512)\n",
      "  - Index 289: shape = (64, 512)\n",
      "  - Index 290: shape = (65, 512)\n",
      "  - Index 291: shape = (66, 512)\n",
      "  - Index 292: shape = (65, 512)\n",
      "  - Index 293: shape = (68, 512)\n",
      "  - Index 294: shape = (64, 512)\n",
      "  - Index 295: shape = (65, 512)\n",
      "  - Index 296: shape = (62, 512)\n",
      "  - Index 297: shape = (62, 512)\n",
      "  - Index 298: shape = (65, 512)\n",
      "  - Index 299: shape = (63, 512)\n",
      "  - Index 300: shape = (63, 512)\n",
      "  - Index 301: shape = (63, 512)\n",
      "  - Index 302: shape = (67, 512)\n",
      "  - Index 303: shape = (64, 512)\n",
      "  - Index 304: shape = (63, 512)\n",
      "  - Index 305: shape = (63, 512)\n",
      "  - Index 306: shape = (66, 512)\n",
      "  - Index 307: shape = (63, 512)\n",
      "  - Index 308: shape = (68, 512)\n",
      "  - Index 309: shape = (62, 512)\n",
      "  - Index 310: shape = (64, 512)\n",
      "  - Index 311: shape = (70, 512)\n",
      "  - Index 312: shape = (67, 512)\n",
      "  - Index 313: shape = (64, 512)\n",
      "  - Index 314: shape = (65, 512)\n",
      "  - Index 315: shape = (62, 512)\n",
      "  - Index 316: shape = (66, 512)\n",
      "  - Index 317: shape = (65, 512)\n",
      "  - Index 318: shape = (66, 512)\n",
      "  - Index 319: shape = (66, 512)\n",
      "  - Index 320: shape = (68, 512)\n",
      "  - Index 321: shape = (66, 512)\n",
      "  - Index 322: shape = (65, 512)\n",
      "  - Index 323: shape = (63, 512)\n",
      "  - Index 324: shape = (61, 512)\n",
      "  - Index 325: shape = (63, 512)\n",
      "  - Index 326: shape = (67, 512)\n",
      "  - Index 327: shape = (66, 512)\n",
      "  - Index 328: shape = (66, 512)\n",
      "  - Index 329: shape = (64, 512)\n",
      "  - Index 330: shape = (61, 512)\n",
      "  - Index 331: shape = (65, 512)\n",
      "  - Index 332: shape = (61, 512)\n",
      "  - Index 333: shape = (66, 512)\n",
      "  - Index 334: shape = (64, 512)\n",
      "  - Index 335: shape = (68, 512)\n",
      "  - Index 336: shape = (69, 512)\n",
      "  - Index 337: shape = (64, 512)\n",
      "  - Index 338: shape = (62, 512)\n",
      "  - Index 339: shape = (67, 512)\n",
      "  - Index 340: shape = (62, 512)\n",
      "  - Index 341: shape = (65, 512)\n",
      "  - Index 342: shape = (65, 512)\n",
      "  - Index 343: shape = (64, 512)\n",
      "  - Index 344: shape = (65, 512)\n",
      "  - Index 345: shape = (66, 512)\n",
      "  - Index 346: shape = (67, 512)\n",
      "  - Index 347: shape = (63, 512)\n",
      "  - Index 348: shape = (67, 512)\n",
      "  - Index 349: shape = (69, 512)\n",
      "  - Index 350: shape = (67, 512)\n",
      "  - Index 351: shape = (67, 512)\n",
      "  - Index 352: shape = (64, 512)\n",
      "  - Index 353: shape = (66, 512)\n",
      "  - Index 354: shape = (68, 512)\n",
      "  - Index 355: shape = (65, 512)\n",
      "  - Index 356: shape = (62, 512)\n",
      "  - Index 357: shape = (61, 512)\n",
      "  - Index 358: shape = (66, 512)\n",
      "  - Index 359: shape = (65, 512)\n",
      "  - Index 360: shape = (62, 512)\n",
      "  - Index 361: shape = (63, 512)\n",
      "  - Index 362: shape = (62, 512)\n",
      "  - Index 363: shape = (62, 512)\n",
      "  - Index 364: shape = (62, 512)\n",
      "  - Index 365: shape = (63, 512)\n",
      "  - Index 366: shape = (70, 512)\n",
      "  - Index 367: shape = (65, 512)\n",
      "  - Index 368: shape = (68, 512)\n",
      "  - Index 369: shape = (64, 512)\n",
      "  - Index 370: shape = (62, 512)\n",
      "  - Index 371: shape = (69, 512)\n",
      "  - Index 372: shape = (63, 512)\n",
      "  - Index 373: shape = (65, 512)\n",
      "  - Index 374: shape = (68, 512)\n",
      "  - Index 375: shape = (68, 512)\n",
      "  - Index 376: shape = (67, 512)\n",
      "  - Index 377: shape = (62, 512)\n",
      "  - Index 378: shape = (63, 512)\n",
      "  - Index 379: shape = (64, 512)\n",
      "  - Index 380: shape = (67, 512)\n",
      "  - Index 381: shape = (66, 512)\n",
      "  - Index 382: shape = (63, 512)\n",
      "  - Index 383: shape = (63, 512)\n",
      "  - Index 384: shape = (69, 512)\n",
      "  - Index 385: shape = (63, 512)\n",
      "  - Index 386: shape = (66, 512)\n",
      "  - Index 387: shape = (64, 512)\n",
      "  - Index 388: shape = (65, 512)\n",
      "  - Index 389: shape = (69, 512)\n",
      "  - Index 390: shape = (66, 512)\n",
      "  - Index 391: shape = (64, 512)\n",
      "  - Index 392: shape = (64, 512)\n",
      "  - Index 393: shape = (64, 512)\n",
      "  - Index 394: shape = (63, 512)\n",
      "  - Index 395: shape = (68, 512)\n",
      "  - Index 396: shape = (65, 512)\n",
      "  - Index 397: shape = (61, 512)\n",
      "  - Index 398: shape = (61, 512)\n",
      "  - Index 399: shape = (66, 512)\n",
      "  - Index 400: shape = (62, 512)\n",
      "  - Index 401: shape = (62, 512)\n",
      "  - Index 402: shape = (62, 512)\n",
      "  - Index 403: shape = (63, 512)\n",
      "  - Index 404: shape = (67, 512)\n",
      "  - Index 405: shape = (63, 512)\n",
      "  - Index 406: shape = (62, 512)\n",
      "  - Index 407: shape = (63, 512)\n",
      "  - Index 408: shape = (69, 512)\n",
      "  - Index 409: shape = (67, 512)\n",
      "  - Index 410: shape = (67, 512)\n",
      "  - Index 411: shape = (70, 512)\n",
      "  - Index 412: shape = (64, 512)\n",
      "  - Index 413: shape = (62, 512)\n",
      "  - Index 414: shape = (63, 512)\n",
      "  - Index 415: shape = (68, 512)\n",
      "  - Index 416: shape = (65, 512)\n",
      "  - Index 417: shape = (62, 512)\n",
      "  - Index 418: shape = (67, 512)\n",
      "  - Index 419: shape = (66, 512)\n",
      "  - Index 420: shape = (69, 512)\n",
      "  - Index 421: shape = (66, 512)\n",
      "  - Index 422: shape = (62, 512)\n",
      "  - Index 423: shape = (66, 512)\n",
      "  - Index 424: shape = (65, 512)\n",
      "  - Index 425: shape = (62, 512)\n",
      "  - Index 426: shape = (62, 512)\n",
      "  - Index 427: shape = (67, 512)\n",
      "  - Index 428: shape = (65, 512)\n",
      "  - Index 429: shape = (63, 512)\n",
      "  - Index 430: shape = (66, 512)\n",
      "  - Index 431: shape = (65, 512)\n",
      "  - Index 432: shape = (63, 512)\n",
      "  - Index 433: shape = (63, 512)\n",
      "  - Index 434: shape = (70, 512)\n",
      "  - Index 435: shape = (63, 512)\n",
      "  - Index 436: shape = (63, 512)\n",
      "  - Index 437: shape = (62, 512)\n",
      "  - Index 438: shape = (63, 512)\n",
      "  - Index 439: shape = (69, 512)\n",
      "  - Index 440: shape = (67, 512)\n",
      "  - Index 441: shape = (69, 512)\n",
      "  - Index 442: shape = (62, 512)\n",
      "  - Index 443: shape = (61, 512)\n",
      "  - Index 444: shape = (63, 512)\n",
      "  - Index 445: shape = (66, 512)\n",
      "  - Index 446: shape = (65, 512)\n",
      "  - Index 447: shape = (65, 512)\n",
      "  - Index 448: shape = (63, 512)\n",
      "  - Index 449: shape = (63, 512)\n",
      "  - Index 450: shape = (69, 512)\n",
      "  - Index 451: shape = (67, 512)\n",
      "  - Index 452: shape = (64, 512)\n",
      "  - Index 453: shape = (66, 512)\n",
      "  - Index 454: shape = (70, 512)\n",
      "  - Index 455: shape = (63, 512)\n",
      "  - Index 456: shape = (66, 512)\n",
      "  - Index 457: shape = (67, 512)\n",
      "  - Index 458: shape = (69, 512)\n",
      "  - Index 459: shape = (63, 512)\n",
      "  - Index 460: shape = (66, 512)\n",
      "  - Index 461: shape = (69, 512)\n",
      "  - Index 462: shape = (66, 512)\n",
      "  - Index 463: shape = (66, 512)\n",
      "  - Index 464: shape = (65, 512)\n",
      "  - Index 465: shape = (66, 512)\n",
      "  - Index 466: shape = (70, 512)\n",
      "  - Index 467: shape = (61, 512)\n",
      "  - Index 468: shape = (66, 512)\n",
      "  - Index 469: shape = (61, 512)\n",
      "  - Index 470: shape = (64, 512)\n",
      "  - Index 471: shape = (65, 512)\n",
      "  - Index 472: shape = (66, 512)\n",
      "  - Index 473: shape = (68, 512)\n",
      "  - Index 474: shape = (65, 512)\n",
      "  - Index 475: shape = (65, 512)\n",
      "  - Index 476: shape = (66, 512)\n",
      "  - Index 477: shape = (65, 512)\n",
      "  - Index 478: shape = (67, 512)\n",
      "  - Index 479: shape = (65, 512)\n",
      "  - Index 480: shape = (65, 512)\n",
      "  - Index 481: shape = (65, 512)\n",
      "  - Index 482: shape = (66, 512)\n",
      "  - Index 483: shape = (69, 512)\n",
      "  - Index 484: shape = (64, 512)\n",
      "  - Index 485: shape = (67, 512)\n",
      "  - Index 486: shape = (69, 512)\n",
      "  - Index 487: shape = (66, 512)\n",
      "  - Index 488: shape = (67, 512)\n",
      "  - Index 489: shape = (68, 512)\n",
      "  - Index 490: shape = (70, 512)\n",
      "  - Index 491: shape = (68, 512)\n",
      "  - Index 492: shape = (63, 512)\n",
      "  - Index 493: shape = (66, 512)\n",
      "  - Index 494: shape = (69, 512)\n",
      "  - Index 495: shape = (67, 512)\n",
      "  - Index 496: shape = (65, 512)\n",
      "  - Index 497: shape = (65, 512)\n",
      "  - Index 498: shape = (68, 512)\n",
      "  - Index 499: shape = (68, 512)\n",
      "  - Index 500: shape = (66, 512)\n",
      "  - Index 501: shape = (70, 512)\n",
      "  - Index 502: shape = (66, 512)\n",
      "  - Index 503: shape = (63, 512)\n",
      "  - Index 504: shape = (65, 512)\n",
      "🔍 Checking key: wrist_view\n",
      "❌ Inconsistent shapes in 'wrist_view':\n",
      "  - Index 0: shape = (64, 512)\n",
      "  - Index 1: shape = (64, 512)\n",
      "  - Index 2: shape = (62, 512)\n",
      "  - Index 3: shape = (63, 512)\n",
      "  - Index 4: shape = (63, 512)\n",
      "  - Index 5: shape = (62, 512)\n",
      "  - Index 6: shape = (66, 512)\n",
      "  - Index 7: shape = (62, 512)\n",
      "  - Index 8: shape = (67, 512)\n",
      "  - Index 9: shape = (64, 512)\n",
      "  - Index 10: shape = (71, 512)\n",
      "  - Index 11: shape = (64, 512)\n",
      "  - Index 12: shape = (72, 512)\n",
      "  - Index 13: shape = (65, 512)\n",
      "  - Index 14: shape = (63, 512)\n",
      "  - Index 15: shape = (65, 512)\n",
      "  - Index 16: shape = (61, 512)\n",
      "  - Index 17: shape = (63, 512)\n",
      "  - Index 18: shape = (62, 512)\n",
      "  - Index 19: shape = (64, 512)\n",
      "  - Index 20: shape = (67, 512)\n",
      "  - Index 21: shape = (66, 512)\n",
      "  - Index 22: shape = (63, 512)\n",
      "  - Index 23: shape = (62, 512)\n",
      "  - Index 24: shape = (68, 512)\n",
      "  - Index 25: shape = (63, 512)\n",
      "  - Index 26: shape = (66, 512)\n",
      "  - Index 27: shape = (67, 512)\n",
      "  - Index 28: shape = (61, 512)\n",
      "  - Index 29: shape = (66, 512)\n",
      "  - Index 30: shape = (70, 512)\n",
      "  - Index 31: shape = (63, 512)\n",
      "  - Index 32: shape = (63, 512)\n",
      "  - Index 33: shape = (65, 512)\n",
      "  - Index 34: shape = (68, 512)\n",
      "  - Index 35: shape = (67, 512)\n",
      "  - Index 36: shape = (68, 512)\n",
      "  - Index 37: shape = (72, 512)\n",
      "  - Index 38: shape = (61, 512)\n",
      "  - Index 39: shape = (62, 512)\n",
      "  - Index 40: shape = (71, 512)\n",
      "  - Index 41: shape = (67, 512)\n",
      "  - Index 42: shape = (69, 512)\n",
      "  - Index 43: shape = (62, 512)\n",
      "  - Index 44: shape = (70, 512)\n",
      "  - Index 45: shape = (62, 512)\n",
      "  - Index 46: shape = (61, 512)\n",
      "  - Index 47: shape = (62, 512)\n",
      "  - Index 48: shape = (62, 512)\n",
      "  - Index 49: shape = (66, 512)\n",
      "  - Index 50: shape = (71, 512)\n",
      "  - Index 51: shape = (69, 512)\n",
      "  - Index 52: shape = (70, 512)\n",
      "  - Index 53: shape = (63, 512)\n",
      "  - Index 54: shape = (61, 512)\n",
      "  - Index 55: shape = (64, 512)\n",
      "  - Index 56: shape = (67, 512)\n",
      "  - Index 57: shape = (67, 512)\n",
      "  - Index 58: shape = (68, 512)\n",
      "  - Index 59: shape = (63, 512)\n",
      "  - Index 60: shape = (65, 512)\n",
      "  - Index 61: shape = (68, 512)\n",
      "  - Index 62: shape = (63, 512)\n",
      "  - Index 63: shape = (65, 512)\n",
      "  - Index 64: shape = (63, 512)\n",
      "  - Index 65: shape = (62, 512)\n",
      "  - Index 66: shape = (62, 512)\n",
      "  - Index 67: shape = (62, 512)\n",
      "  - Index 68: shape = (63, 512)\n",
      "  - Index 69: shape = (63, 512)\n",
      "  - Index 70: shape = (64, 512)\n",
      "  - Index 71: shape = (71, 512)\n",
      "  - Index 72: shape = (61, 512)\n",
      "  - Index 73: shape = (67, 512)\n",
      "  - Index 74: shape = (64, 512)\n",
      "  - Index 75: shape = (69, 512)\n",
      "  - Index 76: shape = (66, 512)\n",
      "  - Index 77: shape = (64, 512)\n",
      "  - Index 78: shape = (66, 512)\n",
      "  - Index 79: shape = (62, 512)\n",
      "  - Index 80: shape = (67, 512)\n",
      "  - Index 81: shape = (64, 512)\n",
      "  - Index 82: shape = (62, 512)\n",
      "  - Index 83: shape = (61, 512)\n",
      "  - Index 84: shape = (62, 512)\n",
      "  - Index 85: shape = (68, 512)\n",
      "  - Index 86: shape = (65, 512)\n",
      "  - Index 87: shape = (63, 512)\n",
      "  - Index 88: shape = (62, 512)\n",
      "  - Index 89: shape = (73, 512)\n",
      "  - Index 90: shape = (66, 512)\n",
      "  - Index 91: shape = (65, 512)\n",
      "  - Index 92: shape = (64, 512)\n",
      "  - Index 93: shape = (64, 512)\n",
      "  - Index 94: shape = (64, 512)\n",
      "  - Index 95: shape = (71, 512)\n",
      "  - Index 96: shape = (65, 512)\n",
      "  - Index 97: shape = (67, 512)\n",
      "  - Index 98: shape = (74, 512)\n",
      "  - Index 99: shape = (69, 512)\n",
      "  - Index 100: shape = (71, 512)\n",
      "  - Index 101: shape = (62, 512)\n",
      "  - Index 102: shape = (62, 512)\n",
      "  - Index 103: shape = (63, 512)\n",
      "  - Index 104: shape = (66, 512)\n",
      "  - Index 105: shape = (62, 512)\n",
      "  - Index 106: shape = (63, 512)\n",
      "  - Index 107: shape = (68, 512)\n",
      "  - Index 108: shape = (67, 512)\n",
      "  - Index 109: shape = (75, 512)\n",
      "  - Index 110: shape = (67, 512)\n",
      "  - Index 111: shape = (61, 512)\n",
      "  - Index 112: shape = (65, 512)\n",
      "  - Index 113: shape = (61, 512)\n",
      "  - Index 114: shape = (63, 512)\n",
      "  - Index 115: shape = (63, 512)\n",
      "  - Index 116: shape = (62, 512)\n",
      "  - Index 117: shape = (67, 512)\n",
      "  - Index 118: shape = (63, 512)\n",
      "  - Index 119: shape = (62, 512)\n",
      "  - Index 120: shape = (64, 512)\n",
      "  - Index 121: shape = (63, 512)\n",
      "  - Index 122: shape = (67, 512)\n",
      "  - Index 123: shape = (69, 512)\n",
      "  - Index 124: shape = (64, 512)\n",
      "  - Index 125: shape = (66, 512)\n",
      "  - Index 126: shape = (63, 512)\n",
      "  - Index 127: shape = (63, 512)\n",
      "  - Index 128: shape = (63, 512)\n",
      "  - Index 129: shape = (66, 512)\n",
      "  - Index 130: shape = (62, 512)\n",
      "  - Index 131: shape = (68, 512)\n",
      "  - Index 132: shape = (64, 512)\n",
      "  - Index 133: shape = (68, 512)\n",
      "  - Index 134: shape = (67, 512)\n",
      "  - Index 135: shape = (68, 512)\n",
      "  - Index 136: shape = (64, 512)\n",
      "  - Index 137: shape = (62, 512)\n",
      "  - Index 138: shape = (66, 512)\n",
      "  - Index 139: shape = (63, 512)\n",
      "  - Index 140: shape = (61, 512)\n",
      "  - Index 141: shape = (63, 512)\n",
      "  - Index 142: shape = (67, 512)\n",
      "  - Index 143: shape = (63, 512)\n",
      "  - Index 144: shape = (65, 512)\n",
      "  - Index 145: shape = (64, 512)\n",
      "  - Index 146: shape = (69, 512)\n",
      "  - Index 147: shape = (64, 512)\n",
      "  - Index 148: shape = (62, 512)\n",
      "  - Index 149: shape = (65, 512)\n",
      "  - Index 150: shape = (66, 512)\n",
      "  - Index 151: shape = (67, 512)\n",
      "  - Index 152: shape = (62, 512)\n",
      "  - Index 153: shape = (68, 512)\n",
      "  - Index 154: shape = (64, 512)\n",
      "  - Index 155: shape = (66, 512)\n",
      "  - Index 156: shape = (62, 512)\n",
      "  - Index 157: shape = (62, 512)\n",
      "  - Index 158: shape = (63, 512)\n",
      "  - Index 159: shape = (63, 512)\n",
      "  - Index 160: shape = (67, 512)\n",
      "  - Index 161: shape = (69, 512)\n",
      "  - Index 162: shape = (65, 512)\n",
      "  - Index 163: shape = (63, 512)\n",
      "  - Index 164: shape = (66, 512)\n",
      "  - Index 165: shape = (66, 512)\n",
      "  - Index 166: shape = (64, 512)\n",
      "  - Index 167: shape = (67, 512)\n",
      "  - Index 168: shape = (66, 512)\n",
      "  - Index 169: shape = (68, 512)\n",
      "  - Index 170: shape = (63, 512)\n",
      "  - Index 171: shape = (62, 512)\n",
      "  - Index 172: shape = (63, 512)\n",
      "  - Index 173: shape = (61, 512)\n",
      "  - Index 174: shape = (63, 512)\n",
      "  - Index 175: shape = (62, 512)\n",
      "  - Index 176: shape = (62, 512)\n",
      "  - Index 177: shape = (64, 512)\n",
      "  - Index 178: shape = (64, 512)\n",
      "  - Index 179: shape = (63, 512)\n",
      "  - Index 180: shape = (70, 512)\n",
      "  - Index 181: shape = (62, 512)\n",
      "  - Index 182: shape = (66, 512)\n",
      "  - Index 183: shape = (69, 512)\n",
      "  - Index 184: shape = (65, 512)\n",
      "  - Index 185: shape = (62, 512)\n",
      "  - Index 186: shape = (67, 512)\n",
      "  - Index 187: shape = (61, 512)\n",
      "  - Index 188: shape = (62, 512)\n",
      "  - Index 189: shape = (64, 512)\n",
      "  - Index 190: shape = (65, 512)\n",
      "  - Index 191: shape = (62, 512)\n",
      "  - Index 192: shape = (62, 512)\n",
      "  - Index 193: shape = (66, 512)\n",
      "  - Index 194: shape = (62, 512)\n",
      "  - Index 195: shape = (66, 512)\n",
      "  - Index 196: shape = (62, 512)\n",
      "  - Index 197: shape = (61, 512)\n",
      "  - Index 198: shape = (68, 512)\n",
      "  - Index 199: shape = (64, 512)\n",
      "  - Index 200: shape = (63, 512)\n",
      "  - Index 201: shape = (68, 512)\n",
      "  - Index 202: shape = (64, 512)\n",
      "  - Index 203: shape = (62, 512)\n",
      "  - Index 204: shape = (63, 512)\n",
      "  - Index 205: shape = (67, 512)\n",
      "  - Index 206: shape = (63, 512)\n",
      "  - Index 207: shape = (66, 512)\n",
      "  - Index 208: shape = (67, 512)\n",
      "  - Index 209: shape = (63, 512)\n",
      "  - Index 210: shape = (67, 512)\n",
      "  - Index 211: shape = (68, 512)\n",
      "  - Index 212: shape = (66, 512)\n",
      "  - Index 213: shape = (65, 512)\n",
      "  - Index 214: shape = (64, 512)\n",
      "  - Index 215: shape = (63, 512)\n",
      "  - Index 216: shape = (69, 512)\n",
      "  - Index 217: shape = (66, 512)\n",
      "  - Index 218: shape = (63, 512)\n",
      "  - Index 219: shape = (66, 512)\n",
      "  - Index 220: shape = (65, 512)\n",
      "  - Index 221: shape = (61, 512)\n",
      "  - Index 222: shape = (63, 512)\n",
      "  - Index 223: shape = (66, 512)\n",
      "  - Index 224: shape = (68, 512)\n",
      "  - Index 225: shape = (68, 512)\n",
      "  - Index 226: shape = (67, 512)\n",
      "  - Index 227: shape = (69, 512)\n",
      "  - Index 228: shape = (68, 512)\n",
      "  - Index 229: shape = (62, 512)\n",
      "  - Index 230: shape = (67, 512)\n",
      "  - Index 231: shape = (70, 512)\n",
      "  - Index 232: shape = (69, 512)\n",
      "  - Index 233: shape = (65, 512)\n",
      "  - Index 234: shape = (63, 512)\n",
      "  - Index 235: shape = (66, 512)\n",
      "  - Index 236: shape = (64, 512)\n",
      "  - Index 237: shape = (61, 512)\n",
      "  - Index 238: shape = (70, 512)\n",
      "  - Index 239: shape = (68, 512)\n",
      "  - Index 240: shape = (67, 512)\n",
      "  - Index 241: shape = (61, 512)\n",
      "  - Index 242: shape = (66, 512)\n",
      "  - Index 243: shape = (64, 512)\n",
      "  - Index 244: shape = (62, 512)\n",
      "  - Index 245: shape = (64, 512)\n",
      "  - Index 246: shape = (68, 512)\n",
      "  - Index 247: shape = (64, 512)\n",
      "  - Index 248: shape = (70, 512)\n",
      "  - Index 249: shape = (64, 512)\n",
      "  - Index 250: shape = (66, 512)\n",
      "  - Index 251: shape = (65, 512)\n",
      "  - Index 252: shape = (64, 512)\n",
      "  - Index 253: shape = (65, 512)\n",
      "  - Index 254: shape = (64, 512)\n",
      "  - Index 255: shape = (70, 512)\n",
      "  - Index 256: shape = (62, 512)\n",
      "  - Index 257: shape = (63, 512)\n",
      "  - Index 258: shape = (67, 512)\n",
      "  - Index 259: shape = (62, 512)\n",
      "  - Index 260: shape = (70, 512)\n",
      "  - Index 261: shape = (64, 512)\n",
      "  - Index 262: shape = (64, 512)\n",
      "  - Index 263: shape = (65, 512)\n",
      "  - Index 264: shape = (62, 512)\n",
      "  - Index 265: shape = (62, 512)\n",
      "  - Index 266: shape = (70, 512)\n",
      "  - Index 267: shape = (65, 512)\n",
      "  - Index 268: shape = (68, 512)\n",
      "  - Index 269: shape = (67, 512)\n",
      "  - Index 270: shape = (68, 512)\n",
      "  - Index 271: shape = (69, 512)\n",
      "  - Index 272: shape = (66, 512)\n",
      "  - Index 273: shape = (63, 512)\n",
      "  - Index 274: shape = (65, 512)\n",
      "  - Index 275: shape = (64, 512)\n",
      "  - Index 276: shape = (63, 512)\n",
      "  - Index 277: shape = (61, 512)\n",
      "  - Index 278: shape = (64, 512)\n",
      "  - Index 279: shape = (62, 512)\n",
      "  - Index 280: shape = (63, 512)\n",
      "  - Index 281: shape = (67, 512)\n",
      "  - Index 282: shape = (63, 512)\n",
      "  - Index 283: shape = (68, 512)\n",
      "  - Index 284: shape = (70, 512)\n",
      "  - Index 285: shape = (65, 512)\n",
      "  - Index 286: shape = (67, 512)\n",
      "  - Index 287: shape = (70, 512)\n",
      "  - Index 288: shape = (65, 512)\n",
      "  - Index 289: shape = (64, 512)\n",
      "  - Index 290: shape = (65, 512)\n",
      "  - Index 291: shape = (66, 512)\n",
      "  - Index 292: shape = (65, 512)\n",
      "  - Index 293: shape = (68, 512)\n",
      "  - Index 294: shape = (64, 512)\n",
      "  - Index 295: shape = (65, 512)\n",
      "  - Index 296: shape = (62, 512)\n",
      "  - Index 297: shape = (62, 512)\n",
      "  - Index 298: shape = (65, 512)\n",
      "  - Index 299: shape = (63, 512)\n",
      "  - Index 300: shape = (63, 512)\n",
      "  - Index 301: shape = (63, 512)\n",
      "  - Index 302: shape = (67, 512)\n",
      "  - Index 303: shape = (64, 512)\n",
      "  - Index 304: shape = (63, 512)\n",
      "  - Index 305: shape = (63, 512)\n",
      "  - Index 306: shape = (66, 512)\n",
      "  - Index 307: shape = (63, 512)\n",
      "  - Index 308: shape = (68, 512)\n",
      "  - Index 309: shape = (62, 512)\n",
      "  - Index 310: shape = (64, 512)\n",
      "  - Index 311: shape = (70, 512)\n",
      "  - Index 312: shape = (67, 512)\n",
      "  - Index 313: shape = (64, 512)\n",
      "  - Index 314: shape = (65, 512)\n",
      "  - Index 315: shape = (62, 512)\n",
      "  - Index 316: shape = (66, 512)\n",
      "  - Index 317: shape = (65, 512)\n",
      "  - Index 318: shape = (66, 512)\n",
      "  - Index 319: shape = (66, 512)\n",
      "  - Index 320: shape = (68, 512)\n",
      "  - Index 321: shape = (66, 512)\n",
      "  - Index 322: shape = (65, 512)\n",
      "  - Index 323: shape = (63, 512)\n",
      "  - Index 324: shape = (61, 512)\n",
      "  - Index 325: shape = (63, 512)\n",
      "  - Index 326: shape = (67, 512)\n",
      "  - Index 327: shape = (66, 512)\n",
      "  - Index 328: shape = (66, 512)\n",
      "  - Index 329: shape = (64, 512)\n",
      "  - Index 330: shape = (61, 512)\n",
      "  - Index 331: shape = (65, 512)\n",
      "  - Index 332: shape = (61, 512)\n",
      "  - Index 333: shape = (66, 512)\n",
      "  - Index 334: shape = (64, 512)\n",
      "  - Index 335: shape = (68, 512)\n",
      "  - Index 336: shape = (69, 512)\n",
      "  - Index 337: shape = (64, 512)\n",
      "  - Index 338: shape = (62, 512)\n",
      "  - Index 339: shape = (67, 512)\n",
      "  - Index 340: shape = (62, 512)\n",
      "  - Index 341: shape = (65, 512)\n",
      "  - Index 342: shape = (65, 512)\n",
      "  - Index 343: shape = (64, 512)\n",
      "  - Index 344: shape = (65, 512)\n",
      "  - Index 345: shape = (66, 512)\n",
      "  - Index 346: shape = (67, 512)\n",
      "  - Index 347: shape = (63, 512)\n",
      "  - Index 348: shape = (67, 512)\n",
      "  - Index 349: shape = (69, 512)\n",
      "  - Index 350: shape = (67, 512)\n",
      "  - Index 351: shape = (67, 512)\n",
      "  - Index 352: shape = (64, 512)\n",
      "  - Index 353: shape = (66, 512)\n",
      "  - Index 354: shape = (68, 512)\n",
      "  - Index 355: shape = (65, 512)\n",
      "  - Index 356: shape = (62, 512)\n",
      "  - Index 357: shape = (61, 512)\n",
      "  - Index 358: shape = (66, 512)\n",
      "  - Index 359: shape = (65, 512)\n",
      "  - Index 360: shape = (62, 512)\n",
      "  - Index 361: shape = (63, 512)\n",
      "  - Index 362: shape = (62, 512)\n",
      "  - Index 363: shape = (62, 512)\n",
      "  - Index 364: shape = (62, 512)\n",
      "  - Index 365: shape = (63, 512)\n",
      "  - Index 366: shape = (70, 512)\n",
      "  - Index 367: shape = (65, 512)\n",
      "  - Index 368: shape = (68, 512)\n",
      "  - Index 369: shape = (64, 512)\n",
      "  - Index 370: shape = (62, 512)\n",
      "  - Index 371: shape = (69, 512)\n",
      "  - Index 372: shape = (63, 512)\n",
      "  - Index 373: shape = (65, 512)\n",
      "  - Index 374: shape = (68, 512)\n",
      "  - Index 375: shape = (68, 512)\n",
      "  - Index 376: shape = (67, 512)\n",
      "  - Index 377: shape = (62, 512)\n",
      "  - Index 378: shape = (63, 512)\n",
      "  - Index 379: shape = (64, 512)\n",
      "  - Index 380: shape = (67, 512)\n",
      "  - Index 381: shape = (66, 512)\n",
      "  - Index 382: shape = (63, 512)\n",
      "  - Index 383: shape = (63, 512)\n",
      "  - Index 384: shape = (69, 512)\n",
      "  - Index 385: shape = (63, 512)\n",
      "  - Index 386: shape = (66, 512)\n",
      "  - Index 387: shape = (64, 512)\n",
      "  - Index 388: shape = (65, 512)\n",
      "  - Index 389: shape = (69, 512)\n",
      "  - Index 390: shape = (66, 512)\n",
      "  - Index 391: shape = (64, 512)\n",
      "  - Index 392: shape = (64, 512)\n",
      "  - Index 393: shape = (64, 512)\n",
      "  - Index 394: shape = (63, 512)\n",
      "  - Index 395: shape = (68, 512)\n",
      "  - Index 396: shape = (65, 512)\n",
      "  - Index 397: shape = (61, 512)\n",
      "  - Index 398: shape = (61, 512)\n",
      "  - Index 399: shape = (66, 512)\n",
      "  - Index 400: shape = (62, 512)\n",
      "  - Index 401: shape = (62, 512)\n",
      "  - Index 402: shape = (62, 512)\n",
      "  - Index 403: shape = (63, 512)\n",
      "  - Index 404: shape = (67, 512)\n",
      "  - Index 405: shape = (63, 512)\n",
      "  - Index 406: shape = (62, 512)\n",
      "  - Index 407: shape = (63, 512)\n",
      "  - Index 408: shape = (69, 512)\n",
      "  - Index 409: shape = (67, 512)\n",
      "  - Index 410: shape = (67, 512)\n",
      "  - Index 411: shape = (70, 512)\n",
      "  - Index 412: shape = (64, 512)\n",
      "  - Index 413: shape = (62, 512)\n",
      "  - Index 414: shape = (63, 512)\n",
      "  - Index 415: shape = (68, 512)\n",
      "  - Index 416: shape = (65, 512)\n",
      "  - Index 417: shape = (62, 512)\n",
      "  - Index 418: shape = (67, 512)\n",
      "  - Index 419: shape = (66, 512)\n",
      "  - Index 420: shape = (69, 512)\n",
      "  - Index 421: shape = (66, 512)\n",
      "  - Index 422: shape = (62, 512)\n",
      "  - Index 423: shape = (66, 512)\n",
      "  - Index 424: shape = (65, 512)\n",
      "  - Index 425: shape = (62, 512)\n",
      "  - Index 426: shape = (62, 512)\n",
      "  - Index 427: shape = (67, 512)\n",
      "  - Index 428: shape = (65, 512)\n",
      "  - Index 429: shape = (63, 512)\n",
      "  - Index 430: shape = (66, 512)\n",
      "  - Index 431: shape = (65, 512)\n",
      "  - Index 432: shape = (63, 512)\n",
      "  - Index 433: shape = (63, 512)\n",
      "  - Index 434: shape = (70, 512)\n",
      "  - Index 435: shape = (63, 512)\n",
      "  - Index 436: shape = (63, 512)\n",
      "  - Index 437: shape = (62, 512)\n",
      "  - Index 438: shape = (63, 512)\n",
      "  - Index 439: shape = (69, 512)\n",
      "  - Index 440: shape = (67, 512)\n",
      "  - Index 441: shape = (69, 512)\n",
      "  - Index 442: shape = (62, 512)\n",
      "  - Index 443: shape = (61, 512)\n",
      "  - Index 444: shape = (63, 512)\n",
      "  - Index 445: shape = (66, 512)\n",
      "  - Index 446: shape = (65, 512)\n",
      "  - Index 447: shape = (65, 512)\n",
      "  - Index 448: shape = (63, 512)\n",
      "  - Index 449: shape = (63, 512)\n",
      "  - Index 450: shape = (69, 512)\n",
      "  - Index 451: shape = (67, 512)\n",
      "  - Index 452: shape = (64, 512)\n",
      "  - Index 453: shape = (66, 512)\n",
      "  - Index 454: shape = (70, 512)\n",
      "  - Index 455: shape = (63, 512)\n",
      "  - Index 456: shape = (66, 512)\n",
      "  - Index 457: shape = (67, 512)\n",
      "  - Index 458: shape = (69, 512)\n",
      "  - Index 459: shape = (63, 512)\n",
      "  - Index 460: shape = (66, 512)\n",
      "  - Index 461: shape = (69, 512)\n",
      "  - Index 462: shape = (66, 512)\n",
      "  - Index 463: shape = (66, 512)\n",
      "  - Index 464: shape = (65, 512)\n",
      "  - Index 465: shape = (66, 512)\n",
      "  - Index 466: shape = (70, 512)\n",
      "  - Index 467: shape = (61, 512)\n",
      "  - Index 468: shape = (66, 512)\n",
      "  - Index 469: shape = (61, 512)\n",
      "  - Index 470: shape = (64, 512)\n",
      "  - Index 471: shape = (65, 512)\n",
      "  - Index 472: shape = (66, 512)\n",
      "  - Index 473: shape = (68, 512)\n",
      "  - Index 474: shape = (65, 512)\n",
      "  - Index 475: shape = (65, 512)\n",
      "  - Index 476: shape = (66, 512)\n",
      "  - Index 477: shape = (65, 512)\n",
      "  - Index 478: shape = (67, 512)\n",
      "  - Index 479: shape = (65, 512)\n",
      "  - Index 480: shape = (65, 512)\n",
      "  - Index 481: shape = (65, 512)\n",
      "  - Index 482: shape = (66, 512)\n",
      "  - Index 483: shape = (69, 512)\n",
      "  - Index 484: shape = (64, 512)\n",
      "  - Index 485: shape = (67, 512)\n",
      "  - Index 486: shape = (69, 512)\n",
      "  - Index 487: shape = (66, 512)\n",
      "  - Index 488: shape = (67, 512)\n",
      "  - Index 489: shape = (68, 512)\n",
      "  - Index 490: shape = (70, 512)\n",
      "  - Index 491: shape = (68, 512)\n",
      "  - Index 492: shape = (63, 512)\n",
      "  - Index 493: shape = (66, 512)\n",
      "  - Index 494: shape = (69, 512)\n",
      "  - Index 495: shape = (67, 512)\n",
      "  - Index 496: shape = (65, 512)\n",
      "  - Index 497: shape = (65, 512)\n",
      "  - Index 498: shape = (68, 512)\n",
      "  - Index 499: shape = (68, 512)\n",
      "  - Index 500: shape = (66, 512)\n",
      "  - Index 501: shape = (70, 512)\n",
      "  - Index 502: shape = (66, 512)\n",
      "  - Index 503: shape = (63, 512)\n",
      "  - Index 504: shape = (65, 512)\n"
     ]
    }
   ],
   "source": [
    "\n",
    "\"\"\"\n",
    "2. npz 파일 shape확인\n",
    "\"\"\"\n",
    "import numpy as np\n",
    "\n",
    "# 파일 경로\n",
    "file_path = \"/AILAB-summer-school-2025/scripts/make_dataset/image_features(resnet18).npz\"\n",
    "\n",
    "data = np.load(file_path, allow_pickle=True)\n",
    "\n",
    "for key in data.files:\n",
    "    array = data[key]\n",
    "    print(f\"🔍 Checking key: {key}\")\n",
    "\n",
    "    # 요소가 1차원 object 배열일 경우 (비정형 데이터)\n",
    "    if array.dtype == object:\n",
    "        shapes = [np.shape(v) for v in array]\n",
    "    else:\n",
    "        shapes = [np.shape(row) for row in array]\n",
    "\n",
    "    unique_shapes = set(shapes)\n",
    "    if len(unique_shapes) == 1:\n",
    "        print(f\"✅ All {len(shapes)} entries in '{key}' have the same shape: {unique_shapes.pop()}\")\n",
    "    else:\n",
    "        print(f\"❌ Inconsistent shapes in '{key}':\")\n",
    "        for i, s in enumerate(shapes):\n",
    "            print(f\"  - Index {i}: shape = {s}\")"
   ]
  },
  {
   "cell_type": "code",
   "execution_count": 31,
   "id": "16bd9470",
   "metadata": {},
   "outputs": [
    {
     "name": "stdout",
     "output_type": "stream",
     "text": [
      "Weight hash: -1720887647942330811\n",
      "🔍 Checking episode: success_episode26_steps313, stride=5\n",
      "\n",
      "🔎 Checking view: front_view\n",
      "✅ front_view: All features match.\n",
      "\n",
      "🔎 Checking view: top_view\n",
      "✅ top_view: All features match.\n",
      "\n",
      "🔎 Checking view: wrist_view\n",
      "✅ wrist_view: All features match.\n"
     ]
    }
   ],
   "source": [
    "import os\n",
    "import re\n",
    "import numpy as np\n",
    "import torch\n",
    "from PIL import Image\n",
    "from torchvision import models, transforms\n",
    "\n",
    "# ✅ ResNet18 정의 (512차원 출력)\n",
    "resnet18 = models.resnet18(pretrained=True)\n",
    "resnet18.fc = torch.nn.Identity()\n",
    "resnet18.eval()\n",
    "device = \"cuda\" if torch.cuda.is_available() else \"cpu\"\n",
    "resnet18 = resnet18.to(device)\n",
    "print(\"Weight hash:\", hash(str(resnet18.state_dict())))\n",
    "\n",
    "# ✅ 이미지 transform 정의\n",
    "transform = transforms.Compose([\n",
    "    transforms.Resize((224, 224)),\n",
    "    transforms.ToTensor(),\n",
    "    transforms.Normalize(mean=[0.485, 0.456, 0.406],\n",
    "                         std =[0.229, 0.224, 0.225]),\n",
    "])\n",
    "\n",
    "# ✅ 설정\n",
    "npz_path = \"/AILAB-summer-school-2025/scripts/make_dataset/image_features(resnet18).npz\"\n",
    "success_data_raw = \"/AILAB-summer-school-2025/success_data_raw\"\n",
    "episode_idx = 25  # 검증할 에피소드 인덱스\n",
    "stride = 5       # 저장된 프레임 간격\n",
    "view_names = [\"front_view\", \"top_view\", \"wrist_view\"]\n",
    "\n",
    "# ✅ .npz 로딩\n",
    "data = np.load(npz_path, allow_pickle=True)\n",
    "\n",
    "# ✅ 에피소드 디렉토리 정렬\n",
    "episode_dirs = sorted(\n",
    "    [d for d in os.listdir(success_data_raw) if d.startswith(\"success_episode\")],\n",
    "    key=lambda name: int(re.search(r\"success_episode(\\d+)\", name).group(1))\n",
    ")\n",
    "episode_name = episode_dirs[episode_idx]\n",
    "episode_path = os.path.join(success_data_raw, episode_name)\n",
    "\n",
    "print(f\"🔍 Checking episode: {episode_name}, stride={stride}\")\n",
    "\n",
    "# ✅ View 별 점검 루프\n",
    "for view in view_names:\n",
    "    print(f\"\\n🔎 Checking view: {view}\")\n",
    "    ep_feat_seq = data[view][episode_idx]  # shape [T, 512]\n",
    "    T = ep_feat_seq.shape[0]\n",
    "    view_dir = os.path.join(episode_path, view)\n",
    "\n",
    "    num_fail = 0\n",
    "    for i in range(T):\n",
    "        frame_number = i * stride\n",
    "        filename = f\"{view}_{frame_number}.png\"\n",
    "        filepath = os.path.join(view_dir, filename)\n",
    "\n",
    "        if not os.path.exists(filepath):\n",
    "            print(f\"❌ Missing file: {filepath}\")\n",
    "            num_fail += 1\n",
    "            continue\n",
    "\n",
    "        image = Image.open(filepath).convert(\"RGB\")\n",
    "        img_tensor = transform(image).unsqueeze(0).to(device)\n",
    "\n",
    "        with torch.no_grad():\n",
    "            feat_from_resnet = resnet18(img_tensor).cpu().numpy().squeeze()\n",
    "\n",
    "        feat_from_npz = ep_feat_seq[i]\n",
    "        is_same = np.allclose(feat_from_npz, feat_from_resnet, atol=1e-6)\n",
    "\n",
    "        if not is_same:\n",
    "            diff = np.abs(feat_from_npz - feat_from_resnet)\n",
    "            print(f\"⚠️  Frame {i} (image {frame_number}.png): mismatch\")\n",
    "            print(f\"   → Max diff: {np.max(diff):.6f}, Mean diff: {np.mean(diff):.6f}\")\n",
    "            num_fail += 1\n",
    "\n",
    "    if num_fail == 0:\n",
    "        print(f\"✅ {view}: All features match.\")\n",
    "    else:\n",
    "        print(f\"❌ {view}: {num_fail}/{T} frames failed consistency check.\")\n"
   ]
  },
  {
   "cell_type": "code",
   "execution_count": null,
   "id": "1e397538",
   "metadata": {},
   "outputs": [],
   "source": [
    "\"\""
   ]
  }
 ],
 "metadata": {
  "kernelspec": {
   "display_name": "Python 3",
   "language": "python",
   "name": "python3"
  },
  "language_info": {
   "codemirror_mode": {
    "name": "ipython",
    "version": 3
   },
   "file_extension": ".py",
   "mimetype": "text/x-python",
   "name": "python",
   "nbconvert_exporter": "python",
   "pygments_lexer": "ipython3",
   "version": "3.10.12"
  }
 },
 "nbformat": 4,
 "nbformat_minor": 5
}
