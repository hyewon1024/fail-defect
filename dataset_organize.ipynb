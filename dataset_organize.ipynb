{
 "cells": [
  {
   "cell_type": "code",
   "execution_count": null,
   "id": "71d57bfa",
   "metadata": {
    "vscode": {
     "languageId": "plaintext"
    }
   },
   "outputs": [],
   "source": [
    "## success data\n",
    "import os\n",
    "import shutil\n",
    "import re\n",
    "\n",
    "# 원본 경로와 저장 경로\n",
    "raw_root = \"/AILAB-summer-school-2025/sucess_raw\"\n",
    "save_root = \"./validation_data/success_img\"\n",
    "os.makedirs(save_root, exist_ok=True)\n",
    "\n",
    "# 에피소드 인덱스를 새로 지정\n",
    "episode_counter = 0\n",
    "\n",
    "# 모든 simulation_traj 폴더 순회 (정렬된 순서대로)\n",
    "for folder in sorted(os.listdir(raw_root)):\n",
    "    if not folder.startswith(\"simulation_traj_\"):\n",
    "        continue\n",
    "\n",
    "    full_path = os.path.join(raw_root, folder)\n",
    "    if not os.path.isdir(full_path):\n",
    "        continue\n",
    "\n",
    "    # steps 정보 파싱\n",
    "    match = re.search(r\"_steps(\\d+)_len(\\d+)_success\", folder)\n",
    "    if not match:\n",
    "        continue\n",
    "    steps = match.group(1)\n",
    "\n",
    "    # 새로운 에피소드 이름 생성: 순서대로 카운트\n",
    "    episode_key = f\"success_episode{episode_counter}_steps{steps}\"\n",
    "    episode_counter += 1  # 다음 에피소드 번호 증가\n",
    "\n",
    "    # 저장 경로 생성\n",
    "    episode_dir = os.path.join(save_root, episode_key)\n",
    "    os.makedirs(episode_dir, exist_ok=True)\n",
    "\n",
    "    # 이미지 파일 복사 및 view 폴더 분류\n",
    "    for img_file in os.listdir(full_path):\n",
    "        if not img_file.endswith(\".png\"):\n",
    "            continue\n",
    "        view_match = re.match(r\"(\\w+_view)_(\\d+)\\.png\", img_file)\n",
    "        if not view_match:\n",
    "            continue\n",
    "        view_type, idx = view_match.groups()\n",
    "\n",
    "        # view별 하위 폴더 생성\n",
    "        view_folder = os.path.join(episode_dir, view_type)\n",
    "        os.makedirs(view_folder, exist_ok=True)\n",
    "\n",
    "        # 이미지 복사\n",
    "        src = os.path.join(full_path, img_file)\n",
    "        dst = os.path.join(view_folder, img_file)\n",
    "        shutil.copy2(src, dst)\n",
    "\n",
    "print(f\"[INFO] 총 {episode_counter}개의 success_episode가 '{save_root}'에 정리되었습니다.\")"
   ]
  },
  {
   "cell_type": "code",
   "execution_count": null,
   "id": "6d43c500",
   "metadata": {
    "vscode": {
     "languageId": "plaintext"
    }
   },
   "outputs": [],
   "source": [
    "import numpy as np\n",
    "from PIL import Image\n",
    "import os\n",
    "import re\n",
    "\n",
    "# === 경로 설정 ===\n",
    "traj_dir = \"/AILAB-summer-school-2025/sucess_raw/simulation_traj_0_20250806_094019_len455_success\"\n",
    "state_file = os.path.join(traj_dir, \"states_440.npz\")\n",
    "output_file = \"./success_dataset/success_episode0_steps316.npz\"  # 저장 경로\n",
    "os.makedirs(os.path.dirname(output_file), exist_ok=True)\n",
    "\n",
    "# === 1. 상태 정보 로드 ===\n",
    "data = np.load(state_file)\n",
    "save_dict = {\n",
    "    \"observation/joint_obj_gripper\": data[\"joint_obj_gripper\"],\n",
    "    \"observation/EE_pose\": data[\"EE_pose\"],\n",
    "    \"observation/torque\": data[\"torque\"]\n",
    "}\n",
    "\n",
    "# === 2. 이미지 파일 로드 및 저장용 dict 생성 ===\n",
    "for fname in sorted(os.listdir(traj_dir)):\n",
    "    if not fname.endswith(\".png\"):\n",
    "        continue\n",
    "\n",
    "    match = re.match(r\"(front|top|wrist)_view_(\\d+)\\.png\", fname)\n",
    "    if not match:\n",
    "        continue\n",
    "\n",
    "    view, idx = match.groups()\n",
    "    key = f\"img/{view}/{view}_view_{idx}\"\n",
    "\n",
    "    # 이미지 로드 및 numpy 변환\n",
    "    img_path = os.path.join(traj_dir, fname)\n",
    "    img = Image.open(img_path).convert(\"RGB\")\n",
    "    save_dict[key] = np.array(img)\n",
    "\n",
    "# === 3. 저장 ===\n",
    "np.savez_compressed(output_file, **save_dict)\n",
    "print(f\"[INFO] Saved combined npz to: {output_file}\")"
   ]
  },
  {
   "cell_type": "code",
   "execution_count": null,
   "id": "84439735",
   "metadata": {
    "vscode": {
     "languageId": "plaintext"
    }
   },
   "outputs": [],
   "source": []
  }
 ],
 "metadata": {
  "language_info": {
   "name": "python"
  }
 },
 "nbformat": 4,
 "nbformat_minor": 5
}
